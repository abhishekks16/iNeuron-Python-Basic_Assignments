{
 "cells": [
  {
   "cell_type": "markdown",
   "id": "b076c5f3-0b58-4fd9-88ec-f64067e4bad6",
   "metadata": {},
   "source": [
    "```\n",
    "1. Explain what inheritance is in object-oriented programming and why it is used.\n",
    "```"
   ]
  },
  {
   "cell_type": "code",
   "execution_count": 1,
   "id": "2ade423a-1d64-4789-af41-56a512e36459",
   "metadata": {},
   "outputs": [
    {
     "name": "stdout",
     "output_type": "stream",
     "text": [
      "\n"
     ]
    }
   ],
   "source": [
    "'''\n",
    "In object-oriented programming (OOP), inheritance is a fundamental concept that allows a class to inherit properties and behaviors from another class. \n",
    "It enables the creation of a hierarchy of classes where a subclass inherits characteristics (attributes and methods) from its superclass.\n",
    "\n",
    "Below are some advantages :\n",
    "* Code Reusability\n",
    "* Modularity and Organization\n",
    "* Polymorphism\n",
    "* Overriding and Extension\n",
    "'''\n",
    "print()"
   ]
  },
  {
   "cell_type": "markdown",
   "id": "5f97afe9-62be-4425-9078-4b19b4ffb85d",
   "metadata": {},
   "source": [
    "```\n",
    "2. Discuss the concept of single inheritance and multiple inheritance, highlighting their differences and advantages.\n",
    "```"
   ]
  },
  {
   "cell_type": "code",
   "execution_count": 2,
   "id": "749867c6-66a3-40cf-b41e-980bdfb818ce",
   "metadata": {},
   "outputs": [
    {
     "name": "stdout",
     "output_type": "stream",
     "text": [
      "\n"
     ]
    }
   ],
   "source": [
    "'''\n",
    "Single Inheritance:\n",
    "Single inheritance refers to the ability of a class to inherit from only one superclass. \n",
    "In other words, a subclass can have one and only one direct superclass. \n",
    "The subclass inherits all the attributes and behaviors of its superclass and can further extend or modify them.\n",
    "\n",
    "Advantages :\n",
    "* Simplicity\n",
    "* Clarity\n",
    "\n",
    "\n",
    "Multiple Inheritance:\n",
    "Multiple inheritance allows a class to inherit from multiple superclasses. \n",
    "In this approach, a subclass can inherit attributes and behaviors from multiple classes, combining their functionalities.\n",
    "\n",
    "Adavantages :\n",
    "* Code Reusability\n",
    "* Flexibility\n",
    "\n",
    "Disadvantages :\n",
    "* Name Conflicts\n",
    "* Complexity\n",
    "'''\n",
    "print()"
   ]
  },
  {
   "cell_type": "markdown",
   "id": "38f414d4-9231-4df2-a932-067c6244b20d",
   "metadata": {},
   "source": [
    "```\n",
    "3. Explain the terms \"base class\" and \"derived class\" in the context of inheritance.\n",
    "```"
   ]
  },
  {
   "cell_type": "code",
   "execution_count": 5,
   "id": "f3d329f0-bf79-45d7-8f06-7de3bb9b825c",
   "metadata": {},
   "outputs": [
    {
     "name": "stdout",
     "output_type": "stream",
     "text": [
      "Animals make sound\n",
      "Dog barks\n"
     ]
    }
   ],
   "source": [
    "'''\n",
    "Base Class:\n",
    "A base class, also known as a superclass or parent class, is the class from which other classes inherit properties and behaviors. \n",
    "It serves as the foundation for derived classes.\n",
    "\n",
    "Derived Class:\n",
    "A derived class, also known as a subclass or child class, is a class that inherits properties and behaviors from a base class. \n",
    "It is created by extending or inheriting the attributes and methods of the base class.\n",
    "'''\n",
    "\n",
    "# Animal is base class\n",
    "class Animal:\n",
    "    def __init__(self, name):\n",
    "        self.name = name\n",
    "        \n",
    "    def sound(self):\n",
    "        print(\"Animals make sound\")\n",
    "\n",
    "# Dog is the derived class\n",
    "class Dog(Animal):\n",
    "    def __init__(self, name):\n",
    "        super().__init__(name)\n",
    "        \n",
    "    def sound(self):\n",
    "        print(\"Dog barks\")\n",
    "        \n",
    "\n",
    "# calling base class i.e Animal\n",
    "animal =Animal(\"Generic animal\")\n",
    "animal.sound()\n",
    "\n",
    "# calling derived class i.e Dog\n",
    "dog = Dog(\"German shepord\")\n",
    "dog.sound()"
   ]
  },
  {
   "cell_type": "markdown",
   "id": "22151b1b-9b49-4f2f-89be-d51b89eb40a6",
   "metadata": {},
   "source": [
    "```\n",
    "4. What is the significance of the \"protected\" access modifier in inheritance? How does it differ from \"private\" and \"public\" modifiers?\n",
    "```"
   ]
  },
  {
   "cell_type": "code",
   "execution_count": 14,
   "id": "bc89759a-2bac-437c-96b1-a621d3ac562c",
   "metadata": {},
   "outputs": [
    {
     "name": "stdout",
     "output_type": "stream",
     "text": [
      "This is public method with name 'Public'\n",
      "This is protected method with name 'Protected'\n",
      "This is private method with name 'Private'\n"
     ]
    }
   ],
   "source": [
    "'''\n",
    "In Python , the access modifiers are Public, Protected, Private\n",
    "\n",
    "Public : The attributes and methods which are public can be used within the class, desrived class and even outside the class.\n",
    "Protected : Attributes and methods starts by single underscore '_', these can be used within the class and as well as in the derived class.\n",
    "Private : Attributes and methods starts by double underscore '__', these can be used within the class.\n",
    "\n",
    "Note : Python does not stricly restrict these access modifiers, but these are the standard followed while writing Python code.\n",
    "'''\n",
    "\n",
    "class BaseClass:\n",
    "    def __init__(self, public_name, protected_name, private_name):\n",
    "        self.public_name = public_name         # public attribute\n",
    "        self._protected_name = protected_name  # protected attribute\n",
    "        self.__private_name = private_name     # private attribute\n",
    "\n",
    "    def public_method(self):\n",
    "        print(f\"This is public method with name '{self.public_name}'\")\n",
    "    \n",
    "    def _protected_method(self):\n",
    "        print(f\"This is protected method with name '{self._protected_name}'\")\n",
    "    \n",
    "    def __private_method(self):\n",
    "        print(f\"This is private method with name '{self.__private_name}'\")\n",
    "        \n",
    "    def call_private_method_from_public(self):\n",
    "        self.__private_method()\n",
    "        \n",
    "\n",
    "class DerivedClass(BaseClass):\n",
    "    def __init__(self, public_name, protected_name, private_name):\n",
    "        super().__init__(public_name, protected_name, private_name)\n",
    "            \n",
    "    def public_method(self):\n",
    "        super().public_method()\n",
    "        \n",
    "    def protected_method(self):\n",
    "        self._protected_method()\n",
    "        \n",
    "    def call_private_method_from_public(self):\n",
    "        super().call_private_method_from_public()\n",
    "    \n",
    "    \n",
    "derived = DerivedClass(\"Public\",\"Protected\",\"Private\")\n",
    "derived.public_method()\n",
    "derived.protected_method()\n",
    "derived.call_private_method_from_public()"
   ]
  },
  {
   "cell_type": "markdown",
   "id": "a418db98-44f7-42a9-b48a-2f9d1e082780",
   "metadata": {},
   "source": [
    "```\n",
    "5. What is the purpose of the \"super\" keyword in inheritance? Provide an example.\n",
    "```"
   ]
  },
  {
   "cell_type": "code",
   "execution_count": 16,
   "id": "3c89a77e-e712-4d24-8163-b490b51bc224",
   "metadata": {},
   "outputs": [
    {
     "name": "stdout",
     "output_type": "stream",
     "text": [
      "Engine started.\n",
      "The Toyota Camry's engine is running.\n"
     ]
    }
   ],
   "source": [
    "'''\n",
    "The \"super\" keyword in Python is used to refer to the superclass or base class within a subclass.\n",
    "\n",
    "* By using the \"super\" keyword, you can call a method defined in the superclass from the subclass.\n",
    "* When creating an instance of a subclass, the \"super\" keyword can be used to invoke the constructor of the superclass.\n",
    "'''\n",
    "\n",
    "class Vehicle:\n",
    "    def __init__(self, brand):\n",
    "        self.brand = brand\n",
    "\n",
    "    def start_engine(self):\n",
    "        print(\"Engine started.\")\n",
    "\n",
    "\n",
    "class Car(Vehicle):\n",
    "    def __init__(self, brand, model):\n",
    "        super().__init__(brand)  # Invoking the super/base class constructor\n",
    "        self.model = model\n",
    "\n",
    "    def start_engine(self):\n",
    "        super().start_engine()  # Calling the super/base class method\n",
    "        print(f\"The {self.brand} {self.model}'s engine is running.\")\n",
    "\n",
    "\n",
    "car = Car(\"Toyota\", \"Camry\")\n",
    "car.start_engine()\n"
   ]
  },
  {
   "cell_type": "markdown",
   "id": "24e3a0b6-8992-4490-9ce2-e38552225b2b",
   "metadata": {},
   "source": [
    "```\n",
    "6. Create a base class called \"Vehicle\" with attributes like \"make\", \"model\", and \"year\".\n",
    "Then, create a derived class called \"Car\" that inherits from \"Vehicle\" and adds an\n",
    "attribute called \"fuel_type\". Implement appropriate methods in both classes.\n",
    "```"
   ]
  },
  {
   "cell_type": "code",
   "execution_count": 9,
   "id": "139d94d6-fa05-4ecc-8955-de8ebf28f875",
   "metadata": {},
   "outputs": [],
   "source": [
    "class Vehicle:\n",
    "    def __init__(self, make, model, year):\n",
    "        self.make = make\n",
    "        self.model = model\n",
    "        self.year = year\n",
    "        \n",
    "    def display_info(self):\n",
    "        print(f\"The car details : \")\n",
    "        print(f\"Make      : '{self.make}'\")\n",
    "        print(f\"Model     : '{self.model}'\")\n",
    "        print(f\"Year      : '{self.year}'\")\n",
    "    \n",
    "class Car(Vehicle):\n",
    "    def __init__(self, make, model, year, fuel_type):\n",
    "        super().__init__(make, model, year)\n",
    "        self.fuel_type = fuel_type\n",
    "        \n",
    "    def display_info(self):\n",
    "        super().display_info()\n",
    "        print(f\"Fule type : '{self.fuel_type}'\")"
   ]
  },
  {
   "cell_type": "code",
   "execution_count": 10,
   "id": "6cc0b278-9c8a-476f-b627-d373f8cb51bd",
   "metadata": {},
   "outputs": [
    {
     "name": "stdout",
     "output_type": "stream",
     "text": [
      "The car details : \n",
      "Make      : 'Tesla'\n",
      "Model     : 'Model S'\n",
      "Year      : '2022'\n",
      "Fule type : 'Electric'\n"
     ]
    }
   ],
   "source": [
    "car = Car(\"Tesla\", \"Model S\", 2022, \"Electric\")\n",
    "car.display_info()"
   ]
  },
  {
   "cell_type": "markdown",
   "id": "d4f5a5f1-7578-4117-82b1-9d0b3672afa1",
   "metadata": {},
   "source": [
    "```\n",
    "7. Create a base class called \"Employee\" with attributes like \"name\" and \"salary.\"\n",
    "Derive two classes, \"Manager\" and \"Developer,\" from \"Employee.\" Add an additional\n",
    "attribute called \"department\" for the \"Manager\" class and \"programming_language\"\n",
    "for the \"Developer\" class.\n",
    "```"
   ]
  },
  {
   "cell_type": "code",
   "execution_count": 26,
   "id": "0e1b7e48-0486-4954-a6bb-027e234e56f2",
   "metadata": {},
   "outputs": [],
   "source": [
    "class Employee:\n",
    "    def __init__(self, name, salary):\n",
    "        self.name = name\n",
    "        self.salary = salary\n",
    "        \n",
    "    def display_info(self):\n",
    "        print(f\"The Employee details :\")\n",
    "        print(f\"Name                 : '{self.name}'\")\n",
    "        print(f\"Salary               : '{self.salary}'\")\n",
    "    \n",
    "class Manager(Employee):\n",
    "    def __init__(self, name, salary, department):\n",
    "        super().__init__(name, salary)\n",
    "        self.department = department\n",
    "        \n",
    "    def display_info(self):\n",
    "        super().display_info()\n",
    "        print(f\"Department           : '{self.department}'\")\n",
    "        \n",
    "class Developer(Employee):\n",
    "    def __init__(self, name, salary, programming_language):\n",
    "        super().__init__(name, salary)\n",
    "        self.programming_language = programming_language\n",
    "        \n",
    "    def display_info(self):\n",
    "        super().display_info()\n",
    "        print(f\"Programming language : '{self.programming_language}'\")"
   ]
  },
  {
   "cell_type": "code",
   "execution_count": 27,
   "id": "1516e109-7cc2-496d-8edb-dd354c4a1a46",
   "metadata": {},
   "outputs": [
    {
     "name": "stdout",
     "output_type": "stream",
     "text": [
      "The Employee details :\n",
      "Name                 : 'Manohar'\n",
      "Salary               : '488764'\n",
      "Department           : 'IT'\n",
      "\n",
      "The Employee details :\n",
      "Name                 : 'Shankar'\n",
      "Salary               : '6441'\n",
      "Programming language : 'Python'\n"
     ]
    }
   ],
   "source": [
    "manager = Manager(\"Manohar\", 488764, \"IT\")\n",
    "manager.display_info()\n",
    "\n",
    "print()\n",
    "\n",
    "developer = Developer(\"Shankar\",6441,\"Python\")\n",
    "developer.display_info()"
   ]
  },
  {
   "cell_type": "markdown",
   "id": "f8385c66-a6c2-4d27-8020-349093dbdb49",
   "metadata": {},
   "source": [
    "```\n",
    "8. Design a base class called \"Shape\" with attributes like \"colour\" and \"border_width.\"\n",
    "Create derived classes, \"Rectangle\" and \"Circle,\" that inherit from \"Shape\" and add\n",
    "specific attributes like \"length\" and \"width\" for the \"Rectangle\" class and \"radius\" for\n",
    "the \"Circle\" class.\n",
    "```"
   ]
  },
  {
   "cell_type": "code",
   "execution_count": 35,
   "id": "af42c6a2-a68d-4051-841d-1eee6aa94e92",
   "metadata": {},
   "outputs": [],
   "source": [
    "class Shape:\n",
    "    def __init__(self, colour, border_width):\n",
    "        self.colour = colour\n",
    "        self.border_width = border_width\n",
    "        \n",
    "    def display_info(self):\n",
    "        print(f\"The Shape details :\")\n",
    "        print(f\"Colour            : '{self.colour}'\")\n",
    "        print(f\"Border width      : '{self.border_width}'\")\n",
    "        \n",
    "class Rectangle(Shape):\n",
    "    def __init__(self, colour, border_width, length, width):\n",
    "        super().__init__(colour, border_width)\n",
    "        self.length = length\n",
    "        self.width = width\n",
    "        \n",
    "    def display_info(self):\n",
    "        super().display_info()\n",
    "        print(f\"Length            : '{self.length}'\")\n",
    "        print(f\"Width             : '{self.width}'\")\n",
    "        \n",
    "class Circle(Shape):\n",
    "    def __init__(self, colour, border_width, radius):\n",
    "        super().__init__(colour, border_width)\n",
    "        self.radius = radius\n",
    "        \n",
    "    def display_info(self):\n",
    "        super().display_info()\n",
    "        print(f\"Radius           : '{self.radius}'\")"
   ]
  },
  {
   "cell_type": "code",
   "execution_count": 36,
   "id": "660d8824-c185-483f-a56c-38bc56465d2c",
   "metadata": {},
   "outputs": [
    {
     "name": "stdout",
     "output_type": "stream",
     "text": [
      "The Shape details :\n",
      "Colour            : 'Red'\n",
      "Border width      : '5'\n",
      "Length            : '3'\n",
      "Width             : '5'\n",
      "\n",
      "The Shape details :\n",
      "Colour            : 'Purple'\n",
      "Border width      : '12'\n",
      "Radius           : '10'\n"
     ]
    }
   ],
   "source": [
    "rectangle = Rectangle(\"Red\", 5, 3, 5)\n",
    "rectangle.display_info()\n",
    "\n",
    "print()\n",
    "circle = Circle(\"Purple\", 12, 10)\n",
    "circle.display_info()"
   ]
  },
  {
   "cell_type": "markdown",
   "id": "e393f2db-10d7-43cc-8add-5c4b06df8b5d",
   "metadata": {},
   "source": [
    "```\n",
    "9. Create a base class called \"Device\" with attributes like \"brand\" and \"model.\" Derive\n",
    "two classes, \"Phone\" and \"Tablet,\" from \"Device.\" Add specific attributes like\n",
    "\"screen_size\" for the \"Phone\" class and \"battery_capacity\" for the \"Tablet\" class.\n",
    "```"
   ]
  },
  {
   "cell_type": "code",
   "execution_count": 5,
   "id": "eb058ba7-2ac7-4655-afd6-63cd79fa08ee",
   "metadata": {},
   "outputs": [],
   "source": [
    "class Device:\n",
    "    def __init__(self, brand, model):\n",
    "        self.brand = brand\n",
    "        self.model = model\n",
    "        \n",
    "    def display_info(self):\n",
    "        print(f\"The device details :\")\n",
    "        print(f\"Brand            : '{self.brand}'\")\n",
    "        print(f\"Model            : '{self.model}'\")\n",
    "        \n",
    "class Phone(Device):\n",
    "    def __init__(self, brand, model, screen_size):\n",
    "        super().__init__(brand, model)\n",
    "        self.screen_size = screen_size\n",
    "        \n",
    "    def display_info(self):\n",
    "        super().display_info()\n",
    "        print(f\"Screen size      : '{self.screen_size}'\")\n",
    "        \n",
    "class Tablet(Device):\n",
    "    def __init__(self, brand, model, battery_capacity):\n",
    "        super().__init__(brand, model)\n",
    "        self.battery_capacity = battery_capacity\n",
    "        \n",
    "    def display_info(self):\n",
    "        super().display_info()\n",
    "        print(f\"Battery capacity : '{self.battery_capacity}'\")"
   ]
  },
  {
   "cell_type": "code",
   "execution_count": 6,
   "id": "1df05f78-2120-4605-8bc5-dc34e99a1e08",
   "metadata": {},
   "outputs": [
    {
     "name": "stdout",
     "output_type": "stream",
     "text": [
      "The device details :\n",
      "Brand            : 'Nokia'\n",
      "Model            : '1100'\n",
      "Screen size      : '2 inches'\n",
      "\n",
      "The device details :\n",
      "Brand            : 'Samsung'\n",
      "Model            : 'Note 2'\n",
      "Battery capacity : '3000 A'\n"
     ]
    }
   ],
   "source": [
    "phone = Phone(\"Nokia\", \"1100\", \"2 inches\")\n",
    "phone.display_info()\n",
    "\n",
    "print()\n",
    "tablet = Tablet(\"Samsung\", \"Note 2\", \"3000 A\")\n",
    "tablet.display_info()"
   ]
  },
  {
   "cell_type": "markdown",
   "id": "eb5e0ff4-b025-486f-acc5-33721dccf72a",
   "metadata": {},
   "source": [
    "```\n",
    "10. Create a base class called \"BankAccount\" with attributes like \"account_number\" and\n",
    "\"balance.\" Derive two classes, \"SavingsAccount\" and \"CheckingAccount,\" from\n",
    "\"BankAccount.\" Add specific methods like \"calculate_interest\" for the\n",
    "\"SavingsAccount\" class and \"deduct_fees\" for the \"CheckingAccount\" class.\n",
    "```"
   ]
  },
  {
   "cell_type": "code",
   "execution_count": 8,
   "id": "72d8a78b-a3b6-4783-892f-58e3c5184ae3",
   "metadata": {},
   "outputs": [],
   "source": [
    "class BankAccount:\n",
    "    def __init__(self, account_number, balance):\n",
    "        self.account_number = account_number\n",
    "        self.balance = balance\n",
    "        \n",
    "    def display_info(self):\n",
    "        print(f\"Account details :\")\n",
    "        print(f\"Account number : '{self.account_number}'\")\n",
    "        print(f\"Balance : '{self.balance}'\")\n",
    "        \n",
    "class SavingsAccount(BankAccount):\n",
    "    def __init__(self, account_number, balance):\n",
    "        super().__init__(account_number, balance)\n",
    "        \n",
    "    def calculate_interest(self, interest):\n",
    "        print(f\"For account '{self.account_number}', adding interest of '{interest}%' to the balance '{self.balance}'\")\n",
    "        interest_amount = (self.balance / 100) * interest\n",
    "        self.balance += interest_amount\n",
    "        super().display_info()\n",
    "    \n",
    "class CheckingAccount(BankAccount):\n",
    "    def __init__(self, account_number, balance):\n",
    "        super().__init__(account_number, balance)\n",
    "        \n",
    "    def deduct_fees(self, deduct_amount):\n",
    "        if self.balance >= deduct_amount:\n",
    "            print(f\"For account '{self.account_number}' deducting amount of '{deduct_amount}' from the balance '{self.balance}'\")\n",
    "            self.balance -= deduct_amount\n",
    "            super().display_info()\n",
    "        else:\n",
    "            print(\"Insufficient balance to deduct fees\")"
   ]
  },
  {
   "cell_type": "code",
   "execution_count": 12,
   "id": "7b48ba7f-20db-4c3e-bc3b-af00ef06fcf1",
   "metadata": {},
   "outputs": [
    {
     "name": "stdout",
     "output_type": "stream",
     "text": [
      "For account '6745646', adding interest of '5%' to the balance '2000'\n",
      "Account details :\n",
      "Account number : '6745646'\n",
      "Balance : '2100.0'\n",
      "\n",
      "For account '7979776' deducting amount of '400' from the balance '3000'\n",
      "Account details :\n",
      "Account number : '7979776'\n",
      "Balance : '2600'\n",
      "\n",
      "Insufficient balance to deduct fees\n"
     ]
    }
   ],
   "source": [
    "savings_account = SavingsAccount(6745646, 2000)\n",
    "savings_account.calculate_interest(5)\n",
    "\n",
    "print()\n",
    "checking_account = CheckingAccount(7979776, 3000)\n",
    "checking_account.deduct_fees(400)\n",
    "\n",
    "print()\n",
    "checking_account = CheckingAccount(768656, 3000)\n",
    "checking_account.deduct_fees(4000)"
   ]
  },
  {
   "cell_type": "code",
   "execution_count": null,
   "id": "8002e98d-26e1-40f6-a745-1946742f82e4",
   "metadata": {},
   "outputs": [],
   "source": []
  }
 ],
 "metadata": {
  "kernelspec": {
   "display_name": "Python 3 (ipykernel)",
   "language": "python",
   "name": "python3"
  },
  "language_info": {
   "codemirror_mode": {
    "name": "ipython",
    "version": 3
   },
   "file_extension": ".py",
   "mimetype": "text/x-python",
   "name": "python",
   "nbconvert_exporter": "python",
   "pygments_lexer": "ipython3",
   "version": "3.10.6"
  }
 },
 "nbformat": 4,
 "nbformat_minor": 5
}
