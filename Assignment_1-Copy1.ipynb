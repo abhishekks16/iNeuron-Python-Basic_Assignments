{
 "cells": [
  {
   "cell_type": "markdown",
   "id": "09e06af6-3592-43a9-9be7-2eeb94ac949b",
   "metadata": {},
   "source": [
    "Assignment link : https://drive.google.com/file/d/1RjQBjq90BeqNuon_JUlrih7Tnda732cs/view"
   ]
  },
  {
   "cell_type": "markdown",
   "id": "e1a57737-80de-4544-bf38-23856a6aae8e",
   "metadata": {},
   "source": [
    "1. In the below elements which of them are values or an expression? eg:- values can be\n",
    "integer or string and expressions will be mathematical operators.\n",
    "```\n",
    "* --> Expression\n",
    "'hello' --> Values\n",
    "-87.8 --> Values\n",
    "- --> Expression\n",
    "/ --> Expression\n",
    "+ --> Expression\n",
    "6 --> Values\n",
    "```"
   ]
  },
  {
   "cell_type": "markdown",
   "id": "01439f75-5d6e-4e41-b3ea-42319de6dae8",
   "metadata": {},
   "source": [
    "2. What is the difference between string and variable?\n",
    "\n",
    "* String : It is a value assigned to some variable. String can be in between single/double quote, can change during runtime.\n",
    "* Variable : This is name which holds the data in memory, can't be changed during runtime. "
   ]
  },
  {
   "cell_type": "markdown",
   "id": "01dedf73-148a-4e64-ac72-a17ef8ba74f0",
   "metadata": {},
   "source": [
    "3. Describe three different data types.\n",
    "\n",
    "* int  -> Integer, which is number \n",
    "* str  -> String, Any string data\n",
    "* bool -> Boolean -> True/False"
   ]
  },
  {
   "cell_type": "code",
   "execution_count": 4,
   "id": "15071d96-dc46-42c4-bf8c-fd255d10f3e1",
   "metadata": {},
   "outputs": [
    {
     "name": "stdout",
     "output_type": "stream",
     "text": [
      "<class 'int'>\n",
      "<class 'str'>\n",
      "<class 'bool'>\n"
     ]
    }
   ],
   "source": [
    "a = 10 \n",
    "b = \"hi\"\n",
    "c = True\n",
    "print(type(a))\n",
    "print(type(b))\n",
    "print(type(c))"
   ]
  },
  {
   "cell_type": "markdown",
   "id": "334828b3-0d9a-43e7-b9a8-a5a9ed8da19b",
   "metadata": {},
   "source": [
    "4. What is an expression made up of? What do all expressions do?\n",
    "* A combination of operands and operators is called an expression.\n",
    "* An expressions can do various operations like airthmetic operations , ex : a = 2 b = 3 , print(a + b) --> 5 , Logical, Comparsion, Bitwise etc\n"
   ]
  },
  {
   "cell_type": "markdown",
   "id": "aec5a1af-0ba2-4882-b1e5-46f4cb8209b7",
   "metadata": {},
   "source": [
    "5. This assignment statements, like spam = 10. What is the difference between an expression and a statement?\n",
    "* A statement is not evaluated for some results. Ex = spam = 10\n",
    "* An expression is evaluated for some results. ex : a = 2 b = 3 , print(a == b) --> False "
   ]
  },
  {
   "cell_type": "markdown",
   "id": "a671a48d-ea5d-4f5f-820c-c1f3e9869ae7",
   "metadata": {},
   "source": [
    "6. After running the following code, what does the variable bacon contain?\n",
    "```\n",
    "bacon = 22\n",
    "bacon + 1\n",
    "```\n",
    "\n",
    "``` bacon contains 22, if the second line is bacon += 1 => Then the bacon contains 23```"
   ]
  },
  {
   "cell_type": "markdown",
   "id": "89ed8fad-67c6-41f1-be90-3678c48d6d20",
   "metadata": {},
   "source": [
    "7. What should the values of the following two terms be?\n",
    "```\n",
    "'spam' + 'spamspam'\n",
    "'spam' * 3\n",
    "```\n",
    "\n",
    "```'spam' + 'spamspam'  => 'spamspamspam' ==> This is appents two strings```\n",
    "\n",
    "``` 'spam' * 3 ==> 'spamspamspam' ==> Appends `spam` three times  ```"
   ]
  },
  {
   "cell_type": "markdown",
   "id": "20bbe646-bacc-4d2d-ac0c-5d36734e3dad",
   "metadata": {},
   "source": [
    "8. Why is eggs a valid variable name while 100 is invalid?\n",
    "\n",
    "``` eggs => It is not reserved keyword and varibale can be anything should start with letter```\n",
    "\n",
    "``` 100 => variable should not start with digits, can be valid if it is _100```"
   ]
  },
  {
   "cell_type": "code",
   "execution_count": null,
   "id": "81278dfe-e131-4a9f-b1ba-2d04f99a4aac",
   "metadata": {},
   "outputs": [
    {
     "data": {
      "text/plain": [
       "'I have eaten 99 burritos.'"
      ]
     },
     "execution_count": 3,
     "metadata": {},
     "output_type": "execute_result"
    }
   ],
   "source": [
    "'I have eaten ' + '99' + ' burritos.'"
   ]
  },
  {
   "cell_type": "code",
   "execution_count": null,
   "id": "1fb5773c-143a-4172-adeb-ee44ff649491",
   "metadata": {},
   "outputs": [],
   "source": []
  }
 ],
 "metadata": {
  "kernelspec": {
   "display_name": "Python 3 (ipykernel)",
   "language": "python",
   "name": "python3"
  },
  "language_info": {
   "codemirror_mode": {
    "name": "ipython",
    "version": 3
   },
   "file_extension": ".py",
   "mimetype": "text/x-python",
   "name": "python",
   "nbconvert_exporter": "python",
   "pygments_lexer": "ipython3",
   "version": "3.10.6"
  }
 },
 "nbformat": 4,
 "nbformat_minor": 5
}
