{
 "cells": [
  {
   "cell_type": "markdown",
   "id": "43577352-4a08-4ba7-90bd-3f6b2addc40e",
   "metadata": {},
   "source": [
    "```\n",
    "1. In Python, what is the difference between a built-in function and a user-defined function? Provide an example of each.\n",
    "```"
   ]
  },
  {
   "cell_type": "code",
   "execution_count": 2,
   "id": "ec154dba-1a70-40ad-a7ea-a3b4bdeddd40",
   "metadata": {},
   "outputs": [
    {
     "name": "stdout",
     "output_type": "stream",
     "text": [
      "print is built-in function \n",
      "\n",
      "Sum of 10 and 20 is 30\n"
     ]
    }
   ],
   "source": [
    "'''\n",
    "Built-in functions : Built-in functions are functions which comes along with the Pythjon library, here these contains all tyhe logic.\n",
    "All we need to do is, call the function and pass the required parameters.\n",
    "'''\n",
    "\n",
    "print(\"print is built-in function \\n\")\n",
    "\n",
    "'''\n",
    "user-defined function : user-defined functions are functions which are custom function written by user to achieve some functionality.\n",
    "'''\n",
    "\n",
    "def sum_of_two_numbers(number1, number2):\n",
    "    print(f\"Sum of {number1} and {number2} is {number1 + number2}\")\n",
    "    \n",
    "sum_of_two_numbers(10,20)"
   ]
  },
  {
   "cell_type": "markdown",
   "id": "acb257da-2903-429f-9aa1-5e5acc5c0696",
   "metadata": {},
   "source": [
    "```\n",
    "2.How can you pass arguments to a function in Python? Explain the difference between positional arguments and keyword arguments.\n",
    "```"
   ]
  },
  {
   "cell_type": "code",
   "execution_count": 5,
   "id": "d9ee3af6-d5cb-482e-b430-46fe589268ec",
   "metadata": {},
   "outputs": [
    {
     "name": "stdout",
     "output_type": "stream",
     "text": [
      "Passed number is 10 and name is Hello Ram\n",
      "Passed number is Hi Ram and name is 30\n",
      "\n",
      "Passed number is 10 and name is Hello Ram\n",
      "Passed number is 30 and name is Hi Ram\n"
     ]
    }
   ],
   "source": [
    "'''\n",
    "We can pass the arguments to function within the parenthisis which is next to functiion name .\n",
    "i.e function_name (argument_1, argument_2):\n",
    "'''\n",
    "\n",
    "'''\n",
    "positional arguments : Arguments are passed in the order of parameters. The order defined in the order function declaration.\n",
    "'''\n",
    "\n",
    "def pos_arg_exp(number, name):\n",
    "    print(f\"Passed number is {number} and name is {name}\")\n",
    "    \n",
    "pos_arg_exp(10,\"Hello Ram\")\n",
    "\n",
    "pos_arg_exp(\"Hi Ram\",30)\n",
    "\n",
    "print()\n",
    "\n",
    "\n",
    "'''\n",
    "positional arguments : Arguments are passed with keywords.\n",
    "'''\n",
    "\n",
    "def pos_arg_exp(number, name):\n",
    "    print(f\"Passed number is {number} and name is {name}\")\n",
    "    \n",
    "pos_arg_exp(number = 10, name = \"Hello Ram\")\n",
    "\n",
    "pos_arg_exp(name = \"Hi Ram\", number=30)"
   ]
  },
  {
   "cell_type": "markdown",
   "id": "a325e6f5-c6f9-41c0-b589-53999f5936a5",
   "metadata": {},
   "source": [
    "```\n",
    "3. What is the purpose of the return statement in a function? Can a function have multiple return statements? Explain with an example.\n",
    "```"
   ]
  },
  {
   "cell_type": "code",
   "execution_count": 4,
   "id": "47ec75ba-066c-4633-8a80-4d9f37f88500",
   "metadata": {},
   "outputs": [
    {
     "name": "stdout",
     "output_type": "stream",
     "text": [
      "The provided number is Negative\n",
      "\n",
      "The provided number is Positive\n",
      "\n",
      "The provided number is Zero\n",
      "\n"
     ]
    }
   ],
   "source": [
    "'''\n",
    "The return statement is used to return the result/data from the function.\n",
    "Yes, we can have multiple return statements . But only one return statement will get executed.\n",
    "'''\n",
    "\n",
    "def check_number(number):\n",
    "    if number > 0:\n",
    "        return \"Positive\"\n",
    "    elif number < 0:\n",
    "        return \"Negative\"\n",
    "    else:\n",
    "        return \"Zero\"\n",
    "    \n",
    "result = check_number(-10)\n",
    "print(f\"The provided number is {result}\\n\")\n",
    "\n",
    "result = check_number(10)\n",
    "print(f\"The provided number is {result}\\n\")\n",
    "\n",
    "result = check_number(0)\n",
    "print(f\"The provided number is {result}\\n\")"
   ]
  },
  {
   "cell_type": "markdown",
   "id": "a1d0bdb2-4691-4d8c-8eba-a3f011c4fbdc",
   "metadata": {},
   "source": [
    "```\n",
    "4. What are lambda functions in Python? How are they different from regular functions? Provide an example where a lambda function can be useful.\n",
    "```"
   ]
  },
  {
   "cell_type": "code",
   "execution_count": 2,
   "id": "6122e7c7-4bfc-4c85-bcf4-ffd0ea20e8b8",
   "metadata": {},
   "outputs": [
    {
     "name": "stdout",
     "output_type": "stream",
     "text": [
      "15\n"
     ]
    }
   ],
   "source": [
    "'''\n",
    "Lambda functions are also called as anonymous functions.  These are kind of short hand functions which are useful for small operations.\n",
    "Here functions do not require \"def\" keyword.\n",
    "Syntax :  lambda aruguments : expressions\n",
    "'''\n",
    "\n",
    "add_num = lambda num1 , num2 : num1 + num2\n",
    "\n",
    "result_sum = add_num(5,10)\n",
    "print(result_sum)"
   ]
  },
  {
   "cell_type": "markdown",
   "id": "20c93ca8-dcd9-4595-89ab-b9fbf4591cf0",
   "metadata": {},
   "source": [
    "```\n",
    "5. How does the concept of \"scope\" apply to functions in Python? Explain the difference between local scope and global scope.\n",
    "```"
   ]
  },
  {
   "cell_type": "code",
   "execution_count": 7,
   "id": "f7ff9cf3-4b36-49a4-9a18-471a0b379550",
   "metadata": {},
   "outputs": [
    {
     "name": "stdout",
     "output_type": "stream",
     "text": [
      "Value outside function is 10\n",
      "Value inside function is 10\n",
      "Global Value inside function is 20\n",
      "Value outside function is 20\n",
      "This is local variable : 10\n"
     ]
    },
    {
     "ename": "NameError",
     "evalue": "name 'loc_value' is not defined",
     "output_type": "error",
     "traceback": [
      "\u001b[0;31m---------------------------------------------------------------------------\u001b[0m",
      "\u001b[0;31mNameError\u001b[0m                                 Traceback (most recent call last)",
      "Cell \u001b[0;32mIn [7], line 35\u001b[0m\n\u001b[1;32m     32\u001b[0m     \u001b[38;5;28mprint\u001b[39m(\u001b[38;5;124mf\u001b[39m\u001b[38;5;124m\"\u001b[39m\u001b[38;5;124mThis is local variable : \u001b[39m\u001b[38;5;132;01m{\u001b[39;00mloc_value\u001b[38;5;132;01m}\u001b[39;00m\u001b[38;5;124m\"\u001b[39m)\n\u001b[1;32m     34\u001b[0m local_func()\n\u001b[0;32m---> 35\u001b[0m \u001b[38;5;28mprint\u001b[39m(\u001b[38;5;124mf\u001b[39m\u001b[38;5;124m\"\u001b[39m\u001b[38;5;124mThis is local variable access outside function : \u001b[39m\u001b[38;5;132;01m{\u001b[39;00mloc_value\u001b[38;5;132;01m}\u001b[39;00m\u001b[38;5;124m\"\u001b[39m)\n",
      "\u001b[0;31mNameError\u001b[0m: name 'loc_value' is not defined"
     ]
    }
   ],
   "source": [
    "'''\n",
    "global scope : The scope/accessability of this varibale is inside function and as well as outside of function\n",
    "'''\n",
    "\n",
    "value = 10\n",
    "\n",
    "def glob_func():\n",
    "    print(f\"Value inside function is {value}\")\n",
    "\n",
    "print(f\"Value outside function is {value}\")\n",
    "\n",
    "glob_func()\n",
    "\n",
    "\n",
    "def glob_func_new():\n",
    "    global value_new\n",
    "    value_new = 20\n",
    "    print(f\"Global Value inside function is {value_new}\")\n",
    "\n",
    "glob_func_new()\n",
    "\n",
    "print(f\"Value outside function is {value_new}\")\n",
    "\n",
    "\n",
    "\n",
    "'''\n",
    "local scope : the scope of the varaibles are limited just inside the function\n",
    "'''\n",
    "\n",
    "def local_func():\n",
    "    loc_value = 10\n",
    "    print(f\"This is local variable : {loc_value}\")\n",
    "\n",
    "local_func()\n",
    "print(f\"This is local variable access outside function : {loc_value}\")"
   ]
  },
  {
   "cell_type": "markdown",
   "id": "950b7681-afb1-4da3-a32b-c55346c1e3e1",
   "metadata": {},
   "source": [
    "```\n",
    "6. How can you use the \"return\" statement in a Python function to return multiple values?\n",
    "```"
   ]
  },
  {
   "cell_type": "code",
   "execution_count": 25,
   "id": "07e27528-4c39-48fd-ae0b-1694736af745",
   "metadata": {},
   "outputs": [
    {
     "name": "stdout",
     "output_type": "stream",
     "text": [
      "(20, 'Test name value')\n",
      "(10, 'Test name')\n",
      "[10, 'Test list name']\n",
      "{'num': 10, 'str_data': 'Test dict name'}\n"
     ]
    }
   ],
   "source": [
    "'''\n",
    "return statement can be used with return keyword followed by value to be return.\n",
    "\n",
    "Syntax : return <Data to be returned>\n",
    "\n",
    "Multiple return values can be using Tuple, List, Dictionary\n",
    "'''\n",
    "\n",
    "# return multiple values\n",
    "def func_Values():\n",
    "    value = 20\n",
    "    name = \"Test name value\"\n",
    "    \n",
    "    return value, name\n",
    "\n",
    "values_result = func_Values()\n",
    "\n",
    "print(values_result)\n",
    "\n",
    "\n",
    "# return multiple values using Tuple\n",
    "def Tup_Func():\n",
    "    value = 10\n",
    "    name = \"Test name\"\n",
    "    \n",
    "    return(value, name)\n",
    "\n",
    "tup_result = Tup_Func()\n",
    "\n",
    "print(tup_result)\n",
    "\n",
    "# return multiple values using List\n",
    "def List_Func():\n",
    "    list_data = []\n",
    "    list_data.append(10)\n",
    "    list_data.append(\"Test list name\")\n",
    "    \n",
    "    return list_data\n",
    "\n",
    "list_result = List_Func()\n",
    "\n",
    "print(list_result)\n",
    "\n",
    "# return multiple values using Dictionary\n",
    "def Dict_Func():\n",
    "    dict_data = {}\n",
    "    dict_data[\"num\"] = 10\n",
    "    dict_data[\"str_data\"] = \"Test dict name\"\n",
    "    \n",
    "    return dict_data\n",
    "\n",
    "dict_result = Dict_Func()\n",
    "\n",
    "print(dict_result)"
   ]
  },
  {
   "cell_type": "markdown",
   "id": "d627b17a-da8b-48ac-8baa-193f2b81ab17",
   "metadata": {},
   "source": [
    "```\n",
    "7. What is the difference between the \"pass by value\" and \"pass by reference\" concepts when it\n",
    "comes to function arguments in Python?\n",
    "```"
   ]
  },
  {
   "cell_type": "code",
   "execution_count": 2,
   "id": "a6dd17f7-b893-4573-8143-995625259e2d",
   "metadata": {},
   "outputs": [
    {
     "name": "stdout",
     "output_type": "stream",
     "text": [
      "5\n",
      "['Apple', 'Banana', 'Orange']\n"
     ]
    }
   ],
   "source": [
    "'''\n",
    "Python uses a mechanism \"pass by object reference\", not exactly \"pass by value\" or \"pass by reference\"\n",
    "\n",
    "\"pass by value\": pass any variable as an argument, the value of that parameter is copied and passed to the function.\n",
    "If any changes made to that argument does not affect the original variable.\n",
    "For immutable objects (e.g., integers, strings, tuples), the behavior is similar to \"pass by value.\"\n",
    "\n",
    "\"pass by reference\": The reference of the parameter is passed to the function, any changes made to this variabe \n",
    "inside the function will modify the original variable as well.\n",
    "For mutable objects (e.g., lists, dictionaries, custom objects), the behavior is closer to \"pass by reference.\"\n",
    "'''\n",
    "\n",
    "# \"pass by value\"\n",
    "def myFunction_value(num):\n",
    "    num =+ 1\n",
    "    \n",
    "value = 5\n",
    "myFunction_value(value)\n",
    "print(value)\n",
    "\n",
    "\n",
    "# \"pass by reference\"\n",
    "def myFunction_ref(list_fruits):\n",
    "    list_fruits.append(\"Orange\")\n",
    "\n",
    "fruits = [\"Apple\",\"Banana\"]\n",
    "myFunction_ref(fruits)\n",
    "print(fruits)\n"
   ]
  },
  {
   "cell_type": "markdown",
   "id": "90267819-c636-4a0a-bdbc-140840adbcc9",
   "metadata": {},
   "source": [
    "```\n",
    "8. Create a function that can intake integer or decimal value and do following operations:\n",
    "a. Logarithmic function (log x)\n",
    "b. Exponential function (exp(x))\n",
    "c. Power function with base 2 (2x)\n",
    "d. Square root\n",
    "```"
   ]
  },
  {
   "cell_type": "code",
   "execution_count": 6,
   "id": "f5c6a522-ca22-4217-a4b6-cc3c9cf0102e",
   "metadata": {},
   "outputs": [
    {
     "data": {
      "text/plain": [
       "{'Logarithmic': 3.2188758248682006,\n",
       " 'Exponential': 72004899337.38588,\n",
       " 'Power': 33554432.0,\n",
       " 'SquareRoot': 5.0}"
      ]
     },
     "execution_count": 6,
     "metadata": {},
     "output_type": "execute_result"
    }
   ],
   "source": [
    "import math\n",
    "def math_function(num):\n",
    "    # Logarithmic\n",
    "    log_res = math.log(num)\n",
    "    \n",
    "    # Exponential\n",
    "    exp_res = math.exp(num)\n",
    "    \n",
    "    # Power function with base 2 (2x)\n",
    "    pow_res = math.pow(2,num)\n",
    "    \n",
    "    # Square root\n",
    "    sqrt_res = math.sqrt(num)\n",
    "    \n",
    "    return { \"Logarithmic\" : log_res, \"Exponential\" : exp_res , \"Power\" : pow_res , \"SquareRoot\" : sqrt_res }\n",
    "         \n",
    "math_function(25)"
   ]
  },
  {
   "cell_type": "markdown",
   "id": "6753bcc3-ea46-4468-ad2e-a45e8a343532",
   "metadata": {},
   "source": [
    "```\n",
    "9. Create a function that takes a full name as an argument and returns first name and last name.\n",
    "```"
   ]
  },
  {
   "cell_type": "code",
   "execution_count": 7,
   "id": "f9fa9eb2-01d6-4c45-b81f-e620d0341d62",
   "metadata": {},
   "outputs": [
    {
     "data": {
      "text/plain": [
       "{'FirstName': 'Joe', 'LastName': 'Bob'}"
      ]
     },
     "execution_count": 7,
     "metadata": {},
     "output_type": "execute_result"
    }
   ],
   "source": [
    "def Func_SplitName(fullName):\n",
    "    names = fullName.split()\n",
    "    firstName = names[0]\n",
    "    lastName = names[-1]\n",
    "    \n",
    "    return {\"FirstName\" : firstName , \"LastName\" : lastName }\n",
    "\n",
    "\n",
    "Func_SplitName(\"Joe De Bob\")"
   ]
  },
  {
   "cell_type": "code",
   "execution_count": null,
   "id": "b33d704f-366b-4020-959f-3edb2314dda8",
   "metadata": {},
   "outputs": [],
   "source": []
  }
 ],
 "metadata": {
  "kernelspec": {
   "display_name": "Python 3 (ipykernel)",
   "language": "python",
   "name": "python3"
  },
  "language_info": {
   "codemirror_mode": {
    "name": "ipython",
    "version": 3
   },
   "file_extension": ".py",
   "mimetype": "text/x-python",
   "name": "python",
   "nbconvert_exporter": "python",
   "pygments_lexer": "ipython3",
   "version": "3.10.6"
  }
 },
 "nbformat": 4,
 "nbformat_minor": 5
}
