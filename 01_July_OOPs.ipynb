{
 "cells": [
  {
   "cell_type": "markdown",
   "id": "26a2b5d6-d1c6-4468-9cc3-932ad1883e1d",
   "metadata": {},
   "source": [
    "```\n",
    "1. What is the primary goal of Object-Oriented Programming (OOP)?\n",
    "```"
   ]
  },
  {
   "cell_type": "code",
   "execution_count": null,
   "id": "67b7d82b-9065-453e-b08e-d64bdeff7eea",
   "metadata": {},
   "outputs": [],
   "source": [
    "'''\n",
    "Object oriented programming language is based on classes and object. It is used to structure a program into a simple, reusable piece of code.\n",
    "The entire software program runs by having multiple objects interact with objects to create large programs.\n",
    "'''"
   ]
  },
  {
   "cell_type": "markdown",
   "id": "cb7adbd0-ae95-4c3b-ae6d-0c1e9d429443",
   "metadata": {},
   "source": [
    "```\n",
    "2. What is an object in Python?\n",
    "```"
   ]
  },
  {
   "cell_type": "code",
   "execution_count": 9,
   "id": "c5c94e0e-070d-4c88-b31b-697e75d1cc79",
   "metadata": {},
   "outputs": [],
   "source": [
    "''' \n",
    "The object in Object-Oriented Programming (OOP) represent the instance of the class. It's an combination attributes or properties and functions or methods that operate on that data.\n",
    "In other words, when we say an object is created it means an instance of the class is created.\n",
    "'''\n",
    "\n",
    "class Person():\n",
    "    def __init__(self, name, age):\n",
    "        # Attributes/Properties\n",
    "        self.name = name\n",
    "        self.age = age\n",
    "        \n",
    "    # Funtion/method    \n",
    "    def display_info(self):\n",
    "        print(f\"The person name is '{self.name}' and age is '{self.age}'\")"
   ]
  },
  {
   "cell_type": "code",
   "execution_count": 11,
   "id": "d5e9032d-d7e3-4479-8d89-bb0311857949",
   "metadata": {},
   "outputs": [
    {
     "name": "stdout",
     "output_type": "stream",
     "text": [
      "The person name is 'John' and age is '25'\n"
     ]
    }
   ],
   "source": [
    "# here, person is an object\n",
    "person = Person(\"John\",25)\n",
    "person.display_info()"
   ]
  },
  {
   "cell_type": "markdown",
   "id": "8a2eb01a-eeb8-40da-9835-67a0f3d00921",
   "metadata": {},
   "source": [
    "```\n",
    "3. What is a class in Python?\n",
    "```"
   ]
  },
  {
   "cell_type": "code",
   "execution_count": 12,
   "id": "37c8c9e6-2580-477c-8d54-e4e9e6507f00",
   "metadata": {},
   "outputs": [],
   "source": [
    "'''\n",
    "Class is an blueprint for creating the objects. It defines the common attributes (data) and behaviors (methods) that objects of that class will possess.\n",
    "'''\n",
    "\n",
    "# Below is the example for Person class\n",
    "class Person():\n",
    "    def __init__(self, name, age):\n",
    "        # Attributes/Properties\n",
    "        self.name = name\n",
    "        self.age = age\n",
    "        \n",
    "    # Funtion/method    \n",
    "    def display_info(self):\n",
    "        print(f\"The person name is '{self.name}' and age is '{self.age}'\")"
   ]
  },
  {
   "cell_type": "code",
   "execution_count": 13,
   "id": "635cea28-ee1a-4ece-a481-3c3e697ce5ca",
   "metadata": {},
   "outputs": [
    {
     "name": "stdout",
     "output_type": "stream",
     "text": [
      "The person name is 'John' and age is '25'\n"
     ]
    }
   ],
   "source": [
    "# here, person is an object\n",
    "person = Person(\"John\",25)\n",
    "person.display_info()"
   ]
  },
  {
   "cell_type": "markdown",
   "id": "d799cdd5-eda2-4a59-97d1-bd414dbec943",
   "metadata": {},
   "source": [
    "```\n",
    "4. What are attributes and methods in a class?\n",
    "```"
   ]
  },
  {
   "cell_type": "code",
   "execution_count": 14,
   "id": "ed1db6b4-9e88-4d5b-a21e-f1352850fd43",
   "metadata": {},
   "outputs": [],
   "source": [
    "'''\n",
    "Attributes: Attributes are the variables or data associated with a class.\n",
    "Methods: Methods are functions defined within a class that define the behavior of objects created from that class.\n",
    "'''\n",
    "\n",
    "# Below is the example for Person class\n",
    "class Person():\n",
    "    def __init__(self, name, age):\n",
    "        # Attributes/Properties\n",
    "        self.name = name\n",
    "        self.age = age\n",
    "        \n",
    "    # Funtion/method    \n",
    "    def display_info(self):\n",
    "        print(f\"The person name is '{self.name}' and age is '{self.age}'\")"
   ]
  },
  {
   "cell_type": "markdown",
   "id": "6da879da-e641-4dac-bd43-bd1bcf38595d",
   "metadata": {},
   "source": [
    "```\n",
    "5. What is the difference between class variables and instance variables in Python\n",
    "```"
   ]
  },
  {
   "cell_type": "code",
   "execution_count": 16,
   "id": "4201880d-a5e7-499c-b710-6fba02a41dcf",
   "metadata": {},
   "outputs": [],
   "source": [
    "'''\n",
    "Class Variables:\n",
    "* Class variables are variables that are shared among all instances (objects) of a class. They are defined within the class but outside any methods.\n",
    "* Class variables are declared at the class level and are the same for all instances of the class.\n",
    "* They are accessed using the class name itself or through any instance of the class.\n",
    "* Class variables are useful when you want to store data that is common to all objects of the class.\n",
    "* Class variables are shared by all instances, so modifying the value of a class variable affects all instances of the class.\n",
    "* Class variables are defined outside the constructor or any instance methods.\n",
    "'''\n",
    "\n",
    "class Car:\n",
    "    wheels = 4  # Class variable\n",
    "\n",
    "    def __init__(self, brand, model):\n",
    "        self.brand = brand\n",
    "        self.model = model\n",
    "\n",
    "'''\n",
    "Instance Variables:\n",
    "* Instance variables are variables that are unique to each instance (object) of a class. They are defined within the constructor or any instance methods.\n",
    "* Instance variables are specific to each object and hold different values for different objects.\n",
    "* They are accessed and modified using the self keyword within instance methods or through specific object instances.\n",
    "* Instance variables are useful for storing data that varies between different instances of a class.\n",
    "* Each instance of a class has its own copy of instance variables, and modifying them does not affect other instances.\n",
    "'''\n",
    "\n",
    "class Car:\n",
    "    def __init__(self, brand, model):\n",
    "        self.brand = brand  # Instance variable\n",
    "        self.model = model  # Instance variable"
   ]
  },
  {
   "cell_type": "markdown",
   "id": "2f8287c0-e492-47ae-9ba3-d7dfbf8f22be",
   "metadata": {},
   "source": [
    "```\n",
    "6. What is the purpose of the self parameter in Python class methods?\n",
    "```"
   ]
  },
  {
   "cell_type": "code",
   "execution_count": 20,
   "id": "edbdba91-f895-4bae-845a-6e93940f4753",
   "metadata": {},
   "outputs": [],
   "source": [
    "'''\n",
    "The self parameter is a reference to the current instance of the class and is used to access variables that belong to that class. \n",
    "It is an first parameter of any function in the class\n",
    "There is no hard rule to specify it as \"self\", we can call it whatever we want. But it is suggested as good practice to use as self.\n",
    "'''\n",
    "\n",
    "class Person():\n",
    "    # Here using as self\n",
    "    def __init__(self, name, age):\n",
    "        self.name = name\n",
    "        self.age = age\n",
    "        \n",
    "    # Using \"myself\" instead of \"self\" which is working fine.    \n",
    "    def display_info(myself):\n",
    "        print(f\"The person name is '{myself.name}' and age is '{myself.age}'\")"
   ]
  },
  {
   "cell_type": "code",
   "execution_count": 21,
   "id": "ac7bc52c-fb3d-4499-b10b-441e5651e9a7",
   "metadata": {},
   "outputs": [
    {
     "name": "stdout",
     "output_type": "stream",
     "text": [
      "The person name is 'John' and age is '25'\n"
     ]
    }
   ],
   "source": [
    "person = Person(\"John\",25)\n",
    "person.display_info()"
   ]
  },
  {
   "cell_type": "markdown",
   "id": "663da7b1-46e8-41a1-93ae-ce0e159df997",
   "metadata": {},
   "source": [
    "```\n",
    "7. For a library management system, you have to design the \"Book\" class with OOP\n",
    "principles in mind. The “Book” class will have following attributes:\n",
    "    a. title: Represents the title of the book.\n",
    "    b. author: Represents the author(s) of the book.\n",
    "    c. isbn: Represents the ISBN (International Standard Book Number) of the book.\n",
    "    d. publication_year: Represents the year of publication of the book.\n",
    "    e. available_copies: Represents the number of copies available for checkout.\n",
    "    \n",
    "The class will also include the following methods:\n",
    "    a. check_out(self): Decrements the available copies by one if there are copies\n",
    "    available for checkout.\n",
    "    b. return_book(self): Increments the available copies by one when a book is\n",
    "    returned.\n",
    "    c. display_book_info(self): Displays the information about the book, including its\n",
    "    attributes and the number of available copies.\n",
    "```"
   ]
  },
  {
   "cell_type": "code",
   "execution_count": 29,
   "id": "46e4f874-3f7b-4d33-a87f-26d254a1b09e",
   "metadata": {},
   "outputs": [],
   "source": [
    "class Book:\n",
    "    def __init__(self, title, author, isbn, publication_year, available_copies):\n",
    "        self.title = title\n",
    "        self.author = author\n",
    "        self.isbn = isbn\n",
    "        self.publication_year = publication_year\n",
    "        self.available_copies = available_copies\n",
    "        \n",
    "    def check_out(self):\n",
    "        if self.available_copies > 0 :\n",
    "            self.available_copies -= 1\n",
    "            print(f\"Successfully checked out the book '{self.title}'\")\n",
    "        else:\n",
    "            print(f\"Cannot check out, because no copies available for book '{self.title}'\")\n",
    "            \n",
    "    def return_book(self):\n",
    "        self.available_copies += 1\n",
    "        print(f\"Successfully returned the book '{self.title}'\")\n",
    "        \n",
    "    def display_book_info(self):\n",
    "        print(\"Below is the book details:\")\n",
    "        print(f\"Title : {self.title}\")\n",
    "        print(f\"Author : {self.author}\")\n",
    "        print(f\"ISBN : {self.isbn}\")\n",
    "        print(f\"Publication year : {self.publication_year}\")\n",
    "        print(f\"Available copies : {self.available_copies}\")"
   ]
  },
  {
   "cell_type": "code",
   "execution_count": 30,
   "id": "f2231eec-0a18-4e8d-b499-8351c96adca8",
   "metadata": {},
   "outputs": [
    {
     "name": "stdout",
     "output_type": "stream",
     "text": [
      "Successfully checked out the book 'Harry potter'\n",
      "Successfully checked out the book 'Harry potter'\n",
      "\n",
      "Successfully returned the book 'Harry potter'\n",
      "\n",
      "Below is the book details:\n",
      "Title : Harry potter\n",
      "Author :  JK Rowling\n",
      "ISBN : 4666456\n",
      "Publication year : 1995\n",
      "Available copies : 2\n",
      "\n",
      "Successfully checked out the book 'Harry potter'\n",
      "Successfully checked out the book 'Harry potter'\n",
      "\n",
      "Cannot check out, because no copies available for book 'Harry potter'\n",
      "\n",
      "Below is the book details:\n",
      "Title : Harry potter\n",
      "Author :  JK Rowling\n",
      "ISBN : 4666456\n",
      "Publication year : 1995\n",
      "Available copies : 0\n"
     ]
    }
   ],
   "source": [
    "book = Book(\"Harry potter\",\" JK Rowling\",4666456,1995,3)\n",
    "\n",
    "book.check_out();\n",
    "book.check_out();\n",
    "\n",
    "print()\n",
    "book.return_book();\n",
    "\n",
    "print()\n",
    "book.display_book_info();\n",
    "\n",
    "print()\n",
    "book.check_out();\n",
    "book.check_out();\n",
    "\n",
    "print()\n",
    "book.check_out();\n",
    "\n",
    "print()\n",
    "book.display_book_info();"
   ]
  },
  {
   "cell_type": "markdown",
   "id": "e6933586-cbf7-4937-981a-3a8b69249371",
   "metadata": {},
   "source": [
    "```\n",
    "8. For a ticket booking system, you have to design the \"Ticket\" class with OOP\n",
    "principles in mind. The “Ticket” class should have the following attributes:\n",
    "    a. ticket_id: Represents the unique identifier for the ticket.\n",
    "    b. event_name: Represents the name of the event.\n",
    "    c. event_date: Represents the date of the event.\n",
    "    d. venue: Represents the venue of the event.\n",
    "    e. seat_number: Represents the seat number associated with the ticket.\n",
    "    f. price: Represents the price of the ticket.\n",
    "    g. is_reserved: Represents the reservation status of the ticket.\n",
    "The class also includes the following methods:\n",
    "    a. reserve_ticket(self): Marks the ticket as reserved if it is not already reserved.\n",
    "    b. cancel_reservation(self): Cancels the reservation of the ticket if it is already reserved.\n",
    "    c. display_ticket_info(self): Displays the information about the ticket, including its attributes and reservation status.\n",
    "```"
   ]
  },
  {
   "cell_type": "code",
   "execution_count": 12,
   "id": "625322e3-90ed-4e22-adce-3e9fd9e72244",
   "metadata": {},
   "outputs": [],
   "source": [
    "class Ticket:\n",
    "    def __init__(self, ticket_id, event_name, event_date, venue, seat_number, price, is_reserved = False):\n",
    "        self.ticket_id = ticket_id\n",
    "        self.event_name = event_name\n",
    "        self.event_date = event_date\n",
    "        self.venue = venue\n",
    "        self.seat_number = seat_number\n",
    "        self.price = price\n",
    "        self.is_reserved = is_reserved\n",
    "        \n",
    "    def reserve_ticket(self):\n",
    "        if self.is_reserved == False:\n",
    "            self.is_reserved = True\n",
    "            print(f\"Ticket reserved successfully for ID : '{self.ticket_id}'\")\n",
    "        else:\n",
    "            print(f\"Ticket already reserved for ID : '{self.ticket_id}'\")\n",
    "            \n",
    "    def cancel_reservation(self):\n",
    "        if self.is_reserved == True:\n",
    "            self.is_reserved = False\n",
    "            print(f\"Ticket cancelled successfully for ID : '{self.ticket_id}'\")\n",
    "        else:\n",
    "            print(f\"Ticket already cancelled for ID : '{self.ticket_id}'\")\n",
    "            \n",
    "    def display_ticket_info(self):\n",
    "        print(\"Below is the ticket information : \")\n",
    "        print(f\"Ticket ID : {self.ticket_id}\")\n",
    "        print(f\"Event name : {self.event_name}\")\n",
    "        print(f\"Event date : {self.event_date}\")\n",
    "        print(f\"Venue : {self.venue}\")\n",
    "        print(f\"Seat number : {self.seat_number}\")\n",
    "        print(f\"Price : {self.price}\")\n",
    "        print(f\"Status : {'Reserved' if self.is_reserved == True else 'Cancelled'}\")"
   ]
  },
  {
   "cell_type": "code",
   "execution_count": 13,
   "id": "3434c74d-696a-4ee9-af81-ea3fd5c7a643",
   "metadata": {},
   "outputs": [
    {
     "name": "stdout",
     "output_type": "stream",
     "text": [
      "Below is the ticket information : \n",
      "Ticket ID : 44765456\n",
      "Event name : Cricket test\n",
      "Event date : July-07, 2023\n",
      "Venue : Bengaluru\n",
      "Seat number : 8A\n",
      "Price : 1000\n",
      "Status : Cancelled\n",
      "\n",
      "Ticket reserved successfully for ID : '44765456'\n",
      "\n",
      "Below is the ticket information : \n",
      "Ticket ID : 44765456\n",
      "Event name : Cricket test\n",
      "Event date : July-07, 2023\n",
      "Venue : Bengaluru\n",
      "Seat number : 8A\n",
      "Price : 1000\n",
      "Status : Reserved\n",
      "\n",
      "Ticket already reserved for ID : '44765456'\n",
      "\n",
      "Ticket cancelled successfully for ID : '44765456'\n",
      "\n",
      "Below is the ticket information : \n",
      "Ticket ID : 44765456\n",
      "Event name : Cricket test\n",
      "Event date : July-07, 2023\n",
      "Venue : Bengaluru\n",
      "Seat number : 8A\n",
      "Price : 1000\n",
      "Status : Cancelled\n",
      "\n",
      "Ticket already cancelled for ID : '44765456'\n",
      "\n",
      "Below is the ticket information : \n",
      "Ticket ID : 44765456\n",
      "Event name : Cricket test\n",
      "Event date : July-07, 2023\n",
      "Venue : Bengaluru\n",
      "Seat number : 8A\n",
      "Price : 1000\n",
      "Status : Cancelled\n"
     ]
    }
   ],
   "source": [
    "ticket = Ticket(44765456, \"Cricket test\", \"July-07, 2023\", \"Bengaluru\", \"8A\", 1000)\n",
    "ticket.display_ticket_info()\n",
    "\n",
    "print()\n",
    "ticket.reserve_ticket()\n",
    "print()\n",
    "ticket.display_ticket_info()\n",
    "\n",
    "print()\n",
    "ticket.reserve_ticket()\n",
    "print()\n",
    "ticket.cancel_reservation()\n",
    "print()\n",
    "ticket.display_ticket_info()\n",
    "\n",
    "print()\n",
    "ticket.cancel_reservation()\n",
    "print()\n",
    "ticket.display_ticket_info()"
   ]
  },
  {
   "cell_type": "markdown",
   "id": "0dcc4c15-f8fc-4d55-afac-655fc8dfc72a",
   "metadata": {},
   "source": [
    "```\n",
    "9. You are creating a shopping cart for an e-commerce website. Using OOP to model\n",
    "the \"ShoppingCart\" functionality the class should contain following attributes and\n",
    "methods:\n",
    "    a. items: Represents the list of items in the shopping cart.\n",
    "The class also includes the following methods:\n",
    "    a. add_item(self, item): Adds an item to the shopping cart by appending it to the\n",
    "    list of items.\n",
    "    b. remove_item(self, item): Removes an item from the shopping cart if it exists in\n",
    "    the list.\n",
    "    c. view_cart(self): Displays the items currently present in the shopping cart.\n",
    "    d. clear_cart(self): Clears all items from the shopping cart by reassigning an\n",
    "    empty list to the items attribute.\n",
    "```"
   ]
  },
  {
   "cell_type": "code",
   "execution_count": 23,
   "id": "7e059e5f-d9d6-4668-b0c4-0c6df7d2f660",
   "metadata": {},
   "outputs": [],
   "source": [
    "class ShoppingCart:\n",
    "    def __init__(self):\n",
    "        self.items = []\n",
    "    \n",
    "    # Adds item to the cart\n",
    "    def add_item(self, item):\n",
    "        self.items.append(item)\n",
    "        print(f\"Item '{item}' added successfully to the cart\")\n",
    "    \n",
    "    # removes item from the cart\n",
    "    def remove_item(self, item):\n",
    "        if item in self.items:\n",
    "            self.items.remove(item)\n",
    "            print(f\"Item '{item}' removed successfully from the cart\")\n",
    "        else:\n",
    "            print(f\"Item '{item}' does not found in the cart to remove\")\n",
    "    \n",
    "    # Displays the items in the cart        \n",
    "    def view_cart(self):\n",
    "        print(\"Display the cart items :\")\n",
    "        for itemIndex in range(len(self.items)):\n",
    "            print(self.items[itemIndex])\n",
    "    \n",
    "    # Empty the cart\n",
    "    def clear_cart(self):\n",
    "        self.items = []\n",
    "        print(\"Emptied the cart successfully\")"
   ]
  },
  {
   "cell_type": "code",
   "execution_count": 24,
   "id": "1b3b8621-43b8-49b3-85d3-0c89ea0721ac",
   "metadata": {},
   "outputs": [
    {
     "name": "stdout",
     "output_type": "stream",
     "text": [
      "Item 'Mobile' added successfully to the cart\n",
      "Item 'Laptop' added successfully to the cart\n",
      "Item 'Soap' added successfully to the cart\n",
      "Item 'Brush' added successfully to the cart\n",
      "Item 'Torch' added successfully to the cart\n",
      "\n",
      "Display the cart items :\n",
      "Mobile\n",
      "Laptop\n",
      "Soap\n",
      "Brush\n",
      "Torch\n",
      "\n",
      "Item 'Soap' removed successfully from the cart\n",
      "\n",
      "Item 'Shampoo' does not found in the cart to remove\n",
      "\n",
      "Emptied the cart successfully\n"
     ]
    }
   ],
   "source": [
    "shop = ShoppingCart()\n",
    "shop.add_item(\"Mobile\")\n",
    "shop.add_item(\"Laptop\")\n",
    "shop.add_item(\"Soap\")\n",
    "shop.add_item(\"Brush\")\n",
    "shop.add_item(\"Torch\")\n",
    "\n",
    "print()\n",
    "shop.view_cart()\n",
    "\n",
    "print()\n",
    "shop.remove_item(\"Soap\")\n",
    "\n",
    "print()\n",
    "shop.remove_item(\"Shampoo\")\n",
    "\n",
    "print()\n",
    "shop.clear_cart()"
   ]
  },
  {
   "cell_type": "markdown",
   "id": "625d6d82-af8a-4dfe-b200-72dd93b8e81b",
   "metadata": {},
   "source": [
    "```\n",
    "10. Imagine a school management system. You have to design the \"Student\" class using\n",
    "OOP concepts.The “Student” class has the following attributes:\n",
    "    a. name: Represents the name of the student.\n",
    "    b. age: Represents the age of the student.\n",
    "    c. grade: Represents the grade or class of the student.\n",
    "    d. student_id: Represents the unique identifier for the student.\n",
    "    e. attendance: Represents the attendance record of the student.\n",
    "The class should also include the following methods:\n",
    "    a. update_attendance(self, date, status): Updates the attendance record of the\n",
    "    student for a given date with the provided status (e.g., present or absent).\n",
    "    b. get_attendance(self): Returns the attendance record of the student.\n",
    "    c. get_average_attendance(self): Calculates and returns the average\n",
    "    attendance percentage of the student based on their attendance record.\n",
    "```"
   ]
  },
  {
   "cell_type": "code",
   "execution_count": 55,
   "id": "3f63d3b8-65c7-42eb-b942-0b477ec06201",
   "metadata": {},
   "outputs": [],
   "source": [
    "class Student:\n",
    "    def __init__(self, name, age, grade, student_id):\n",
    "        self.name = name\n",
    "        self.age = age\n",
    "        self.grade = grade\n",
    "        self.student_id = student_id\n",
    "        self.attendance = {}\n",
    "        \n",
    "    def update_attendance(self, date, status):\n",
    "        self.attendance[date] = status\n",
    "        \n",
    "    def get_attendance(self):\n",
    "        print(f\"Attendence details of student : {self.name}\")\n",
    "        for key, value in self.attendance.items():\n",
    "            print(f\"{key} : {value}\")\n",
    "            \n",
    "    def get_average_attendance(self):\n",
    "        total_attendance = len(self.attendance)\n",
    "        present_attendance = len({key:data for key,data in self.attendance.items() if data == 'present'})\n",
    "        \n",
    "        if total_attendance > 0:\n",
    "            print(f\"The attendence percentage of student '{self.name}' is {(present_attendance / total_attendance) * 100}\")\n",
    "        else:\n",
    "            print(f\"The attendence percentage is 0.0\")"
   ]
  },
  {
   "cell_type": "code",
   "execution_count": 56,
   "id": "43e44b42-8b98-4081-a990-ac06ccd841d3",
   "metadata": {},
   "outputs": [
    {
     "name": "stdout",
     "output_type": "stream",
     "text": [
      "\n",
      "Attendence details of student : John\n",
      "07-June,2023 : present\n",
      "08-June,2023 : present\n",
      "09-June,2023 : absent\n",
      "10-June,2023 : present\n",
      "11-June,2023 : present\n",
      "12-June,2023 : absent\n",
      "13-June,2023 : present\n",
      "14-June,2023 : present\n",
      "15-June,2023 : present\n",
      "16-June,2023 : absent\n",
      "\n",
      "The attendence percentage of student 'John' is 70.0\n"
     ]
    }
   ],
   "source": [
    "student = Student(\"John\", 25, \"B\", 4676)\n",
    "\n",
    "student.update_attendance(\"07-June,2023\",'present')\n",
    "student.update_attendance(\"08-June,2023\",'present')\n",
    "student.update_attendance(\"09-June,2023\",'absent')\n",
    "student.update_attendance(\"10-June,2023\",'present')\n",
    "student.update_attendance(\"11-June,2023\",'present')\n",
    "student.update_attendance(\"12-June,2023\",'absent')\n",
    "student.update_attendance(\"13-June,2023\",'present')\n",
    "student.update_attendance(\"14-June,2023\",'present')\n",
    "student.update_attendance(\"15-June,2023\",'present')\n",
    "student.update_attendance(\"16-June,2023\",'absent')\n",
    "\n",
    "print()\n",
    "student.get_attendance()\n",
    "\n",
    "print()\n",
    "student.get_average_attendance()"
   ]
  },
  {
   "cell_type": "code",
   "execution_count": null,
   "id": "5c22fa35-b9e0-4a86-8b5c-471069b4734c",
   "metadata": {},
   "outputs": [],
   "source": []
  },
  {
   "cell_type": "code",
   "execution_count": null,
   "id": "f9eff531-43b5-416c-a3dd-cadfecb32d1b",
   "metadata": {},
   "outputs": [],
   "source": []
  }
 ],
 "metadata": {
  "kernelspec": {
   "display_name": "Python 3 (ipykernel)",
   "language": "python",
   "name": "python3"
  },
  "language_info": {
   "codemirror_mode": {
    "name": "ipython",
    "version": 3
   },
   "file_extension": ".py",
   "mimetype": "text/x-python",
   "name": "python",
   "nbconvert_exporter": "python",
   "pygments_lexer": "ipython3",
   "version": "3.10.6"
  }
 },
 "nbformat": 4,
 "nbformat_minor": 5
}
