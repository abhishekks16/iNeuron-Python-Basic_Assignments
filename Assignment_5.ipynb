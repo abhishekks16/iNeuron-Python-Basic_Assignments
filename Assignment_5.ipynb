{
 "cells": [
  {
   "cell_type": "markdown",
   "id": "ae6e612a-1dbf-405b-b688-106604c315f0",
   "metadata": {},
   "source": [
    "Assignemnet link : https://drive.google.com/file/d/1fM3fWLFqQAgiOa3YY41ZRlEFzqA3vorL/view"
   ]
  },
  {
   "cell_type": "markdown",
   "id": "6bf9671b-890a-40a3-a16b-a047d9228532",
   "metadata": {},
   "source": [
    "1. What does an empty dictionary&#39;s code look like?\n",
    "```[]```"
   ]
  },
  {
   "cell_type": "markdown",
   "id": "98194e31-7c96-46c4-b011-ecce60876004",
   "metadata": {},
   "source": [
    "2. What is the value of a dictionary value with the key &#39;foo&#39; and the value 42?"
   ]
  },
  {
   "cell_type": "code",
   "execution_count": null,
   "id": "cde26a7b-b4f5-4003-83d3-70df8ef37f3b",
   "metadata": {},
   "outputs": [],
   "source": [
    "my_dict = {'foo':42}\n",
    "my_dict"
   ]
  },
  {
   "cell_type": "markdown",
   "id": "b2f38bf2-78c2-439d-995e-eeb03dc619d5",
   "metadata": {},
   "source": [
    "3. What is the most significant distinction between a dictionary and a list?\n",
    "```\n",
    "dictionary : Holds data in key value pair, can't be accessed by index instead we can use key to access the value.\n",
    "list : Lists can stoer different data types of data into it. The data can be accessed by the index of the element.\n",
    "```"
   ]
  },
  {
   "cell_type": "markdown",
   "id": "5aabf01c-f2de-4388-ab04-d9bd75729081",
   "metadata": {},
   "source": [
    "4. What happens if you try to access spam['foo'] if spam is {'bar': 100}?\n",
    "```\n",
    "Since the key 'foo' is not preseent in the dictionary, will throw keyerror.\n",
    "To avoid this we can use .get(), if key found returns the value else default value None\n",
    "```"
   ]
  },
  {
   "cell_type": "code",
   "execution_count": null,
   "id": "c3eeae26-6aa2-40a8-a6bc-289a06708eb9",
   "metadata": {},
   "outputs": [],
   "source": [
    "spam = {10: 100}\n",
    "print(spam.get('foo'))\n",
    "spam['foo']"
   ]
  },
  {
   "cell_type": "markdown",
   "id": "47ebad37-15af-4b4d-a161-5ed80fd0f3d4",
   "metadata": {},
   "source": [
    "5. If a dictionary is stored in spam, what is the difference between the expressions 'cat' in spam and 'cat' in spam.keys()?\n",
    "```\n",
    "There is no difference. The in operator checks whether a value exists as a key in the dictionary. \n",
    "'cat' in spam checks whether there is a 'cat' key in the dictionary, while 'cat' in spam.keys() checks whether there is a key 'cat' from one of the keys in spam .\n",
    "```"
   ]
  },
  {
   "cell_type": "markdown",
   "id": "d4a29220-56d9-46d1-9fe4-fbe7a3df00ba",
   "metadata": {},
   "source": [
    "6. If a dictionary is stored in spam, what is the difference between the expressions 'cat' in spam and 'cat' in spam.values()?\n",
    "```\n",
    "There is no difference. The in operator checks whether a value exists as a key in the dictionary. \n",
    "'cat' in spam checks whether there is a 'cat' key in the dictionary, while 'cat' in spam. values() checks whether there is a value 'cat' for one of the keys in spam .\n",
    "```"
   ]
  },
  {
   "cell_type": "markdown",
   "id": "5bd15963-6ac1-4a21-87ed-83af2cf6b968",
   "metadata": {},
   "source": [
    "7. What is a shortcut for the following code?\n",
    "```\n",
    "if 'color' not in spam:\n",
    "    spam['color'] = 'black'\n",
    "```"
   ]
  },
  {
   "cell_type": "code",
   "execution_count": null,
   "id": "70da385d-14d1-4f2f-ab81-de0f5d2332d6",
   "metadata": {},
   "outputs": [],
   "source": [
    "spam = {}\n",
    "if 'color' not in spam.keys():\n",
    "    spam['color'] = 'black'\n",
    "\n",
    "print(spam)\n",
    "    \n",
    "spam = {}\n",
    "if not spam.get('color'):\n",
    "    spam['color'] = 'black'\n",
    "\n",
    "print(spam)\n"
   ]
  },
  {
   "cell_type": "markdown",
   "id": "f95df568-9e61-4489-8c4f-818e758783bb",
   "metadata": {},
   "source": [
    "8. How do you \"pretty print\" dictionary values using which module and function?"
   ]
  },
  {
   "cell_type": "code",
   "execution_count": null,
   "id": "eb8c76d6-0e48-497d-8c89-999cbed9729c",
   "metadata": {},
   "outputs": [],
   "source": [
    "# We first import the pprint module as shown below.\n",
    "import pprint\n",
    "\n",
    "# test dictionary\n",
    "test_dict = {\n",
    "    'serial_no': 65,\n",
    "    'name': 'harry',\n",
    "    'class_attended': [{ 'English', 'Mathematics', 'Science'}]\n",
    "}\n",
    "\n",
    "# print with normal/built-in print function\n",
    "print(test_dict)\n",
    "\n",
    "# implementing the pprint method to pretty print dict python\n",
    "pprint.pprint(test_dict)"
   ]
  },
  {
   "cell_type": "code",
   "execution_count": null,
   "id": "4a09c6d5-dd9f-4e04-82a8-17f9d2875b21",
   "metadata": {},
   "outputs": [],
   "source": []
  }
 ],
 "metadata": {
  "kernelspec": {
   "display_name": "Python 3 (ipykernel)",
   "language": "python",
   "name": "python3"
  },
  "language_info": {
   "codemirror_mode": {
    "name": "ipython",
    "version": 3
   },
   "file_extension": ".py",
   "mimetype": "text/x-python",
   "name": "python",
   "nbconvert_exporter": "python",
   "pygments_lexer": "ipython3",
   "version": "3.10.6"
  }
 },
 "nbformat": 4,
 "nbformat_minor": 5
}
