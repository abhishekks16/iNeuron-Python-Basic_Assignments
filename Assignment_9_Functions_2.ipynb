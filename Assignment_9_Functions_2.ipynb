{
 "cells": [
  {
   "cell_type": "markdown",
   "id": "828e677d-ad39-4875-b91c-22daf8cb1694",
   "metadata": {},
   "source": [
    "```\n",
    "1. What is a lambda function in Python, and how does it differ from a regular function?\n",
    "```"
   ]
  },
  {
   "cell_type": "code",
   "execution_count": 10,
   "id": "f93cc0d0-c5f9-49ff-b990-42beb8be6bd2",
   "metadata": {},
   "outputs": [
    {
     "data": {
      "text/plain": [
       "5"
      ]
     },
     "execution_count": 10,
     "metadata": {},
     "output_type": "execute_result"
    }
   ],
   "source": [
    "'''\n",
    "Lambda functions are anonymous functions which are used to perform small and short operations. These functiosn doenot require \"def\" in-front fo the function.\n",
    "syntax : lambda <arguments> : <expression>\n",
    "'''\n",
    "\n",
    "add_two_num = lambda num1, num2 : num1 + num2\n",
    "\n",
    "add_two_num(2, 3)"
   ]
  },
  {
   "cell_type": "markdown",
   "id": "781fbaac-4fd4-42db-b22a-95aeb34089ef",
   "metadata": {},
   "source": [
    "```\n",
    "2. Can a lambda function in Python have multiple arguments? If yes, how can you define and use them?\n",
    "```"
   ]
  },
  {
   "cell_type": "code",
   "execution_count": 4,
   "id": "50a8f07f-129f-4221-9633-33173d55095d",
   "metadata": {},
   "outputs": [
    {
     "data": {
      "text/plain": [
       "6"
      ]
     },
     "execution_count": 4,
     "metadata": {},
     "output_type": "execute_result"
    }
   ],
   "source": [
    "'''\n",
    "Yes, lambda function in python can have multiple arguments.\n",
    "The arguments can be specified after keyword \"lambda\" which are separated by comma(,)\n",
    "'''\n",
    "\n",
    "multiply_two_num = lambda num1, num2 : num1 * num2\n",
    "\n",
    "multiply_two_num(2, 3)"
   ]
  },
  {
   "cell_type": "markdown",
   "id": "faadff9e-a9ec-4380-8277-a8d00bf0c542",
   "metadata": {},
   "source": [
    "```\n",
    "3. How are lambda functions typically used in Python? Provide an example use case.\n",
    "```"
   ]
  },
  {
   "cell_type": "code",
   "execution_count": 9,
   "id": "4b5b523a-6a7c-4236-86c2-4cba31c8cbb0",
   "metadata": {},
   "outputs": [
    {
     "name": "stdout",
     "output_type": "stream",
     "text": [
      "10\n",
      "40\n",
      "60\n",
      "12\n"
     ]
    }
   ],
   "source": [
    "'''\n",
    "Suppose if we want to filter the elements in the list, we can make use lambda function inside filter.\n",
    "'''\n",
    "\n",
    "num_list = [10,11,25,40,60,12,5,31]\n",
    "\n",
    "# Filter and returns the number which are divisible by 2 or even number \n",
    "filter_even_num = filter(lambda x : x % 2 == 0 , num_list)\n",
    "\n",
    "for num in filter_even_num:\n",
    "    print(num)"
   ]
  },
  {
   "cell_type": "markdown",
   "id": "ce45c971-2093-4c71-b966-991532ad16ec",
   "metadata": {},
   "source": [
    "```\n",
    "4. What are the advantages and limitations of lambda functions compared to regular functions in Python?\n",
    "```"
   ]
  },
  {
   "cell_type": "code",
   "execution_count": 11,
   "id": "5e398825-71ee-45fe-a715-ba6cad4260e6",
   "metadata": {},
   "outputs": [
    {
     "data": {
      "text/plain": [
       "'\\nAdvantages :\\n* Concise Syntax\\n* Readability and Expressiveness\\n* Convenience\\n\\nDisadvantages :\\n* Single Expression Limitation\\n* Lack of Documentation\\n* Debugging challenges\\n'"
      ]
     },
     "execution_count": 11,
     "metadata": {},
     "output_type": "execute_result"
    }
   ],
   "source": [
    "'''\n",
    "Advantages :\n",
    "* Concise Syntax\n",
    "* Readability and Expressiveness\n",
    "* Convenience\n",
    "\n",
    "Disadvantages :\n",
    "* Single Expression Limitation\n",
    "* Lack of Documentation\n",
    "* Debugging challenges\n",
    "'''"
   ]
  },
  {
   "cell_type": "code",
   "execution_count": 12,
   "id": "f0aff7df-f93b-4b11-b428-c4b922d8539d",
   "metadata": {},
   "outputs": [
    {
     "data": {
      "text/plain": [
       "60"
      ]
     },
     "execution_count": 12,
     "metadata": {},
     "output_type": "execute_result"
    }
   ],
   "source": [
    "value_tes = 10\n",
    "test = lambda num1, num2 : num1 * num2 * value_tes\n",
    "\n",
    "test (2, 3)"
   ]
  },
  {
   "cell_type": "markdown",
   "id": "a2da2946-6538-4a7b-b38f-fd0cf53f1b74",
   "metadata": {},
   "source": [
    "```\n",
    "5. Are lambda functions in Python able to access variables defined outside of their own scope? Explain with an example.\n",
    "```"
   ]
  },
  {
   "cell_type": "code",
   "execution_count": 15,
   "id": "aebe6a95-7045-49c3-929c-46599a1896fa",
   "metadata": {},
   "outputs": [
    {
     "data": {
      "text/plain": [
       "60"
      ]
     },
     "execution_count": 15,
     "metadata": {},
     "output_type": "execute_result"
    }
   ],
   "source": [
    "'''\n",
    "Yes, lambda functions can access variables which are defined outside their own scope.\n",
    "'''\n",
    "\n",
    "# Here num3_value is outside the scope of lambda functions\n",
    "num3_value = 10\n",
    "multiply_numbers = lambda num1 , num2 : num1 * num2 * num3_value\n",
    "\n",
    "multiply_numbers(2, 3)"
   ]
  },
  {
   "cell_type": "markdown",
   "id": "b25b0787-8b21-42ea-8877-8f90e38cbe39",
   "metadata": {},
   "source": [
    "```\n",
    "6. Write a lambda function to calculate the square of a given number.\n",
    "```"
   ]
  },
  {
   "cell_type": "code",
   "execution_count": 19,
   "id": "1bc7f2aa-f087-4add-ab43-1ec25ef17191",
   "metadata": {},
   "outputs": [
    {
     "data": {
      "text/plain": [
       "25"
      ]
     },
     "execution_count": 19,
     "metadata": {},
     "output_type": "execute_result"
    }
   ],
   "source": [
    "square_numbers = lambda num1 : num1 * num1\n",
    "\n",
    "square_numbers(5)"
   ]
  },
  {
   "cell_type": "markdown",
   "id": "90747f61-aea3-4ff4-95b0-9ea6428ffd2c",
   "metadata": {},
   "source": [
    "```\n",
    "7. Create a lambda function to find the maximum value in a list of integers.\n",
    "```"
   ]
  },
  {
   "cell_type": "code",
   "execution_count": 21,
   "id": "e6f4fc57-bf4a-4f53-9eaa-546106794edf",
   "metadata": {},
   "outputs": [
    {
     "name": "stdout",
     "output_type": "stream",
     "text": [
      "max(iterable, *[, default=obj, key=func]) -> value\n",
      "max(arg1, arg2, *args, *[, key=func]) -> value\n",
      "\n",
      "With a single iterable argument, return its biggest item. The\n",
      "default keyword-only argument specifies an object to return if\n",
      "the provided iterable is empty.\n",
      "With two or more arguments, return the largest argument.\n"
     ]
    }
   ],
   "source": [
    "print(max.__doc__)"
   ]
  },
  {
   "cell_type": "code",
   "execution_count": 22,
   "id": "a385aed3-328f-43b7-abe8-350c1c08bd75",
   "metadata": {},
   "outputs": [
    {
     "data": {
      "text/plain": [
       "60"
      ]
     },
     "execution_count": 22,
     "metadata": {},
     "output_type": "execute_result"
    }
   ],
   "source": [
    "num_list = [10,11,25,40,60,12,5,31]\n",
    "\n",
    "max_num = lambda list_data : max(list_data)\n",
    "\n",
    "max_num(num_list)"
   ]
  },
  {
   "cell_type": "markdown",
   "id": "25e6ff98-1e9b-47c8-9f42-621a85b8a969",
   "metadata": {},
   "source": [
    "```\n",
    "8. Implement a lambda function to filter out all the even numbers from a list of integers.\n",
    "```"
   ]
  },
  {
   "cell_type": "code",
   "execution_count": 23,
   "id": "3df0c39d-cf84-4ee8-92d6-01208497c5af",
   "metadata": {},
   "outputs": [
    {
     "name": "stdout",
     "output_type": "stream",
     "text": [
      "10\n",
      "40\n",
      "60\n",
      "12\n"
     ]
    }
   ],
   "source": [
    "num_list = [10,11,25,40,60,12,5,31]\n",
    "\n",
    "# Filter and returns the number which are divisible by 2 or even number \n",
    "filter_even_num = filter(lambda x : x % 2 == 0 , num_list)\n",
    "\n",
    "for num in filter_even_num:\n",
    "    print(num)"
   ]
  },
  {
   "cell_type": "markdown",
   "id": "fafd3a1f-d05d-4874-839f-db6ca26da582",
   "metadata": {},
   "source": [
    "```\n",
    "9. Write a lambda function to sort a list of strings in ascending order based on the length of each string.\n",
    "```"
   ]
  },
  {
   "cell_type": "code",
   "execution_count": 29,
   "id": "df0700a4-4878-4c14-a1a2-258186fffd68",
   "metadata": {},
   "outputs": [
    {
     "name": "stdout",
     "output_type": "stream",
     "text": [
      "cat\n",
      "dog\n",
      "lion\n",
      "tiger\n"
     ]
    }
   ],
   "source": [
    "animal_list = [\"tiger\",\"cat\",\"dog\",\"lion\"]\n",
    "\n",
    "sorted_list = sorted(animal_list, key = lambda animal : len(animal))\n",
    "\n",
    "for ani in sorted_list:\n",
    "    print(ani)"
   ]
  },
  {
   "cell_type": "markdown",
   "id": "e4b466b6-5864-4683-aee1-b38e9a8ff9f5",
   "metadata": {},
   "source": [
    "```\n",
    "10. Create a lambda function that takes two lists as input and returns a new list containing the common elements between the two lists.\n",
    "```"
   ]
  },
  {
   "cell_type": "code",
   "execution_count": 30,
   "id": "7cc6ef37-70ef-4c5f-a163-013842a481b4",
   "metadata": {},
   "outputs": [
    {
     "name": "stdout",
     "output_type": "stream",
     "text": [
      "[4, 5]\n"
     ]
    }
   ],
   "source": [
    "list1 = [1, 2, 3, 4, 5]\n",
    "list2 = [4, 5, 6, 7, 8]\n",
    "\n",
    "common_elements = lambda lst1, lst2: list(filter(lambda x: x in lst2, lst1))\n",
    "\n",
    "result = common_elements(list1, list2)\n",
    "print(result)"
   ]
  },
  {
   "cell_type": "markdown",
   "id": "4d6cfefa-c9f7-4b0b-956d-281a4a4877b5",
   "metadata": {},
   "source": [
    "```\n",
    "11. Write a recursive function to calculate the factorial of a given positive integer.\n",
    "```"
   ]
  },
  {
   "cell_type": "code",
   "execution_count": 8,
   "id": "500c40ca-f36f-4ea2-8148-f0bcce36cade",
   "metadata": {},
   "outputs": [
    {
     "name": "stdout",
     "output_type": "stream",
     "text": [
      "120\n"
     ]
    }
   ],
   "source": [
    "def factorial(number):\n",
    "    if number == 0:\n",
    "        return 1\n",
    "    return number * factorial(number - 1)\n",
    "\n",
    "result = factorial(5)\n",
    "print(result)"
   ]
  },
  {
   "cell_type": "markdown",
   "id": "a79117d5-d8e2-4aff-b43f-46028decd6b3",
   "metadata": {},
   "source": [
    "```\n",
    "12. Implement a recursive function to compute the nth Fibonacci number.\n",
    "```"
   ]
  },
  {
   "cell_type": "code",
   "execution_count": 12,
   "id": "da929402-c68e-43d5-91d0-fb2b5f2627ad",
   "metadata": {},
   "outputs": [
    {
     "name": "stdout",
     "output_type": "stream",
     "text": [
      "The Fibonacci sequence up to 10 is: [0, 1, 1, 2, 3, 5, 8, 13, 21, 34]\n"
     ]
    }
   ],
   "source": [
    "def fibonacci(n):\n",
    "    if n <= 0:\n",
    "        return []\n",
    "    elif n == 1:\n",
    "        return [0]\n",
    "    elif n == 2:\n",
    "        return [0, 1]\n",
    "    else:\n",
    "        sequence = fibonacci(n-1)\n",
    "        sequence.append(sequence[-1] + sequence[-2])\n",
    "        return sequence\n",
    "\n",
    "# Test the fibonacci function\n",
    "number = 10\n",
    "result = fibonacci(number)\n",
    "print(f\"The Fibonacci sequence up to {number} is: {result}\")\n"
   ]
  },
  {
   "cell_type": "markdown",
   "id": "f3bb0bca-7a51-4028-ac38-a6fc8a7c3199",
   "metadata": {},
   "source": [
    "```\n",
    "13. Create a recursive function to find the sum of all the elements in a given list.\n",
    "```"
   ]
  },
  {
   "cell_type": "code",
   "execution_count": 19,
   "id": "98ca974b-8f7e-4f01-9198-c5ef59069d5a",
   "metadata": {},
   "outputs": [
    {
     "name": "stdout",
     "output_type": "stream",
     "text": [
      "The sum of the elements in the list is: 15\n"
     ]
    }
   ],
   "source": [
    "def list_sum(lst):\n",
    "    if len(lst) == 0:\n",
    "        return 0\n",
    "    else:\n",
    "        return lst[0] + list_sum(lst[1:])\n",
    "\n",
    "# Test the list_sum function\n",
    "my_list = [1, 2, 3, 4, 5]\n",
    "result = list_sum(my_list)\n",
    "print(f\"The sum of the elements in the list is: {result}\")"
   ]
  },
  {
   "cell_type": "code",
   "execution_count": 20,
   "id": "ee502612-1d10-4a90-8069-294793fe7a69",
   "metadata": {},
   "outputs": [
    {
     "data": {
      "text/plain": [
       "[2, 3, 4]"
      ]
     },
     "execution_count": 20,
     "metadata": {},
     "output_type": "execute_result"
    }
   ],
   "source": [
    "num_list_data = [1,2,3,4,5]\n",
    "num_list_data[1:-1]"
   ]
  },
  {
   "cell_type": "markdown",
   "id": "3bcaa44c-d200-48fa-a37b-31ac4128980c",
   "metadata": {},
   "source": [
    "```\n",
    "14. Recursive function to determine if a string is a palindrome:\n",
    "```"
   ]
  },
  {
   "cell_type": "code",
   "execution_count": 22,
   "id": "ac32eddd-d263-41a8-846f-fe085b3fb67c",
   "metadata": {},
   "outputs": [
    {
     "name": "stdout",
     "output_type": "stream",
     "text": [
      "True\n",
      "False\n"
     ]
    }
   ],
   "source": [
    "def is_palindrome(s):\n",
    "    if len(s) <= 1:\n",
    "        return True\n",
    "    elif s[0] == s[-1]:\n",
    "        return is_palindrome(s[1:-1])\n",
    "    else:\n",
    "        return False\n",
    "\n",
    "# Test the is_palindrome function\n",
    "string1 = \"radar\"\n",
    "print(is_palindrome(string1))\n",
    "\n",
    "string2 = \"python\"\n",
    "print(is_palindrome(string2))\n"
   ]
  },
  {
   "cell_type": "markdown",
   "id": "c5b34d80-cf44-430c-813a-ae56e63f5e29",
   "metadata": {},
   "source": [
    "```\n",
    "15. Implement a recursive function to find the greatest common divisor (GCD) of two positive integers.\n",
    "```"
   ]
  },
  {
   "cell_type": "code",
   "execution_count": 23,
   "id": "b254403a-d705-44be-a441-f7ccad3bfed0",
   "metadata": {},
   "outputs": [
    {
     "name": "stdout",
     "output_type": "stream",
     "text": [
      "The GCD of 36 and 48 is: 12\n"
     ]
    }
   ],
   "source": [
    "def gcd(a, b):\n",
    "    if b == 0:\n",
    "        return a\n",
    "    else:\n",
    "        return gcd(b, a % b)\n",
    "\n",
    "# Test the gcd function\n",
    "number1 = 36\n",
    "number2 = 48\n",
    "result = gcd(number1, number2)\n",
    "print(f\"The GCD of {number1} and {number2} is: {result}\")"
   ]
  },
  {
   "cell_type": "code",
   "execution_count": null,
   "id": "d878e3a9-a121-4173-a0e7-8e06e6753657",
   "metadata": {},
   "outputs": [],
   "source": []
  }
 ],
 "metadata": {
  "kernelspec": {
   "display_name": "Python 3 (ipykernel)",
   "language": "python",
   "name": "python3"
  },
  "language_info": {
   "codemirror_mode": {
    "name": "ipython",
    "version": 3
   },
   "file_extension": ".py",
   "mimetype": "text/x-python",
   "name": "python",
   "nbconvert_exporter": "python",
   "pygments_lexer": "ipython3",
   "version": "3.10.6"
  }
 },
 "nbformat": 4,
 "nbformat_minor": 5
}
