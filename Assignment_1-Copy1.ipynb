{
 "cells": [
  {
   "cell_type": "markdown",
   "id": "09e06af6-3592-43a9-9be7-2eeb94ac949b",
   "metadata": {},
   "source": [
    "Assignment link : https://drive.google.com/file/d/1RjQBjq90BeqNuon_JUlrih7Tnda732cs/view"
   ]
  },
  {
   "cell_type": "markdown",
   "id": "e1a57737-80de-4544-bf38-23856a6aae8e",
   "metadata": {},
   "source": [
    "1. In the below elements which of them are values or an expression? eg:- values can be\n",
    "integer or string and expressions will be mathematical operators.\n",
    "```\n",
    "* --> Expression\n",
    "'hello' --> Values\n",
    "-87.8 --> Values\n",
    "- --> Expression\n",
    "/ --> Expression\n",
    "+ --> Expression\n",
    "6 --> Values\n",
    "```"
   ]
  },
  {
   "cell_type": "code",
   "execution_count": null,
   "id": "81278dfe-e131-4a9f-b1ba-2d04f99a4aac",
   "metadata": {},
   "outputs": [
    {
     "data": {
      "text/plain": [
       "'I have eaten 99 burritos.'"
      ]
     },
     "execution_count": 3,
     "metadata": {},
     "output_type": "execute_result"
    }
   ],
   "source": [
    "'I have eaten ' + '99' + ' burritos.'"
   ]
  },
  {
   "cell_type": "code",
   "execution_count": null,
   "id": "1fb5773c-143a-4172-adeb-ee44ff649491",
   "metadata": {},
   "outputs": [],
   "source": []
  }
 ],
 "metadata": {
  "kernelspec": {
   "display_name": "Python 3 (ipykernel)",
   "language": "python",
   "name": "python3"
  },
  "language_info": {
   "codemirror_mode": {
    "name": "ipython",
    "version": 3
   },
   "file_extension": ".py",
   "mimetype": "text/x-python",
   "name": "python",
   "nbconvert_exporter": "python",
   "pygments_lexer": "ipython3",
   "version": "3.10.6"
  }
 },
 "nbformat": 4,
 "nbformat_minor": 5
}
