{
 "cells": [
  {
   "cell_type": "markdown",
   "id": "87d65295-b783-4074-8e30-e3427c7afeb0",
   "metadata": {},
   "source": [
    "Assignment link : https://drive.google.com/file/d/14l4HM8YGceev1W3AjA8CYbmw-XO-qIVG/view"
   ]
  },
  {
   "cell_type": "markdown",
   "id": "d00c1d2e-0b46-4d0d-9779-8a5893687a4f",
   "metadata": {},
   "source": [
    "Q.1. What are keywords in python? Using the keyword library, print all the python keywords.\n",
    "```\n",
    "keywords in python are reseved names which can't be used to create varaible names.\n",
    "These are case-sensitive.\n",
    "```"
   ]
  },
  {
   "cell_type": "code",
   "execution_count": 1,
   "id": "bbed1c6f-d0f9-4bd0-89b2-3bfb8333d788",
   "metadata": {},
   "outputs": [
    {
     "name": "stdout",
     "output_type": "stream",
     "text": [
      "Requirement already satisfied: keywords in /opt/conda/lib/python3.10/site-packages (0.0.1)\n",
      "Note: you may need to restart the kernel to use updated packages.\n"
     ]
    }
   ],
   "source": [
    "pip install keywords"
   ]
  },
  {
   "cell_type": "code",
   "execution_count": 13,
   "id": "a81159ba-a39b-4c75-ad1c-73742e38b09c",
   "metadata": {},
   "outputs": [
    {
     "name": "stdout",
     "output_type": "stream",
     "text": [
      "['False', 'None', 'True', 'and', 'as', 'assert', 'async', 'await', 'break', 'class', 'continue', 'def', 'del', 'elif', 'else', 'except', 'finally', 'for', 'from', 'global', 'if', 'import', 'in', 'is', 'lambda', 'nonlocal', 'not', 'or', 'pass', 'raise', 'return', 'try', 'while', 'with', 'yield']\n"
     ]
    }
   ],
   "source": [
    "import keyword\n",
    "\n",
    "print(keyword.kwlist)"
   ]
  },
  {
   "cell_type": "code",
   "execution_count": null,
   "id": "0eca0132-5365-4da4-9c78-d34e7f6ff2a8",
   "metadata": {},
   "outputs": [],
   "source": []
  },
  {
   "cell_type": "markdown",
   "id": "baabce74-242a-4e9a-838d-b59c8f825584",
   "metadata": {},
   "source": [
    "Q.2. What are the rules to create variables in python?\n",
    "\n",
    "```\n",
    "Identifiers can be combination of uppercase and lowercase letters, digits or an underscore(_). So myVariable, variable_1, variable_for_print all are valid python identifiers.\n",
    "An Identifier can not start with digit. So while variable1 is valid, 1variable is not valid.\n",
    "We can’t use special symbols like !,#,@,%,$ etc in our Identifier.\n",
    "Identifier can be of any length.\n",
    "```"
   ]
  },
  {
   "cell_type": "markdown",
   "id": "f7a9a931-5258-421e-89f7-fe2f6c04b7e5",
   "metadata": {},
   "source": [
    "Q.3. What are the standards and conventions followed for the nomenclature of variables in python to improve code readability and maintainability?\n",
    "```\n",
    " good variable name should:\n",
    "\n",
    "Be clear and concise.\n",
    "Be written in English. A general coding practice is to write code with variable names in English, as that is the most likely common language between programmers. Thus, variable names such as muuttuja (which is also not a good name on other levels) should be avoided.\n",
    "Not contain special characters. Python supports use of special characters by way of various encoding options that can be given in a program.\n",
    "Not conflict with any Python keywords, such as for, True, False, and, if, or else. These are reserved for special operations in Python and cannot be used as variable names.\n",
    "```"
   ]
  },
  {
   "cell_type": "markdown",
   "id": "eb0d9ee7-d99e-4166-8e14-3ebc075bd289",
   "metadata": {},
   "source": [
    "Q.4. What will happen if a keyword is used as a variable name?\n",
    "```\n",
    "It will throw an SyntaxError\n",
    "```"
   ]
  },
  {
   "cell_type": "code",
   "execution_count": 14,
   "id": "badcf9a8-2aed-4ac0-b957-987d54e9d45f",
   "metadata": {},
   "outputs": [
    {
     "name": "stdout",
     "output_type": "stream",
     "text": [
      "10\n"
     ]
    }
   ],
   "source": [
    "Class = 10\n",
    "print(class)"
   ]
  },
  {
   "cell_type": "markdown",
   "id": "7ee0722b-ca1b-47ad-8fbf-bd07f0d6a7c0",
   "metadata": {},
   "source": [
    "Q.5. For what purpose def keyword is used?\n",
    "```\n",
    "def is the keyword for defining a function. The function name is followed by parameter(s) in (). \n",
    "The colon : signals the start of the function body, which is marked by indentation. Inside the function body, the return statement determines the value to be returned.\n",
    "```"
   ]
  },
  {
   "cell_type": "markdown",
   "id": "5fe42b7a-d6b8-4452-974d-d758863a607f",
   "metadata": {},
   "source": [
    "Q.6. What is the operation of this special character ‘\\’?\n",
    "```\n",
    "In Python, end of a statement is marked by a newline character. But we can make a statement extend over multiple lines with the line continuation character (\\), or within parentheses (), brackets [], braces {}, or strings. You can also write multiple statements on a single line using semicolons (;)\n",
    "```"
   ]
  },
  {
   "cell_type": "code",
   "execution_count": 23,
   "id": "15e7ea5b-e932-4051-9eea-29f9c16a367c",
   "metadata": {},
   "outputs": [
    {
     "name": "stdout",
     "output_type": "stream",
     "text": [
      "15\n"
     ]
    }
   ],
   "source": [
    "# Using line continuation character\n",
    "sample_sum = 1 + 2 + 3 + \\\n",
    "    4 + 5\n",
    "\n",
    "print(sample_sum)"
   ]
  },
  {
   "cell_type": "markdown",
   "id": "54538883-2cb9-4314-81f0-dcb3263bba77",
   "metadata": {},
   "source": [
    "Q.7. Give an example of the following conditions:\n",
    "(i) Homogeneous list\n",
    "(ii) Heterogeneous set\n",
    "(iii) Homogeneous tuple"
   ]
  },
  {
   "cell_type": "code",
   "execution_count": 27,
   "id": "d3fe804d-34d8-4370-a69b-03cf2c474edd",
   "metadata": {},
   "outputs": [
    {
     "name": "stdout",
     "output_type": "stream",
     "text": [
      "[1, 2, 3, 4, 5, 6, 7, 8, 9]\n",
      "{1, 2, 3, 4}\n",
      "(1, 2, 3, 4, 5, 6, 7, 8, 9)\n"
     ]
    }
   ],
   "source": [
    "#Homogeneous list\n",
    "my_list = [1,2,3,4,5,6,7,8,9]\n",
    "print(my_list)\n",
    "\n",
    "#Heterogeneous set\n",
    "my_set = {1,2,1,4,3,2}\n",
    "print(my_set)\n",
    "\n",
    "#Homogeneous tuple\n",
    "my_tuple = (1,2,3,4,5,6,7,8,9)\n",
    "print(my_tuple)"
   ]
  },
  {
   "cell_type": "markdown",
   "id": "4d33dbb6-7c99-4bc9-8796-2902b6a338da",
   "metadata": {},
   "source": [
    "Q.8. Explain the mutable and immutable data types with proper explanation & examples.\n",
    "```\n",
    "Mutable and Immutable Data Types in Python\n",
    "Some of the mutable data types in Python are list, dictionary, set and user-defined classes.\n",
    "Some of the immutable data types are int, float, decimal, bool, string, tuple, and range.\n",
    "```"
   ]
  },
  {
   "cell_type": "code",
   "execution_count": 29,
   "id": "fd0cefa5-214d-4c5a-9941-06d02a6bae8e",
   "metadata": {},
   "outputs": [
    {
     "name": "stdout",
     "output_type": "stream",
     "text": [
      "[100, 2, 3]\n"
     ]
    }
   ],
   "source": [
    "#Emample of list\n",
    "list_values = [1, 2, 3]\n",
    "\n",
    "list_values[0] = 100\n",
    "print(list_values)\n"
   ]
  },
  {
   "cell_type": "code",
   "execution_count": 30,
   "id": "ca976a94-fcd5-4dea-8e6d-c074395a35e0",
   "metadata": {},
   "outputs": [
    {
     "ename": "TypeError",
     "evalue": "'tuple' object does not support item assignment",
     "output_type": "error",
     "traceback": [
      "\u001b[0;31m---------------------------------------------------------------------------\u001b[0m",
      "\u001b[0;31mTypeError\u001b[0m                                 Traceback (most recent call last)",
      "Cell \u001b[0;32mIn [30], line 3\u001b[0m\n\u001b[1;32m      1\u001b[0m \u001b[38;5;66;03m#Emample of tuple\u001b[39;00m\n\u001b[1;32m      2\u001b[0m tuple_values \u001b[38;5;241m=\u001b[39m (\u001b[38;5;241m10\u001b[39m, \u001b[38;5;241m20\u001b[39m, \u001b[38;5;241m30\u001b[39m)\n\u001b[0;32m----> 3\u001b[0m \u001b[43mtuple_values\u001b[49m\u001b[43m[\u001b[49m\u001b[38;5;241;43m0\u001b[39;49m\u001b[43m]\u001b[49m \u001b[38;5;241m=\u001b[39m \u001b[38;5;241m100\u001b[39m\n",
      "\u001b[0;31mTypeError\u001b[0m: 'tuple' object does not support item assignment"
     ]
    }
   ],
   "source": [
    "#Emample of tuple\n",
    "tuple_values = (10, 20, 30)\n",
    "tuple_values[0] = 100"
   ]
  },
  {
   "cell_type": "markdown",
   "id": "488c6a1c-aedc-45ba-8ca2-5a22e920a17c",
   "metadata": {},
   "source": [
    "Q.9. Write a code to create the given structure using only for loop.\n",
    "```\n",
    "    *\n",
    "   ***\n",
    "  *****\n",
    " *******\n",
    "*********\n",
    "```"
   ]
  },
  {
   "cell_type": "code",
   "execution_count": 36,
   "id": "e0883fff-f1c4-4f4e-a7e9-52375f0d711e",
   "metadata": {},
   "outputs": [
    {
     "name": "stdout",
     "output_type": "stream",
     "text": [
      "    *\n",
      "   ***\n",
      "  *****\n",
      " *******\n",
      "*********\n"
     ]
    }
   ],
   "source": [
    "rows = 5\n",
    "spaces = rows - 1\n",
    "for i in range(rows):\n",
    "    for j in range(0, spaces):\n",
    "        print(end = \" \")\n",
    "    spaces = spaces - 1\n",
    "    \n",
    "    for j in range(0, 2 * i + 1):\n",
    "        print(\"*\", end = \"\")\n",
    "    \n",
    "    print()"
   ]
  },
  {
   "cell_type": "markdown",
   "id": "217d3b2b-fcf1-45c6-b55e-aea608f97dbf",
   "metadata": {},
   "source": [
    "Q.10. Write a code to create the given structure using while loop.\n",
    "```\n",
    "|||||||||\n",
    " |||||||\n",
    "  |||||\n",
    "   |||\n",
    "    |\n",
    "```"
   ]
  },
  {
   "cell_type": "code",
   "execution_count": 37,
   "id": "d5425c16-2569-4a44-bf04-cb7837ff8033",
   "metadata": {},
   "outputs": [
    {
     "name": "stdout",
     "output_type": "stream",
     "text": [
      "|||||||||\n",
      " |||||||\n",
      "  |||||\n",
      "   |||\n",
      "    |\n"
     ]
    }
   ],
   "source": [
    "rows = 5\n",
    "spaces = 0\n",
    "for i in range(rows, 0 , -1):\n",
    "    for j in range(0, spaces):\n",
    "        print(end = \" \")\n",
    "    \n",
    "    spaces = spaces + 1\n",
    "    \n",
    "    for j in range(0, 2 * i - 1):\n",
    "        print(\"|\", end = \"\")\n",
    "    \n",
    "    print()"
   ]
  },
  {
   "cell_type": "code",
   "execution_count": null,
   "id": "f9fc0732-259d-4db4-b6b6-2d3210202738",
   "metadata": {},
   "outputs": [],
   "source": []
  }
 ],
 "metadata": {
  "kernelspec": {
   "display_name": "Python 3 (ipykernel)",
   "language": "python",
   "name": "python3"
  },
  "language_info": {
   "codemirror_mode": {
    "name": "ipython",
    "version": 3
   },
   "file_extension": ".py",
   "mimetype": "text/x-python",
   "name": "python",
   "nbconvert_exporter": "python",
   "pygments_lexer": "ipython3",
   "version": "3.10.6"
  }
 },
 "nbformat": 4,
 "nbformat_minor": 5
}
