{
 "cells": [
  {
   "cell_type": "markdown",
   "id": "e9ec5b38-f99f-4b5d-8b11-6adae495547e",
   "metadata": {},
   "source": [
    "Assignment link : https://drive.google.com/file/d/1RjQBjq90BeqNuon_JUlrih7Tnda732cs/view"
   ]
  },
  {
   "cell_type": "markdown",
   "id": "4f4cb1f5-9af1-4401-ba97-7e3c11be34d7",
   "metadata": {},
   "source": [
    "1. In the below elements which of them are values or an expression? eg:- values can be\n",
    "integer or string and expressions will be mathematical operators.\n",
    "```\n",
    "* --> Expression\n",
    "'hello' --> Values\n",
    "-87.8 --> Values\n",
    "- --> Expression\n",
    "/ --> Expression\n",
    "+ --> Expression\n",
    "6 --> Values\n",
    "```"
   ]
  },
  {
   "cell_type": "markdown",
   "id": "bef94307-522c-4fcf-b531-befc39c8ef0c",
   "metadata": {},
   "source": [
    "2. What is the difference between string and variable?\n",
    "\n",
    "* String : It is a value assigned to some variable. String can be in between single/double quote, can change during runtime.\n",
    "* Variable : This is name which holds the data in memory, can't be changed during runtime. "
   ]
  },
  {
   "cell_type": "markdown",
   "id": "8f95aa27-efab-43db-8d05-e89634ef8fec",
   "metadata": {},
   "source": [
    "3. Describe three different data types.\n",
    "\n",
    "* int  -> Integer, which is number \n",
    "* str  -> String, Any string data\n",
    "* bool -> Boolean -> True/False"
   ]
  },
  {
   "cell_type": "code",
   "execution_count": 4,
   "id": "6272ee69-e5d8-42ff-a39c-a431a1dad568",
   "metadata": {},
   "outputs": [
    {
     "name": "stdout",
     "output_type": "stream",
     "text": [
      "<class 'int'>\n",
      "<class 'str'>\n",
      "<class 'bool'>\n"
     ]
    }
   ],
   "source": [
    "a = 10 \n",
    "b = \"hi\"\n",
    "c = True\n",
    "print(type(a))\n",
    "print(type(b))\n",
    "print(type(c))"
   ]
  },
  {
   "cell_type": "markdown",
   "id": "c180379f-e6ff-4234-82af-9fbbc409ac45",
   "metadata": {},
   "source": [
    "4. What is an expression made up of? What do all expressions do?\n",
    "* A combination of operands and operators is called an expression.\n",
    "* An expressions can do various operations like airthmetic operations , ex : a = 2 b = 3 , print(a + b) --> 5 , Logical, Comparsion, Bitwise etc\n"
   ]
  },
  {
   "cell_type": "markdown",
   "id": "67e246c2-3aa4-476f-b863-edd092a9a530",
   "metadata": {},
   "source": [
    "5. This assignment statements, like spam = 10. What is the difference between an expression and a statement?\n",
    "* A statement is not evaluated for some results. Ex = spam = 10\n",
    "* An expression is evaluated for some results. ex : a = 2 b = 3 , print(a == b) --> False "
   ]
  },
  {
   "cell_type": "markdown",
   "id": "5ffe83cc-9d3b-4c50-b276-7f72a08a71d1",
   "metadata": {},
   "source": [
    "6. After running the following code, what does the variable bacon contain?\n",
    "```\n",
    "bacon = 22\n",
    "bacon + 1\n",
    "```\n",
    "\n",
    "``` bacon contains 22, if the second line is bacon += 1 => Then the bacon contains 23```"
   ]
  },
  {
   "cell_type": "markdown",
   "id": "f59415cf-b474-4351-8293-d458bf04f895",
   "metadata": {},
   "source": [
    "7. What should the values of the following two terms be?\n",
    "```\n",
    "'spam' + 'spamspam'\n",
    "'spam' * 3\n",
    "```\n",
    "\n",
    "```'spam' + 'spamspam'  => 'spamspamspam' ==> This is appents two strings```\n",
    "\n",
    "``` 'spam' * 3 ==> 'spamspamspam' ==> Appends `spam` three times  ```"
   ]
  },
  {
   "cell_type": "markdown",
   "id": "91823806-9f81-404d-a3e9-1a95c1138529",
   "metadata": {},
   "source": [
    "8. Why is eggs a valid variable name while 100 is invalid?\n",
    "\n",
    "``` eggs => It is not reserved keyword and varibale can be anything should start with letter```\n",
    "\n",
    "``` 100 => variable should not start with digits, can be valid if it is _100```"
   ]
  },
  {
   "cell_type": "markdown",
   "id": "ebe4730b-4758-442a-b7fa-e837059bb437",
   "metadata": {},
   "source": [
    "9. What three functions can be used to get the integer, floating-point number, or string\n",
    "version of a value?\n",
    "\n",
    "```\n",
    "The int(), float(), and str() functions will evaluate to the integer, floating-point number, and string versions of the value passed to them.\n",
    "```\n"
   ]
  },
  {
   "cell_type": "code",
   "execution_count": 5,
   "id": "fd8719de-c0ae-42ac-9199-48ea239be4ef",
   "metadata": {},
   "outputs": [
    {
     "name": "stdout",
     "output_type": "stream",
     "text": [
      "10\n",
      "10.0\n",
      "10.25\n"
     ]
    }
   ],
   "source": [
    "value = 10.25\n",
    "print(int(value))\n",
    "\n",
    "value = \"10\"\n",
    "print(float(value))\n",
    "\n",
    "value = 10.25\n",
    "print(str(value))"
   ]
  },
  {
   "cell_type": "markdown",
   "id": "a0162460-cbd4-4cee-8420-e0bb18d80b5e",
   "metadata": {},
   "source": [
    "10. Why does this expression cause an error? How can you fix it?\n",
    "``` 'I have eaten' + 99 + ' burritos.' ```\n",
    "\n",
    "``` \n",
    "* The error is because of cocncatenating the integer with string.\n",
    "* This can be fixed by adding the single quoytes around 99\n",
    "```"
   ]
  },
  {
   "cell_type": "code",
   "execution_count": 1,
   "id": "81278dfe-e131-4a9f-b1ba-2d04f99a4aac",
   "metadata": {},
   "outputs": [
    {
     "data": {
      "text/plain": [
       "'I have eaten 99 burritos.'"
      ]
     },
     "execution_count": 1,
     "metadata": {},
     "output_type": "execute_result"
    }
   ],
   "source": [
    "'I have eaten ' + '99' + ' burritos.'"
   ]
  },
  {
   "cell_type": "code",
   "execution_count": null,
   "id": "1fb5773c-143a-4172-adeb-ee44ff649491",
   "metadata": {},
   "outputs": [],
   "source": []
  }
 ],
 "metadata": {
  "kernelspec": {
   "display_name": "Python 3 (ipykernel)",
   "language": "python",
   "name": "python3"
  },
  "language_info": {
   "codemirror_mode": {
    "name": "ipython",
    "version": 3
   },
   "file_extension": ".py",
   "mimetype": "text/x-python",
   "name": "python",
   "nbconvert_exporter": "python",
   "pygments_lexer": "ipython3",
   "version": "3.10.6"
  }
 },
 "nbformat": 4,
 "nbformat_minor": 5
}
