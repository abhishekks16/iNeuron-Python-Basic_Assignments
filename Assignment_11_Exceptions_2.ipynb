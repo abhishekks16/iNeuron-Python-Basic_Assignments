{
 "cells": [
  {
   "cell_type": "markdown",
   "id": "5617b426-bc62-4dd6-9329-91978e9ef7b7",
   "metadata": {},
   "source": [
    "```\n",
    "1. What is the role of the 'else' block in a try-except statement? Provide an example scenario where it would be useful.\n",
    "```"
   ]
  },
  {
   "cell_type": "code",
   "execution_count": null,
   "id": "695e1b45-f3cf-4b03-bfcd-79e7448753c0",
   "metadata": {},
   "outputs": [],
   "source": [
    "'''\n",
    "else block : This gets executes when there is no error in try block.\n",
    "'''\n",
    "\n",
    "num_1 = int(input(\"Enter number 1: \"))\n",
    "num_2 = int(input(\"Enter number 2: \"))\n",
    "try:\n",
    "    res = num_1 / num_2\n",
    "    print(f\"The Result is {res}\")\n",
    "except ZeroDivisionError:\n",
    "    print(\"Cannot divide number by zero\")\n",
    "else:\n",
    "    print(\"try block exceuted successfully without any error\")"
   ]
  },
  {
   "cell_type": "markdown",
   "id": "dd30fcf4-34e7-4abc-95f1-f3a0543e2e9b",
   "metadata": {},
   "source": [
    "```\n",
    "2. Can a try-except block be nested inside another try-except block? Explain with an example.\n",
    "```"
   ]
  },
  {
   "cell_type": "code",
   "execution_count": null,
   "id": "cd64b4a4-22e1-49e6-bf55-057ff28edbb7",
   "metadata": {},
   "outputs": [],
   "source": [
    "num1 = 10\n",
    "num2 = 0\n",
    "try:\n",
    "    print(\"This is Outer try block\")\n",
    "    try:\n",
    "        print(\"Exception is occuring in the nested try block\")\n",
    "        # Any operation or logic\n",
    "        res = num1 / num2\n",
    "    except ZeroDivisionError:\n",
    "        print(\"Cannot divide number by zero, nested except block\")\n",
    "except:\n",
    "    print(\"Exception to catch for the top try block\")"
   ]
  },
  {
   "cell_type": "markdown",
   "id": "b26678a8-5870-410a-bddc-7177a572bcc5",
   "metadata": {},
   "source": [
    "```\n",
    "3. How can you create a custom exception class in Python? Provide an example that demonstrates its usage.\n",
    "```"
   ]
  },
  {
   "cell_type": "code",
   "execution_count": null,
   "id": "3a44307b-6af3-43cc-bc17-6b8d3628d0ea",
   "metadata": {},
   "outputs": [],
   "source": [
    "class WrongNameException(Exception):\n",
    "    '''This is my custom exception class'''\n",
    "    pass"
   ]
  },
  {
   "cell_type": "code",
   "execution_count": null,
   "id": "11ad1cf4-a588-43b5-afd7-ef7df1cf5ac2",
   "metadata": {},
   "outputs": [],
   "source": [
    "input_name = input(\"Enter your name as 'Joe': \")\n",
    "\n",
    "try:\n",
    "    if input_name == \"Joe\":\n",
    "        print(\"You entered name correctly\")\n",
    "    else:\n",
    "        raise WrongNameException\n",
    "except WrongNameException:\n",
    "    print(\"You entered wrong name, please ty again\")"
   ]
  },
  {
   "cell_type": "markdown",
   "id": "47dc391e-0bc8-4d69-aa50-244140ac01e1",
   "metadata": {},
   "source": [
    "```\n",
    "4. What are some common exceptions that are built-in to Python?\n",
    "```"
   ]
  },
  {
   "cell_type": "code",
   "execution_count": null,
   "id": "1d840eb7-125f-4d7b-8b3f-5c9dde36de3f",
   "metadata": {},
   "outputs": [],
   "source": [
    "'''\n",
    "Below are some common exceptions in Python :\n",
    "* EOFError : This error is raised when the input() function hits the end-of-file condition\n",
    "* FloatingPointError : This error is raised when a floating-point operation fails to produce a valid result.\n",
    "* IndexError: This error is raised when an invalid index is used to access an element in a sequence, such as a list or a string.\n",
    "* MemoryError: This error is raised when the Python interpreter cannot allocate enough memory to perform an operation.\n",
    "* OverflowError: This error is raised when the result of an arithmetic operation exceeds the maximum representable value for a numeric type.\n",
    "* TabError/IndentationError: This error is raised when there are inconsistencies or incorrect usage of indentation in Python code.\n",
    "* ValueError: This error is raised when a function receives an argument of the correct type but an inappropriate value.\n",
    "'''\n",
    "print()"
   ]
  },
  {
   "cell_type": "markdown",
   "id": "3272b0fa-06b8-4242-a686-b0e854d0ae35",
   "metadata": {},
   "source": [
    "```\n",
    "5. What is logging in Python, and why is it important in software development?\n",
    "```"
   ]
  },
  {
   "cell_type": "code",
   "execution_count": null,
   "id": "99e510e2-0eb5-443e-a1f8-f0e05aaba457",
   "metadata": {},
   "outputs": [],
   "source": [
    "'''\n",
    "Logging is monitoring of events/operations which occurs during when software is in use.\n",
    "It is  import to log the events , because:\n",
    "* Helpful to identify quickly if there are any issue.\n",
    "* Helpful to monitor what is happening inside software.\n",
    "'''\n",
    "print()"
   ]
  },
  {
   "cell_type": "markdown",
   "id": "d8af557f-782b-4621-a65e-b73532862fb2",
   "metadata": {},
   "source": [
    "```\n",
    "6. Explain the purpose of log levels in Python logging and provide examples of when each log level would be appropriate.\n",
    "```"
   ]
  },
  {
   "cell_type": "code",
   "execution_count": null,
   "id": "1b208123-36ea-4aef-9544-d83d912ef03a",
   "metadata": {},
   "outputs": [],
   "source": [
    "'''\n",
    "Below are diffremnt log levels :\n",
    "\n",
    "DEBUG    : This logging level is useful which buidling the software or during debugging the software.\n",
    "INFO     : This logging level is useful to log the information,like confirming that things are working as expected.\n",
    "WARN     : This logging level is useful to log the warning messages, which says there is some issue but it's not breaking the software.\n",
    "ERROR    : This logging level is useful to log the error messages which says some operations/functions failed to complete.\n",
    "CRITICAL : This logging level is useful to log the critical/very serious messages, which stops application from running.\n",
    "\n",
    "'''\n",
    "print()"
   ]
  },
  {
   "cell_type": "markdown",
   "id": "310c7f40-1f6b-4f2f-9a67-f59e1dd49905",
   "metadata": {},
   "source": [
    "```\n",
    "7. What are log formatters in Python logging, and how can you customise the log message format using formatters?\n",
    "```"
   ]
  },
  {
   "cell_type": "code",
   "execution_count": null,
   "id": "e8e5e56e-3ea1-434a-ad83-8ce54e1565ae",
   "metadata": {},
   "outputs": [],
   "source": [
    "'''\n",
    "Log formatters are useful to format the logs with some good standard practice.\n",
    "Supppose intead for just logging the message with level, using some good format is helful for the readability and helpful to analyse the logs quickly.\n",
    "\n",
    "Format example :\n",
    "[Date-TimeStamp]-[Level]-[Log message]\n",
    "\n",
    "2023-06-18 06:13:57,173:CRITICAL:System failure: You need to handle the issue now\n",
    "'''\n",
    "print()"
   ]
  },
  {
   "cell_type": "markdown",
   "id": "29dae7ac-1e11-420a-91c1-3187bfeef20e",
   "metadata": {},
   "source": [
    "```\n",
    "8. How can you set up logging to capture log messages from multiple modules or classes in a Python application?\n",
    "```"
   ]
  },
  {
   "cell_type": "code",
   "execution_count": null,
   "id": "3bb233c6-de11-45f4-a78b-6c4ffacc049d",
   "metadata": {},
   "outputs": [],
   "source": [
    "# create base_logger.py and configure the logging\n",
    "\n",
    "import logging\n",
    "\n",
    "logger = logging\n",
    "logger.basicConfig(format='%(asctime)s - %(message)s', level=logging.INFO)"
   ]
  },
  {
   "cell_type": "code",
   "execution_count": null,
   "id": "e2dd255f-d4e2-4a80-9b3c-8b4d1e22d384",
   "metadata": {},
   "outputs": [],
   "source": [
    "# import to Other files\n",
    "from base_logger import logger  # this is importing logger from base_logger\n",
    "\n",
    "if __name__ == '__main__':\n",
    "    logger.info(\"This is an info message\")"
   ]
  },
  {
   "cell_type": "markdown",
   "id": "24ddd372-df88-4446-98da-52c3e8b95a23",
   "metadata": {},
   "source": [
    "```\n",
    "9. What is the difference between the logging and print statements in Python? When\n",
    "should you use logging over print statements in a real-world application?\n",
    "```"
   ]
  },
  {
   "cell_type": "code",
   "execution_count": null,
   "id": "3c4592d3-0c22-4e9d-86c6-5cfc2f7c258f",
   "metadata": {},
   "outputs": [],
   "source": [
    "'''\n",
    "Both logging and print servers diffrent purpose.\n",
    "\n",
    "* print\n",
    "* using print you can write only to the console, which is helful during development.\n",
    "* Not sutitable for production evironment.\n",
    "* There is no level to categorize.\n",
    "\n",
    "* logging\n",
    "* Support logging to multiple output destinations , like console, file etc\n",
    "* categorize by the sevearity of the logs level.\n",
    "* Easy to configure, like formatting.\n",
    "'''\n",
    "print()"
   ]
  },
  {
   "cell_type": "markdown",
   "id": "7c580557-e0f0-4593-924b-57a62bbaac99",
   "metadata": {},
   "source": [
    "```\n",
    "10. Write a Python program that logs a message to a file named \"app.log\" with the\n",
    "following requirements:\n",
    "● The log message should be \"Hello, World!\"\n",
    "● The log level should be set to \"INFO.\"\n",
    "● The log file should append new log entries without overwriting previous ones.\n",
    "```"
   ]
  },
  {
   "cell_type": "code",
   "execution_count": null,
   "id": "64d5dc00-cf9f-461a-9a0e-5aec1c1e144f",
   "metadata": {},
   "outputs": [],
   "source": [
    "import logging\n",
    "import os\n",
    "\n",
    "\n",
    "dir_path = os.getcwd()\n",
    "log_file_name = \"app.log\"\n",
    "\n",
    "full_path = os.path.join(dir_path,log_file_name)\n",
    "\n",
    "os.makedirs(dir_path, exist_ok = True)\n",
    "logger = logging.getLogger()\n",
    "\n",
    "logger.setLevel(logging.ERROR)\n",
    "\n",
    "# Filehandler\n",
    "\n",
    "handler = logging.FileHandler(full_path)\n",
    "handler.setFormatter(logging.Formatter('%(asctime)s:%(levelname)s:%(message)s'))\n",
    "                     \n",
    "logger.addHandler(handler)\n",
    "\n",
    "logger.critical('Hello, World!')\n",
    "\n",
    "handler.close()\n"
   ]
  },
  {
   "cell_type": "markdown",
   "id": "f760106b-e034-43da-8350-dda3d3a6d6e5",
   "metadata": {},
   "source": [
    "```\n",
    "11. Create a Python program that logs an error message to the console and a file named\n",
    "\"errors.log\" if an exception occurs during the program's execution. The error\n",
    "message should include the exception type and a timestamp.\n",
    "```"
   ]
  },
  {
   "cell_type": "code",
   "execution_count": null,
   "id": "f79cdb8f-6936-4693-bd61-55680143ada2",
   "metadata": {},
   "outputs": [],
   "source": [
    "import logging\n",
    "import os\n",
    "\n",
    "\n",
    "dir_path = os.getcwd()\n",
    "log_file_name = \"errors.log\"\n",
    "\n",
    "full_path = os.path.join(dir_path,log_file_name)\n",
    "\n",
    "os.makedirs(dir_path, exist_ok = True)\n",
    "\n",
    "logger = logging.getLogger()\n",
    "\n",
    "logger.setLevel(logging.ERROR)\n",
    "\n",
    "# log formatter\n",
    "logFormatter = logging.Formatter('%(asctime)s : %(levelname)s : %(message)s')\n",
    "\n",
    "# File handler\n",
    "\n",
    "fileHandler = logging.FileHandler(full_path)\n",
    "fileHandler.setFormatter(logFormatter)\n",
    "logger.addHandler(fileHandler)\n",
    "\n",
    "# console handler\n",
    "consoleHandler = logging.StreamHandler()\n",
    "consoleHandler.setFormatter(logFormatter)\n",
    "                     \n",
    "logger.addHandler(consoleHandler)\n",
    "\n",
    "#handler.close()\n"
   ]
  },
  {
   "cell_type": "code",
   "execution_count": null,
   "id": "36718e1b-f145-4df8-bd18-c8adc0d70d80",
   "metadata": {},
   "outputs": [],
   "source": [
    "def DivideNumbeyByZero():\n",
    "    num_1 = int(input(\"Enter number 1: \"))\n",
    "    num_2 = int(input(\"Enter number 2: \"))\n",
    "    try:\n",
    "        res = num_1 / num_2\n",
    "        print(f\"The Result is {res}\")\n",
    "    except ZeroDivisionError as ex :\n",
    "        logger.error(f\"{type(ex).__name__} : cannot divide number by zero\")"
   ]
  },
  {
   "cell_type": "code",
   "execution_count": null,
   "id": "60e54e24-c545-4d6f-b844-05c98a521d5c",
   "metadata": {},
   "outputs": [],
   "source": [
    "DivideNumbeyByZero()"
   ]
  },
  {
   "cell_type": "code",
   "execution_count": null,
   "id": "8ae672b4-bb6b-4fe4-8297-9dfde82ce638",
   "metadata": {},
   "outputs": [],
   "source": []
  }
 ],
 "metadata": {
  "kernelspec": {
   "display_name": "Python 3 (ipykernel)",
   "language": "python",
   "name": "python3"
  },
  "language_info": {
   "codemirror_mode": {
    "name": "ipython",
    "version": 3
   },
   "file_extension": ".py",
   "mimetype": "text/x-python",
   "name": "python",
   "nbconvert_exporter": "python",
   "pygments_lexer": "ipython3",
   "version": "3.10.6"
  }
 },
 "nbformat": 4,
 "nbformat_minor": 5
}
