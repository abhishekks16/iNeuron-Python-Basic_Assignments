{
 "cells": [
  {
   "cell_type": "markdown",
   "id": "b139da6d-1422-430a-b381-d998a5bd9b23",
   "metadata": {},
   "source": [
    "Assignment link : https://drive.google.com/file/d/1nGC6rHsEtfPf6mE0KtQnoH2xTostMKUc/view"
   ]
  },
  {
   "cell_type": "markdown",
   "id": "63a0049f-cfa9-4b21-b7f6-0db37c758685",
   "metadata": {},
   "source": [
    "Q.1. Create two int type variables, apply addition, subtraction, division and multiplications\n",
    "and store the results in variables. Then print the data in the following format by calling the\n",
    "variables:\n",
    "First variable is __ & second variable is __.\n",
    "Addition: __ + __ = __\n",
    "Subtraction: __ - __ = __\n",
    "Multiplication: __ * __ = __\n",
    "Division: __ / __ = __"
   ]
  },
  {
   "cell_type": "code",
   "execution_count": 2,
   "id": "5547e4c7-53be-49fd-b824-553d56b2bdff",
   "metadata": {},
   "outputs": [
    {
     "name": "stdin",
     "output_type": "stream",
     "text": [
      "Enter first number 20\n",
      "Enter second number 10\n"
     ]
    },
    {
     "name": "stdout",
     "output_type": "stream",
     "text": [
      "First variable is 20 & second variable is 10.\n",
      "Addition: 20 + 10 = 30\n",
      "Subtraction: 20 - 10 = 10\n",
      "Multiplication: 20 * 10 = 200\n",
      "Division: 20 / 10 = 2.0\n"
     ]
    }
   ],
   "source": [
    "number_1 = int(input(\"Enter first number\"))\n",
    "number_2 = int(input(\"Enter second number\"))\n",
    "\n",
    "addition = number_1 + number_2\n",
    "subtraction = number_1 - number_2\n",
    "multiplication = number_1 * number_2\n",
    "division = number_1 / number_2\n",
    "\n",
    "print(f\"First variable is {number_1} & second variable is {number_2}.\")\n",
    "print(f\"Addition: {number_1} + {number_2} = {addition}\")\n",
    "print(f\"Subtraction: {number_1} - {number_2} = {subtraction}\")\n",
    "print(f\"Multiplication: {number_1} * {number_2} = {multiplication}\")\n",
    "print(f\"Division: {number_1} / {number_2} = {division}\")"
   ]
  },
  {
   "cell_type": "markdown",
   "id": "2741594f-f036-4283-9d05-3f651b2a927c",
   "metadata": {},
   "source": [
    "Q.2. What is the difference between the following operators:\n",
    "(i) ‘/’ & ‘//’\n",
    "(ii) ‘**’ & ‘^’\n",
    "\n",
    "```\n",
    "‘/’ --> This operator is for division\n",
    "‘//’ --> This operator is for Floor division \n",
    "\n",
    "‘**’ -- > This operator is Exponent operator , a ** b says \"a power of b\"\n",
    "‘^’  --> This operator is XOR operator. Compares each bit of the first operand with the corresponding bit of the second operand. If one of the bits is 1 (but not both), the corresponding result bit is set to 1. Otherwise, the result bit is set to 0.\n",
    "```"
   ]
  },
  {
   "cell_type": "markdown",
   "id": "ba444f59-3b2b-441a-a7af-543940097235",
   "metadata": {},
   "source": [
    "Q.3. List the logical operators.\n",
    "\n",
    "```\n",
    "and ==> If both are True only then it is True, else False\n",
    "or  ==> If anyone is True , it is True else False\n",
    "not ==> If Ture, converts True => False and vice versa\n",
    "```"
   ]
  },
  {
   "cell_type": "markdown",
   "id": "adc9e631-d7d2-41b9-a94c-bad8ef64b5fb",
   "metadata": {},
   "source": [
    "Q.4. Explain right shift operator and left shift operator with examples.\n",
    "```\n",
    "Right Shift Operator >>: Shifts the bits of the number to the right by the number of bits specified. Each shift to the right corresponds to dividing the number by 2.\n",
    "Left Shift Operator <<: Shifts the bits of the number to the left by the number of bits specified. Each shift to the left corresponds to multiplying the number by 2.\n",
    "```"
   ]
  },
  {
   "cell_type": "code",
   "execution_count": 4,
   "id": "dc395ba5-74d3-4887-bdae-9bace87d26d2",
   "metadata": {},
   "outputs": [
    {
     "name": "stdout",
     "output_type": "stream",
     "text": [
      "2\n",
      "0b10\n"
     ]
    }
   ],
   "source": [
    "a = 10        # in binary: 1010\n",
    "result = a >> 2  # result is 2 (in binary: 0010)\n",
    "print(result)\n",
    "print(bin(result))"
   ]
  },
  {
   "cell_type": "code",
   "execution_count": 5,
   "id": "3ba79608-3d05-4bab-a3e9-fb95a4e2279e",
   "metadata": {},
   "outputs": [
    {
     "name": "stdout",
     "output_type": "stream",
     "text": [
      "40\n",
      "0b101000\n"
     ]
    }
   ],
   "source": [
    "a = 10        # in binary: 1010\n",
    "result = a << 2  # result is 40 (in binary: 101000)\n",
    "print(result)\n",
    "print(bin(result))"
   ]
  },
  {
   "cell_type": "markdown",
   "id": "ecbc6d35-04f5-4042-ad72-1f012e65f57c",
   "metadata": {},
   "source": [
    "Q.5. Create a list containing int type data of length 15. Then write a code to check if 10 is present in the list or not."
   ]
  },
  {
   "cell_type": "code",
   "execution_count": 8,
   "id": "903429cb-b6d8-47b8-9fc4-ef2dd40758b8",
   "metadata": {},
   "outputs": [
    {
     "name": "stdout",
     "output_type": "stream",
     "text": [
      "Item 10 is exists in list\n"
     ]
    }
   ],
   "source": [
    "my_list = [1,2,3,4,5,6,7,8,9,10,11,12,13,14,15]\n",
    "for item in my_list:\n",
    "    if item == 10:\n",
    "        print(f\"Item {item} is exists in list\")"
   ]
  },
  {
   "cell_type": "code",
   "execution_count": null,
   "id": "518553a2-5fe2-40a3-b65e-81acddd49202",
   "metadata": {},
   "outputs": [],
   "source": []
  }
 ],
 "metadata": {
  "kernelspec": {
   "display_name": "Python 3 (ipykernel)",
   "language": "python",
   "name": "python3"
  },
  "language_info": {
   "codemirror_mode": {
    "name": "ipython",
    "version": 3
   },
   "file_extension": ".py",
   "mimetype": "text/x-python",
   "name": "python",
   "nbconvert_exporter": "python",
   "pygments_lexer": "ipython3",
   "version": "3.10.6"
  }
 },
 "nbformat": 4,
 "nbformat_minor": 5
}
