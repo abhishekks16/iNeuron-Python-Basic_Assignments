{
 "cells": [
  {
   "cell_type": "markdown",
   "id": "8844ba86-b332-4b42-9c65-d46b41e354ba",
   "metadata": {},
   "source": [
    "Assignment link : https://drive.google.com/file/d/1zdWsymBu3P-L27CnBViY8MSeedeSc_2Y/view"
   ]
  },
  {
   "cell_type": "markdown",
   "id": "043b4da8-4141-4220-af7d-eec1e4dae7f1",
   "metadata": {},
   "source": [
    "1. What exactly is []?\n",
    "``` [] ==> Represents empty list ```"
   ]
  },
  {
   "cell_type": "markdown",
   "id": "1ea0b64c-901b-48f1-9df4-36635b1dfe75",
   "metadata": {},
   "source": [
    "2. In a list of values stored in a variable called spam, how would you assign the value 'hello' as the third value? (Assume [2, 4, 6, 8, 10] are in spam.)"
   ]
  },
  {
   "cell_type": "code",
   "execution_count": 1,
   "id": "20396479-e1e3-404a-ab9c-252be11ea015",
   "metadata": {},
   "outputs": [
    {
     "name": "stdout",
     "output_type": "stream",
     "text": [
      "[2, 4, 6, 8, 10]\n",
      "[2, 4, 'hello', 8, 10]\n"
     ]
    }
   ],
   "source": [
    "spam = [2, 4, 6, 8, 10]\n",
    "print(spam)\n",
    "spam[2] = 'hello'\n",
    "print(spam)"
   ]
  },
  {
   "cell_type": "markdown",
   "id": "81dacb28-eb35-43fd-9b25-5efd7b49eb03",
   "metadata": {},
   "source": [
    "Let's pretend the spam includes the list ['a', 'b', 'c', 'd'] for the next three queries."
   ]
  },
  {
   "cell_type": "code",
   "execution_count": 2,
   "id": "5336e4f9-4294-4eb2-b4f0-4b825fec9ffa",
   "metadata": {},
   "outputs": [],
   "source": [
    "spam = ['a', 'b', 'c', 'd']"
   ]
  },
  {
   "cell_type": "markdown",
   "id": "23c3bad6-7ade-4832-b037-f4055f5d6674",
   "metadata": {},
   "source": [
    "3. What is the value of spam[int(int('3' * 2) / 11)]?"
   ]
  },
  {
   "cell_type": "code",
   "execution_count": 3,
   "id": "c94259d0-1861-45e5-a49d-86231b54b6fc",
   "metadata": {},
   "outputs": [
    {
     "name": "stdout",
     "output_type": "stream",
     "text": [
      "3\n",
      "\n",
      "The value of spam[int(int('3' * 2) / 11)] is : d\n"
     ]
    }
   ],
   "source": [
    "#print('3'*2)\n",
    "#print(int('3'*2))\n",
    "#print(int('3'*2)/11)\n",
    "print(int(int('3'*2)/11))\n",
    "\n",
    "print(f\"\\nThe value of spam[int(int('3' * 2) / 11)] is : {spam[int(int('3' * 2) / 11)]}\")"
   ]
  },
  {
   "cell_type": "markdown",
   "id": "4703454c-4328-42a4-9717-8e66422e9065",
   "metadata": {},
   "source": [
    "4. What is the value of spam[-1]?\n",
    "```The last value in teh list spam i.e 'd'```"
   ]
  },
  {
   "cell_type": "code",
   "execution_count": 4,
   "id": "07656d24-3faa-43c8-97b5-1c45ca8861ba",
   "metadata": {},
   "outputs": [
    {
     "data": {
      "text/plain": [
       "'d'"
      ]
     },
     "execution_count": 4,
     "metadata": {},
     "output_type": "execute_result"
    }
   ],
   "source": [
    "spam[-1]"
   ]
  },
  {
   "cell_type": "markdown",
   "id": "49c2fa01-984e-4bea-9314-b9181886b496",
   "metadata": {},
   "source": [
    "5. What is the value of spam[:2]?\n",
    "```prints the value from list index 0 to 2 (Exclude index 2)```"
   ]
  },
  {
   "cell_type": "code",
   "execution_count": 5,
   "id": "bfee1ae2-eca9-4d05-af47-99f796a15ed5",
   "metadata": {},
   "outputs": [
    {
     "data": {
      "text/plain": [
       "['a', 'b']"
      ]
     },
     "execution_count": 5,
     "metadata": {},
     "output_type": "execute_result"
    }
   ],
   "source": [
    "spam[:2]"
   ]
  },
  {
   "cell_type": "markdown",
   "id": "e7cb8ab6-91a2-4824-baf7-eacfa5f33fd8",
   "metadata": {},
   "source": [
    "Let's pretend bacon has the list [3.14, 'cat,' 11, 'cat,' True] for the next three questions."
   ]
  },
  {
   "cell_type": "code",
   "execution_count": 6,
   "id": "e61ae210-d18d-443d-a1c9-82fd081a2eab",
   "metadata": {},
   "outputs": [],
   "source": [
    "bacon = [3.14, 'cat', 11, 'cat', True]"
   ]
  },
  {
   "cell_type": "markdown",
   "id": "b1fbd486-a4fb-4d98-b43e-28504c7985af",
   "metadata": {},
   "source": [
    "6. What is the value of bacon.index('cat')?\n",
    "```The answer is 1``` "
   ]
  },
  {
   "cell_type": "code",
   "execution_count": 7,
   "id": "8cd1c62b-25ab-43f0-8633-e7cb812a3e95",
   "metadata": {},
   "outputs": [
    {
     "data": {
      "text/plain": [
       "1"
      ]
     },
     "execution_count": 7,
     "metadata": {},
     "output_type": "execute_result"
    }
   ],
   "source": [
    "bacon.index('cat')"
   ]
  },
  {
   "cell_type": "markdown",
   "id": "631d50a5-e005-4354-b3a2-897c1752b350",
   "metadata": {},
   "source": [
    "7. How does bacon.append(99) change the look of the list value in bacon?\n",
    "```Adds 99 to the end of the list```"
   ]
  },
  {
   "cell_type": "code",
   "execution_count": 8,
   "id": "8f0bb3c2-9809-4885-b0b1-da42e59e122f",
   "metadata": {},
   "outputs": [
    {
     "name": "stdout",
     "output_type": "stream",
     "text": [
      "[3.14, 'cat', 11, 'cat', True, 99]\n"
     ]
    }
   ],
   "source": [
    "bacon.append(99)\n",
    "print(bacon)"
   ]
  },
  {
   "cell_type": "markdown",
   "id": "f825b0a3-1620-4999-83ac-20932e8f1a92",
   "metadata": {},
   "source": [
    "8. How does bacon.remove('cat') change the look of the list in bacon?\n",
    "```Removes the value 'cat' from the list bacon. If there are multiple 'cat' it removes the first 'cat' in the list```"
   ]
  },
  {
   "cell_type": "code",
   "execution_count": 9,
   "id": "b54a9550-8243-41bc-a8be-469d55d3197c",
   "metadata": {},
   "outputs": [
    {
     "name": "stdout",
     "output_type": "stream",
     "text": [
      "[3.14, 11, 'cat', True, 99]\n"
     ]
    }
   ],
   "source": [
    "bacon.remove('cat')\n",
    "print(bacon)"
   ]
  },
  {
   "cell_type": "markdown",
   "id": "0fa52aaa-b91f-46bc-95d6-c4f86783ca37",
   "metadata": {},
   "source": [
    "9. What are the list concatenation and list replication operators?\n",
    "```\n",
    "concatenation (+) ==> Join the two lists\n",
    "replication (*) ==> replicates the list with number of times mentioned\n",
    "```"
   ]
  },
  {
   "cell_type": "code",
   "execution_count": 10,
   "id": "ac4de6b0-fa1c-4320-9834-dbb26eeac333",
   "metadata": {},
   "outputs": [
    {
     "name": "stdout",
     "output_type": "stream",
     "text": [
      "[3.14, 11, 'cat', True, 99, 'a', 'b', 'c', 'd']\n",
      "[3.14, 11, 'cat', True, 99, 3.14, 11, 'cat', True, 99, 3.14, 11, 'cat', True, 99]\n"
     ]
    }
   ],
   "source": [
    "print(bacon + spam)\n",
    "print(bacon * 3 )"
   ]
  },
  {
   "cell_type": "markdown",
   "id": "1612f384-46ba-47e4-9325-1e52210b9203",
   "metadata": {},
   "source": [
    "10. What is difference between the list methods append() and insert()?\n",
    "```\n",
    "index => takes two arguments insert(position, value) : inserts the value into the specified postion\n",
    "append => Always adds an item to the end of the list\n",
    "```"
   ]
  },
  {
   "cell_type": "code",
   "execution_count": 11,
   "id": "cf2a1a0a-b365-4113-a8cf-519d92af0773",
   "metadata": {},
   "outputs": [
    {
     "name": "stdout",
     "output_type": "stream",
     "text": [
      "[3.14, 11, 'cat', True, 99]\n",
      "[5, 5, 3.14, 11, 'cat', True, 99]\n"
     ]
    }
   ],
   "source": [
    "print(bacon)\n",
    "bacon.insert(0,5)\n",
    "bacon.insert(0,5)\n",
    "print(bacon)"
   ]
  },
  {
   "cell_type": "markdown",
   "id": "0d2b1729-bcb3-4761-a720-badd8814beac",
   "metadata": {},
   "source": [
    "11. What are the two methods for removing items from a list?\n",
    "```\n",
    "remove() ==> removes the specified value from first matched position in the list\n",
    "pop() ==> removes the element from the specified index\n",
    "```"
   ]
  },
  {
   "cell_type": "code",
   "execution_count": 12,
   "id": "cd896998-7de2-4484-8939-3afb33078b52",
   "metadata": {},
   "outputs": [
    {
     "name": "stdout",
     "output_type": "stream",
     "text": [
      "[5, 3.14, 11, 'cat', True, 99]\n",
      "[3.14, 11, 'cat', True, 99]\n"
     ]
    }
   ],
   "source": [
    "bacon.remove(5)\n",
    "print(bacon)\n",
    "bacon.pop(0)\n",
    "print(bacon)"
   ]
  },
  {
   "cell_type": "markdown",
   "id": "f909ef9e-2c27-4b77-9806-b1d8274a52a7",
   "metadata": {},
   "source": [
    "12. Describe how list values and string values are identical.\n",
    "```\n",
    "The differences between them are that firstly, \n",
    "Lists are mutable but Strings are immutable. \n",
    "Secondly, elements of a list can be of different types whereas a String only contains characters that are all of String type.\n",
    "```"
   ]
  },
  {
   "cell_type": "markdown",
   "id": "b35b0ce4-bcfc-4c91-9004-7b83b1d9885c",
   "metadata": {},
   "source": [
    "13. What's the difference between tuples and lists?\n",
    "```\n",
    "Tuples :\n",
    "* Enclsoed within an round bracket ()\n",
    "* These are immutable\n",
    "\n",
    "List:\n",
    "* Enclsoed within an square bracket []\n",
    "* These are mutable\n",
    "```"
   ]
  },
  {
   "cell_type": "markdown",
   "id": "c3b5b1e2-ea23-4c28-a44b-50b8cf1feec9",
   "metadata": {},
   "source": [
    "14. How do you type a tuple value that only contains the integer 42?\n",
    "```my_tuple = (42)```"
   ]
  },
  {
   "cell_type": "code",
   "execution_count": 13,
   "id": "5e75a201-7aeb-4e72-8515-9498dffed893",
   "metadata": {},
   "outputs": [
    {
     "name": "stdout",
     "output_type": "stream",
     "text": [
      "42\n"
     ]
    }
   ],
   "source": [
    "my_tuple = (42)\n",
    "print(my_tuple)"
   ]
  },
  {
   "cell_type": "markdown",
   "id": "79f08618-de21-4d96-a401-f95166e8bbc8",
   "metadata": {},
   "source": [
    "15. How do you get a list value's tuple form? How do you get a tuple value's list form?"
   ]
  },
  {
   "cell_type": "code",
   "execution_count": 14,
   "id": "35533d0c-83f7-41fd-95d3-ff17769c70c1",
   "metadata": {},
   "outputs": [
    {
     "name": "stdout",
     "output_type": "stream",
     "text": [
      "[10, 20, 30, 40, 50]\n",
      "(100, 200, 300, 400, 500)\n"
     ]
    }
   ],
   "source": [
    "my_tuple = (10, 20, 30, 40, 50)\n",
    "my_list = [100, 200, 300, 400, 500]\n",
    "\n",
    "print(list(my_tuple))\n",
    "print(tuple(my_list))"
   ]
  },
  {
   "cell_type": "markdown",
   "id": "70da8e31-2055-459d-88c3-d7123c7cce25",
   "metadata": {},
   "source": [
    "16. Variables that \"contain\" list values are not necessarily lists themselves. Instead, what do they contain?\n",
    "```These conatins the reference to the list values in the memory```"
   ]
  },
  {
   "cell_type": "markdown",
   "id": "d9b5b7f7-e7f0-4219-a1d4-bab816a5e377",
   "metadata": {},
   "source": [
    "17. How do you distinguish between copy.copy() and copy.deepcopy()?\n",
    "Deep copy\n",
    "```\n",
    "A deep copy creates a new compound object before inserting copies of the items found in the original into it in a recursive manner. \n",
    "It means first constructing a new collection object and then recursively populating it with copies of the child objects found in the original. \n",
    "In the case of deep copy, a copy of the object is copied into another object. It means that any changes made to a copy of the object do not reflect in the original object. \n",
    "```\n",
    "\n",
    "Shallow copy\n",
    "```\n",
    "A shallow copy creates a new compound object and then references the objects contained in the original within it, which means it constructs a new collection object \n",
    "and then populates it with references to the child objects found in the original. \n",
    "The copying process does not recurse and therefore won’t create copies of the child objects themselves. In the case of shallow copy, a reference of an object is copied into another object. \n",
    "It means that any changes made to a copy of an object do reflect in the original object. \n",
    "In python, this is implemented using the “copy()” function.\n",
    "```"
   ]
  }
 ],
 "metadata": {
  "kernelspec": {
   "display_name": "Python 3 (ipykernel)",
   "language": "python",
   "name": "python3"
  },
  "language_info": {
   "codemirror_mode": {
    "name": "ipython",
    "version": 3
   },
   "file_extension": ".py",
   "mimetype": "text/x-python",
   "name": "python",
   "nbconvert_exporter": "python",
   "pygments_lexer": "ipython3",
   "version": "3.10.6"
  }
 },
 "nbformat": 4,
 "nbformat_minor": 5
}
