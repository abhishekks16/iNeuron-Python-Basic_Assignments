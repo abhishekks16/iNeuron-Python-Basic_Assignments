{
 "cells": [
  {
   "cell_type": "markdown",
   "id": "be13f4d8-aba3-4f7a-a09b-27d47b7c466f",
   "metadata": {},
   "source": [
    "Assignemnet link : https://drive.google.com/file/d/1eeRUJ1JzCWBWWPi9u3-q8ICJRSQwHUK8/view"
   ]
  }
 ],
 "metadata": {
  "kernelspec": {
   "display_name": "Python 3 (ipykernel)",
   "language": "python",
   "name": "python3"
  },
  "language_info": {
   "codemirror_mode": {
    "name": "ipython",
    "version": 3
   },
   "file_extension": ".py",
   "mimetype": "text/x-python",
   "name": "python",
   "nbconvert_exporter": "python",
   "pygments_lexer": "ipython3",
   "version": "3.10.6"
  }
 },
 "nbformat": 4,
 "nbformat_minor": 5
}
