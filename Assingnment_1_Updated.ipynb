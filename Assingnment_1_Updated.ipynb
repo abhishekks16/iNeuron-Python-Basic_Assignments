{
 "cells": [
  {
   "cell_type": "markdown",
   "id": "f18b0f7d-346a-4d0c-8f0d-6dcacf55632e",
   "metadata": {},
   "source": [
    "Assignment link : https://drive.google.com/file/d/1RjQBjq90BeqNuon_JUlrih7Tnda732cs/view"
   ]
  },
  {
   "cell_type": "markdown",
   "id": "a3862341-9120-4092-b5f8-2f2a4e5ac849",
   "metadata": {},
   "source": [
    "1. In the below elements which of them are values or an expression? eg:- values can be\n",
    "integer or string and expressions will be mathematical operators.\n",
    "```\n",
    "* --> Expression\n",
    "'hello' --> Values\n",
    "-87.8 --> Values\n",
    "- --> Expression\n",
    "/ --> Expression\n",
    "+ --> Expression\n",
    "6 --> Values\n",
    "```"
   ]
  },
  {
   "cell_type": "markdown",
   "id": "048cdee9-2fbc-4b48-9c1b-c42237194dcd",
   "metadata": {},
   "source": [
    "2. What is the difference between string and variable?\n",
    "\n",
    "* String : It is a value assigned to some variable. String can be in between single/double quote, can change during runtime.\n",
    "* Variable : This is name which holds the data in memory, can't be changed during runtime. "
   ]
  },
  {
   "cell_type": "markdown",
   "id": "1606e86c-19a2-4753-b602-f50e8498efde",
   "metadata": {},
   "source": [
    "3. Describe three different data types.\n",
    "\n",
    "* int  -> Integer, which is number \n",
    "* str  -> String, Any string data\n",
    "* bool -> Boolean -> True/False"
   ]
  },
  {
   "cell_type": "code",
   "execution_count": 1,
   "id": "f5dd9e17-3c9b-45b9-8041-d769f648a0c7",
   "metadata": {},
   "outputs": [
    {
     "name": "stdout",
     "output_type": "stream",
     "text": [
      "<class 'int'>\n",
      "<class 'str'>\n",
      "<class 'bool'>\n"
     ]
    }
   ],
   "source": [
    "a = 10 \n",
    "b = \"hi\"\n",
    "c = True\n",
    "print(type(a))\n",
    "print(type(b))\n",
    "print(type(c))"
   ]
  },
  {
   "cell_type": "markdown",
   "id": "4c37827c-a9e9-4c68-a9ed-9644c7465749",
   "metadata": {},
   "source": [
    "4. What is an expression made up of? What do all expressions do?\n",
    "* A combination of operands and operators is called an expression.\n",
    "* An expressions can do various operations like airthmetic operations , ex : a = 2 b = 3 , print(a + b) --> 5 , Logical, Comparsion, Bitwise etc"
   ]
  },
  {
   "cell_type": "markdown",
   "id": "9a50a0bf-209a-44d2-8d95-d5df5b919536",
   "metadata": {},
   "source": [
    "5. This assignment statements, like spam = 10. What is the difference between an expression and a statement?\n",
    "* A statement is not evaluated for some results. Ex = spam = 10\n",
    "* An expression is evaluated for some results. ex : a = 2 b = 3 , print(a == b) --> False "
   ]
  },
  {
   "cell_type": "markdown",
   "id": "e18f146b-7534-4d79-8d4d-73ebf0e3d82e",
   "metadata": {},
   "source": [
    "6. After running the following code, what does the variable bacon contain?\n",
    "```\n",
    "bacon = 22\n",
    "bacon + 1\n",
    "```\n",
    "\n",
    "```\n",
    "bacon contains 22, if the second line is bacon += 1 => Then the bacon contains 23\n",
    "```"
   ]
  },
  {
   "cell_type": "markdown",
   "id": "7faac7e3-0d41-4fd3-840e-a78546429b41",
   "metadata": {},
   "source": [
    "7. What should the values of the following two terms be?\n",
    "```\n",
    "'spam' + 'spamspam'\n",
    "'spam' * 3\n",
    "```\n",
    "\n",
    "```\n",
    "'spam' + 'spamspam'  => 'spamspamspam' ==> This is appents two strings\n",
    "```\n",
    "\n",
    "```\n",
    "'spam' * 3 ==> 'spamspamspam' ==> Appends `spam` three times \n",
    "```"
   ]
  },
  {
   "cell_type": "markdown",
   "id": "bc4f96c6-7740-4901-aaa5-8f5732684f1d",
   "metadata": {},
   "source": [
    "8. Why is eggs a valid variable name while 100 is invalid?\n",
    "\n",
    "``` \n",
    "eggs => It is not reserved keyword and varibale can be anything should start with letter\n",
    "```\n",
    "\n",
    "``` \n",
    "100 => variable should not start with digits, can be valid if it is _100\n",
    "```"
   ]
  },
  {
   "cell_type": "markdown",
   "id": "e5af1497-dba1-43ac-8b6e-61225193173b",
   "metadata": {},
   "source": [
    "9. What three functions can be used to get the integer, floating-point number, or string\n",
    "version of a value?\n",
    "\n",
    "```\n",
    "The int(), float(), and str() functions will evaluate to the integer, floating-point number, and string versions of the value passed to them.\n",
    "```"
   ]
  },
  {
   "cell_type": "code",
   "execution_count": 5,
   "id": "ad7189e8-5e0d-4883-98be-d9a6b533fc02",
   "metadata": {},
   "outputs": [
    {
     "name": "stdout",
     "output_type": "stream",
     "text": [
      "10\n",
      "10.0\n",
      "10.25\n"
     ]
    }
   ],
   "source": [
    "value = 10.25\n",
    "print(int(value))\n",
    "\n",
    "value = \"10\"\n",
    "print(float(value))\n",
    "\n",
    "value = 10.25\n",
    "print(str(value))"
   ]
  },
  {
   "cell_type": "markdown",
   "id": "a6a7998e-ed95-4b97-b48d-690ed33733b2",
   "metadata": {},
   "source": [
    "10. Why does this expression cause an error? How can you fix it?\n",
    "``` \n",
    "'I have eaten' + 99 + ' burritos.' \n",
    "```\n",
    "\n",
    "``` \n",
    "* The error is because of cocncatenating the integer with string.\n",
    "* This can be fixed by adding the single quoytes around 99\n",
    "```"
   ]
  },
  {
   "cell_type": "code",
   "execution_count": 6,
   "id": "17aa58fd-caa2-48fb-b013-37852b3644a1",
   "metadata": {},
   "outputs": [
    {
     "data": {
      "text/plain": [
       "'I have eaten 99 burritos.'"
      ]
     },
     "execution_count": 6,
     "metadata": {},
     "output_type": "execute_result"
    }
   ],
   "source": [
    "'I have eaten ' + '99' + ' burritos.'"
   ]
  },
  {
   "cell_type": "code",
   "execution_count": null,
   "id": "17fd3392-4c82-4393-a84e-00a3eb9a201c",
   "metadata": {},
   "outputs": [],
   "source": []
  }
 ],
 "metadata": {
  "kernelspec": {
   "display_name": "Python 3 (ipykernel)",
   "language": "python",
   "name": "python3"
  },
  "language_info": {
   "codemirror_mode": {
    "name": "ipython",
    "version": 3
   },
   "file_extension": ".py",
   "mimetype": "text/x-python",
   "name": "python",
   "nbconvert_exporter": "python",
   "pygments_lexer": "ipython3",
   "version": "3.10.6"
  }
 },
 "nbformat": 4,
 "nbformat_minor": 5
}
