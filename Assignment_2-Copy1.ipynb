{
 "cells": [
  {
   "cell_type": "markdown",
   "id": "be13f4d8-aba3-4f7a-a09b-27d47b7c466f",
   "metadata": {},
   "source": [
    "Assignemnet link : https://drive.google.com/file/d/1eeRUJ1JzCWBWWPi9u3-q8ICJRSQwHUK8/view"
   ]
  },
  {
   "cell_type": "markdown",
   "id": "a4ef7b23-5dc8-4a50-b9dd-a7918432f034",
   "metadata": {},
   "source": [
    "1.What are the two values of the Boolean data type? How do you write them?\n",
    "\n",
    "``` \n",
    "True\n",
    "False\n",
    "```"
   ]
  },
  {
   "cell_type": "markdown",
   "id": "81cece3a-318f-4b80-b290-b35907367077",
   "metadata": {},
   "source": [
    "2. What are the three different types of Boolean operators?\n",
    "``` and, or, not ```"
   ]
  },
  {
   "cell_type": "markdown",
   "id": "18a6f9a1-106a-4a61-828f-58013fd8f944",
   "metadata": {},
   "source": [
    "3. Make a list of each Boolean operator's truth tables (i.e. every possible combination of Boolean\n",
    "values for the operator and what it evaluate )."
   ]
  },
  {
   "cell_type": "markdown",
   "id": "13848f4c-276e-435a-be63-3c6a67850a70",
   "metadata": {},
   "source": [
    "* and\n",
    "```\n",
    "0 1 => 0\n",
    "1 0 => 0\n",
    "1 1 => 1\n",
    "0 0 => 0\n",
    "```\n",
    "* or\n",
    "```\n",
    "0 1 => 1\n",
    "1 0 => 1\n",
    "1 1 => 1\n",
    "0 0 => 0\n",
    "```\n",
    "* not\n",
    "```\n",
    "not 1 ==> 0\n",
    "not 0 ==> 1\n",
    "```\n"
   ]
  },
  {
   "cell_type": "markdown",
   "id": "e07d0402-1582-44fb-951b-e1671c2a1001",
   "metadata": {},
   "source": [
    "4. What are the values of the following expressions?"
   ]
  },
  {
   "cell_type": "markdown",
   "id": "3ccadd2e-be01-4d3a-aa57-efc61bdf0e8b",
   "metadata": {},
   "source": [
    "```\n",
    "(5 > 4) and (3 == 5)                ==> False\n",
    "not (5 > 4)                         ==> False\n",
    "(5 > 4) or (3 == 5)                 ==> True\n",
    "not ((5 > 4) or (3 == 5))           ==> False\n",
    "(True and True) and (True == False) ==> False\n",
    "(not False) or (not True)           ==> True\n",
    "```"
   ]
  },
  {
   "cell_type": "code",
   "execution_count": 1,
   "id": "b0d9d333-a176-4bf1-a1f0-f2acb1899f2d",
   "metadata": {},
   "outputs": [
    {
     "name": "stdout",
     "output_type": "stream",
     "text": [
      "False\n",
      "False\n",
      "True\n",
      "False\n",
      "False\n",
      "True\n"
     ]
    }
   ],
   "source": [
    "print((5 > 4) and (3 == 5))\n",
    "print(not (5 > 4))\n",
    "print((5 > 4) or (3 == 5))\n",
    "print(not ((5 > 4) or (3 == 5)))\n",
    "print((True and True) and (True == False))\n",
    "print((not False) or (not True))"
   ]
  },
  {
   "cell_type": "markdown",
   "id": "7e5ba2e7-7756-4dba-9301-23526ec295a0",
   "metadata": {},
   "source": [
    "5. What are the six comparison operators?\n",
    "\n",
    "``` ==, !=, >, <, >=, <= ```"
   ]
  },
  {
   "cell_type": "markdown",
   "id": "28f3acfe-954d-4f25-beb7-081d45f2c816",
   "metadata": {},
   "source": [
    "6. How do you tell the difference between the equal to and assignment operators? Describe a condition and when you would use one.\n",
    "```\n",
    "= : Equals (Used to assign data to variable) Ex : a = 10\n",
    "== : Double equals (used to compare the two values), returs either True or False Ex : a = 10 b = 5 , a == b ==> False\n",
    "```"
   ]
  },
  {
   "cell_type": "markdown",
   "id": "c8801dcb-2f24-430a-b849-f8ec9e8981e7",
   "metadata": {},
   "source": [
    "7. Identify the three blocks in this code:\n",
    "```\n",
    "spam = 0\n",
    "if spam == 10:\n",
    "print('eggs')\n",
    "if spam &gt; 5:\n",
    "print('bacon')\n",
    "else:\n",
    "print('ham')\n",
    "print('spam')\n",
    "print('spam')\n",
    "```"
   ]
  },
  {
   "cell_type": "code",
   "execution_count": 9,
   "id": "0b4f2788-a3d5-4f53-b1a4-95a729c1268b",
   "metadata": {},
   "outputs": [
    {
     "name": "stdout",
     "output_type": "stream",
     "text": [
      "ham\n",
      "spam\n",
      "spam\n"
     ]
    }
   ],
   "source": [
    "spam = 0\n",
    "if spam == 10:\n",
    "    print('eggs')\n",
    "if spam > 5:\n",
    "    print('bacon')\n",
    "else:\n",
    "    print('ham')\n",
    "print('spam')\n",
    "print('spam')"
   ]
  }
 ],
 "metadata": {
  "kernelspec": {
   "display_name": "Python 3 (ipykernel)",
   "language": "python",
   "name": "python3"
  },
  "language_info": {
   "codemirror_mode": {
    "name": "ipython",
    "version": 3
   },
   "file_extension": ".py",
   "mimetype": "text/x-python",
   "name": "python",
   "nbconvert_exporter": "python",
   "pygments_lexer": "ipython3",
   "version": "3.10.6"
  }
 },
 "nbformat": 4,
 "nbformat_minor": 5
}
