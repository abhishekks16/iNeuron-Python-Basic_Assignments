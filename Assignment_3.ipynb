{
 "cells": [
  {
   "cell_type": "markdown",
   "id": "14caec71-4be1-4501-8720-d51ca486aa26",
   "metadata": {},
   "source": [
    "Assignment link : https://drive.google.com/file/d/1vU3MvFrIILi8Ma57Ft0MzF_PzYxoIH5Y/view"
   ]
  },
  {
   "cell_type": "markdown",
   "id": "d27eb0e2-17d2-4349-8438-0ab676cc7438",
   "metadata": {},
   "source": [
    "1. Why are functions advantageous to have in your programs?\n",
    "```\n",
    "* Functions avoid duplication of code.\n",
    "* Helps to segregate the logic.\n",
    "* Using funtions makes program easier to read and easier to update.\n",
    "```"
   ]
  },
  {
   "cell_type": "markdown",
   "id": "b0f9b5a0-43f6-42ce-8a4d-f9272c1e752a",
   "metadata": {},
   "source": [
    "2. When does the code in a function run: when it's specified or when it's called ?\n",
    "```\n",
    "The function will run when it's called in the program.\n",
    "```"
   ]
  },
  {
   "cell_type": "markdown",
   "id": "0b356d31-44d1-487c-9bea-0c78b80cdec1",
   "metadata": {},
   "source": [
    "3. What statement creates a function?\n",
    "```\n",
    "In Python, def statement creates the function, \n",
    "For example : def <Fuction name> (param1, param2,...) : <Return type>\n",
    "```"
   ]
  },
  {
   "cell_type": "code",
   "execution_count": 1,
   "id": "f8a243a4-1a44-4a6a-90e2-ff39063348fc",
   "metadata": {},
   "outputs": [
    {
     "name": "stdout",
     "output_type": "stream",
     "text": [
      "Hello\n"
     ]
    }
   ],
   "source": [
    "def test_func():\n",
    "    print(\"Hello\")\n",
    "    \n",
    "test_func()"
   ]
  },
  {
   "cell_type": "markdown",
   "id": "a2ce5d1b-8245-421b-94c4-97755d500d36",
   "metadata": {},
   "source": [
    "4. What is the difference between a function and a function call?\n",
    "```\n",
    "* Function is block of code which contains some logic.\n",
    "* Whetever the function we created only be executed only after function call.\n",
    "```"
   ]
  },
  {
   "cell_type": "code",
   "execution_count": 2,
   "id": "2c004056-1872-4c0d-a8ce-7e10e08ed3ee",
   "metadata": {},
   "outputs": [
    {
     "name": "stdout",
     "output_type": "stream",
     "text": [
      "Hello\n"
     ]
    }
   ],
   "source": [
    "#Function\n",
    "def test_func():\n",
    "    print(\"Hello\")\n",
    "\n",
    "# Function call\n",
    "test_func()"
   ]
  },
  {
   "cell_type": "markdown",
   "id": "2ed82889-5906-4e83-a120-242591d6ed69",
   "metadata": {},
   "source": [
    "5. How many global scopes are there in a Python program? How many local scopes?\n",
    "```\n",
    "* There is only one global, whatever is outside of functions are global scopes.\n",
    "*  We can have as many local scopes, local scopes are specific to funtions, the varibales which are declar3d inside function are local scopes.\n",
    "```"
   ]
  },
  {
   "cell_type": "markdown",
   "id": "7ae8ef14-da76-4481-8e03-dbcf8209e77a",
   "metadata": {},
   "source": [
    "6. What happens to variables in a local scope when the function call returns?\n",
    "```\n",
    "When the cursor moved out of the function, the variables are destroyed from the memory.\n",
    "```"
   ]
  },
  {
   "cell_type": "markdown",
   "id": "4634205f-8e75-4dd5-8892-6b1f4e35e6b8",
   "metadata": {},
   "source": [
    "7. What is the concept of a return value? Is it possible to have a return value in an expression?\n",
    "```\n",
    "* A return statement is used to end the execution of the function call and “returns” \n",
    "the result (value of the expression following the return keyword) to the caller. \n",
    "* The statements after the return statements are not executed. \n",
    "* If the return statement is without any expression,then the special value None is returned.\n",
    "```"
   ]
  },
  {
   "cell_type": "code",
   "execution_count": 3,
   "id": "fc82e20b-b28f-42ef-ad72-f78ba7ed9fc3",
   "metadata": {},
   "outputs": [
    {
     "name": "stdin",
     "output_type": "stream",
     "text": [
      "Enter you name Abhi\n"
     ]
    },
    {
     "name": "stdout",
     "output_type": "stream",
     "text": [
      "Hello Abhi\n"
     ]
    }
   ],
   "source": [
    "name = input(\"Enter you name\")\n",
    "#Function\n",
    "def test_func(name):\n",
    "    return \"Hello \" + name\n",
    "\n",
    "# Function call\n",
    "result = test_func(name)\n",
    "\n",
    "print(result)"
   ]
  },
  {
   "cell_type": "markdown",
   "id": "13dbf2e1-2b8e-4da2-932f-75f5277bf7e3",
   "metadata": {},
   "source": [
    "8. If a function does not have a return statement, what is the return value of a call to that function?\n",
    "```\n",
    "# Function\n",
    "def test_func():\n",
    "    print(\"Hello\")\n",
    "\n",
    "# Function call\n",
    "test_func()\n",
    "If the return function does not have any return statemenet, then it will return None\n",
    "```"
   ]
  },
  {
   "cell_type": "code",
   "execution_count": 4,
   "id": "b30247a7-3a2f-4f6d-9ca6-9aa780d71b51",
   "metadata": {},
   "outputs": [
    {
     "name": "stdout",
     "output_type": "stream",
     "text": [
      "This funtion returns nothing\n",
      "\n",
      "None\n"
     ]
    }
   ],
   "source": [
    "# Function\n",
    "def test_func():\n",
    "    print(\"This funtion returns nothing\\n\")\n",
    "\n",
    "# Function call\n",
    "result = test_func()\n",
    "\n",
    "print(result)"
   ]
  },
  {
   "cell_type": "markdown",
   "id": "d7ceb428-fa21-4f3a-9e7c-a0dc21590c0a",
   "metadata": {},
   "source": [
    "9. How do you make a function variable refer to the global variable?\n",
    "```\n",
    "Inside function by using the keyword \"global\" before the variable. \n",
    "This will make the variable for global scope.\n",
    "```"
   ]
  },
  {
   "cell_type": "code",
   "execution_count": 5,
   "id": "428bab74-6698-4295-ad93-9cffdb092eb7",
   "metadata": {},
   "outputs": [
    {
     "name": "stdout",
     "output_type": "stream",
     "text": [
      "Python is test_global_value\n"
     ]
    }
   ],
   "source": [
    "def fun_name():\n",
    "    global x\n",
    "    x = \"test_global_value\"\n",
    "    \n",
    "fun_name()\n",
    "\n",
    "print(\"Python is \" + x)"
   ]
  },
  {
   "cell_type": "markdown",
   "id": "d01807df-55a6-4fa9-afbf-fc9189e81453",
   "metadata": {},
   "source": [
    "10. What is the data type of None?\n",
    "``` The data type of \"none\" is \"NoneType\" ```"
   ]
  },
  {
   "cell_type": "code",
   "execution_count": 6,
   "id": "c22b6396-e35a-42b6-8310-aa6531412d8c",
   "metadata": {},
   "outputs": [
    {
     "data": {
      "text/plain": [
       "NoneType"
      ]
     },
     "execution_count": 6,
     "metadata": {},
     "output_type": "execute_result"
    }
   ],
   "source": [
    "type(None)"
   ]
  },
  {
   "cell_type": "markdown",
   "id": "ffd3750b-c63c-4cdc-a9e9-c0736d8b4404",
   "metadata": {},
   "source": [
    "11. What does the sentence import areallyourpetsnamederic do?\n",
    "```This imports a module named areallyourpetsnamederic```"
   ]
  },
  {
   "cell_type": "markdown",
   "id": "db66e2a8-ce44-4b9e-a034-9e707dd34732",
   "metadata": {},
   "source": [
    "12. If you had a bacon() feature in a spam module, what would you call it after importing spam?\n",
    "```\n",
    "import spam\n",
    "\n",
    "spam.bacon()\n",
    "```"
   ]
  },
  {
   "cell_type": "markdown",
   "id": "af6da7c9-d15f-4235-a491-08a666aa461f",
   "metadata": {},
   "source": [
    "13. What can you do to save a programme from crashing if it encounters an error?\n",
    "```\n",
    "We can handle it by error handling techinique.\n",
    "Like adding the try/except block.\n",
    "try --> The try block lets you test a block of code for errors.\n",
    "except --> The except block lets you handle the error.\n",
    "```"
   ]
  },
  {
   "cell_type": "markdown",
   "id": "2a77774c-a736-4318-930c-8d401a9fe909",
   "metadata": {},
   "source": [
    "14. What is the purpose of the try clause? What is the purpose of the except clause?\n",
    "```\n",
    "try --> The try block lets you test a block of code for errors.\n",
    "except --> The except block lets you handle the error.\n",
    "```"
   ]
  }
 ],
 "metadata": {
  "kernelspec": {
   "display_name": "Python 3 (ipykernel)",
   "language": "python",
   "name": "python3"
  },
  "language_info": {
   "codemirror_mode": {
    "name": "ipython",
    "version": 3
   },
   "file_extension": ".py",
   "mimetype": "text/x-python",
   "name": "python",
   "nbconvert_exporter": "python",
   "pygments_lexer": "ipython3",
   "version": "3.10.6"
  }
 },
 "nbformat": 4,
 "nbformat_minor": 5
}
