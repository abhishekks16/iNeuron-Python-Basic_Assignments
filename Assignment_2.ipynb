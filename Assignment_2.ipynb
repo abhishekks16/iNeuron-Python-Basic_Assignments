{
 "cells": [
  {
   "cell_type": "markdown",
   "id": "2b35f9e7-63b0-480e-8f2b-d38b609ee729",
   "metadata": {},
   "source": [
    "Assignment link : https://drive.google.com/file/d/1eeRUJ1JzCWBWWPi9u3-q8ICJRSQwHUK8/view"
   ]
  },
  {
   "cell_type": "markdown",
   "id": "96d6e011-bca5-4dc9-b7b6-839ee2d39dfd",
   "metadata": {},
   "source": [
    "1.What are the two values of the Boolean data type? How do you write them?\n",
    "```\n",
    "True\n",
    "False\n",
    "```"
   ]
  },
  {
   "cell_type": "markdown",
   "id": "e2f0e028-2fad-470b-9763-bd0a0837e4e6",
   "metadata": {},
   "source": [
    "2. What are the three different types of Boolean operators?\n",
    "``` and, or, not ```"
   ]
  },
  {
   "cell_type": "markdown",
   "id": "d935153a-2c98-4b3d-a414-053efa874063",
   "metadata": {},
   "source": [
    "3. Make a list of each Boolean operator's truth tables (i.e. every possible combination of Boolean values for the operator and what it evaluate )."
   ]
  },
  {
   "cell_type": "markdown",
   "id": "acaa2837-0e31-4c6c-811e-f41a9dd7d356",
   "metadata": {},
   "source": [
    "* and\n",
    "```\n",
    "0 1 => 0\n",
    "1 0 => 0\n",
    "1 1 => 1\n",
    "0 0 => 0\n",
    "```\n",
    "* or\n",
    "```\n",
    "0 1 => 1\n",
    "1 0 => 1\n",
    "1 1 => 1\n",
    "0 0 => 0\n",
    "```\n",
    "* not\n",
    "```\n",
    "not 1 ==> 0\n",
    "not 0 ==> 1\n",
    "```"
   ]
  },
  {
   "cell_type": "markdown",
   "id": "7dbe82ab-3604-4ca0-a69a-2c74bf9a33de",
   "metadata": {},
   "source": [
    "4. What are the values of the following expressions?"
   ]
  },
  {
   "cell_type": "markdown",
   "id": "c53618fe-842b-4f89-9532-8309fa749761",
   "metadata": {},
   "source": [
    "```\n",
    "(5 > 4) and (3 == 5)                ==> False\n",
    "not (5 > 4)                         ==> False\n",
    "(5 > 4) or (3 == 5)                 ==> True\n",
    "not ((5 > 4) or (3 == 5))           ==> False\n",
    "(True and True) and (True == False) ==> False\n",
    "(not False) or (not True)           ==> True\n",
    "```"
   ]
  },
  {
   "cell_type": "code",
   "execution_count": 1,
   "id": "5e83b0d7-0ba7-4c1a-99f6-6677bb8ccc6c",
   "metadata": {},
   "outputs": [
    {
     "name": "stdout",
     "output_type": "stream",
     "text": [
      "False\n",
      "False\n",
      "True\n",
      "False\n",
      "False\n",
      "True\n"
     ]
    }
   ],
   "source": [
    "print((5 > 4) and (3 == 5))\n",
    "print(not (5 > 4))\n",
    "print((5 > 4) or (3 == 5))\n",
    "print(not ((5 > 4) or (3 == 5)))\n",
    "print((True and True) and (True == False))\n",
    "print((not False) or (not True))"
   ]
  },
  {
   "cell_type": "markdown",
   "id": "9cf36bf4-00d8-4407-889e-dc58818496de",
   "metadata": {},
   "source": [
    "5. What are the six comparison operators?\n",
    "``` ==, !=, >, <, >=, <= ```"
   ]
  },
  {
   "cell_type": "markdown",
   "id": "d46f69ea-33ab-490e-88d4-46e636cb8ba0",
   "metadata": {},
   "source": [
    "6. How do you tell the difference between the equal to and assignment operators? Describe a condition and when you would use one.\n",
    "```\n",
    "= : Equals (Used to assign data to variable) Ex : a = 10\n",
    "== : Double equals (used to compare the two values), returs either True or False Ex : a = 10 b = 5 , a == b ==> False\n",
    "```"
   ]
  },
  {
   "cell_type": "markdown",
   "id": "de56869b-ec44-4848-aacb-9abeeae98d21",
   "metadata": {},
   "source": [
    "7. Identify the three blocks in this code:\n",
    "```\n",
    "spam = 0\n",
    "if spam == 10:\n",
    "print('eggs')\n",
    "if spam &gt; 5:\n",
    "print('bacon')\n",
    "else:\n",
    "print('ham')\n",
    "print('spam')\n",
    "print('spam')\n",
    "```"
   ]
  },
  {
   "cell_type": "code",
   "execution_count": 2,
   "id": "2a5624c0-8ebe-4006-8ff6-ab56d9c86862",
   "metadata": {},
   "outputs": [
    {
     "name": "stdout",
     "output_type": "stream",
     "text": [
      "ham\n",
      "spam\n",
      "spam\n"
     ]
    }
   ],
   "source": [
    "spam = 0\n",
    "if spam == 10:\n",
    "    print('eggs')\n",
    "if spam > 5:\n",
    "    print('bacon')\n",
    "else:\n",
    "    print('ham')\n",
    "print('spam')\n",
    "print('spam')"
   ]
  },
  {
   "cell_type": "markdown",
   "id": "c5eec2a1-2c5a-4de9-9956-aa3b0dbdbcac",
   "metadata": {},
   "source": [
    "8. Write code that prints Hello if 1 is stored in spam, prints Howdy if 2 is stored in spam, and prints Greetings! if anything else is stored in spam."
   ]
  },
  {
   "cell_type": "code",
   "execution_count": 3,
   "id": "1bd0cfcc-8851-46bd-bc45-08448c82756c",
   "metadata": {},
   "outputs": [
    {
     "name": "stdout",
     "output_type": "stream",
     "text": [
      "Hello\n"
     ]
    }
   ],
   "source": [
    "# prints Hello when 1 is stored in spam\n",
    "spam = 1\n",
    "if spam == 1:\n",
    "    print('Hello')\n",
    "elif spam == 2 :\n",
    "    print('Howdy')\n",
    "else:\n",
    "    print('Greetings')"
   ]
  },
  {
   "cell_type": "code",
   "execution_count": 4,
   "id": "9c1c0040-2eb0-4fbd-bb1a-e0b1c8186ff1",
   "metadata": {},
   "outputs": [
    {
     "name": "stdout",
     "output_type": "stream",
     "text": [
      "Howdy\n"
     ]
    }
   ],
   "source": [
    "# prints Howdy when 1 is stored in spam\n",
    "spam = 2\n",
    "if spam == 1:\n",
    "    print('Hello')\n",
    "elif spam == 2 :\n",
    "    print('Howdy')\n",
    "else:\n",
    "    print('Greetings')"
   ]
  },
  {
   "cell_type": "code",
   "execution_count": 5,
   "id": "4dbff015-45f5-40c9-b0c4-366e243da3ea",
   "metadata": {},
   "outputs": [
    {
     "name": "stdout",
     "output_type": "stream",
     "text": [
      "Greetings\n"
     ]
    }
   ],
   "source": [
    "# prints Greetings when not 1 or 2 is stored in spam\n",
    "spam = 3\n",
    "if spam == 1:\n",
    "    print('Hello')\n",
    "elif spam == 2 :\n",
    "    print('Howdy')\n",
    "else:\n",
    "    print('Greetings')"
   ]
  },
  {
   "cell_type": "markdown",
   "id": "51161359-8434-43ff-b01a-826c9cfded22",
   "metadata": {},
   "source": [
    "9.If your programme is stuck in an endless loop, what keys you’ll press?\n",
    "``` Ctrl + C ```"
   ]
  },
  {
   "cell_type": "markdown",
   "id": "abf89132-be5e-46e1-a454-40aef0c2409b",
   "metadata": {},
   "source": [
    "10. How can you tell the difference between break and continue?\n",
    "```\n",
    "break : Break the iteration and cursor comes out of the loop\n",
    "continue :  It just skips the statements under continue in that particular iteration\n",
    "```"
   ]
  },
  {
   "cell_type": "markdown",
   "id": "f26a296b-4b49-429b-bfeb-e7bee7e18c65",
   "metadata": {},
   "source": [
    "11. In a for loop, what is the difference between range(10), range(0, 10), and range(0, 10, 1)?\n",
    "```\n",
    "range(10) => It's an range from 0 to 9 i.e Start = 0 ,End = 9\n",
    "range(0,10) => It's an range from 0 to 9 i.e Start = 0 ,End = 9 \n",
    "range(2,10) => It's an range from 2 to 9 i.e Start = 2 ,End = 9 \n",
    "range(0, 10, 1) => It's an range from 0 to 9 but increment by 2 i.e Start = 0 ,End = 9 , increment= 2 ==> Prints 0,2,4,6,8\n",
    "```"
   ]
  },
  {
   "cell_type": "markdown",
   "id": "d0a95ee0-8ebf-4c76-b7b9-129478172e56",
   "metadata": {},
   "source": [
    "12. Write a short program that prints the numbers 1 to 10 using a for loop. Then write an equivalent program that prints the numbers 1 to 10 using a while loop."
   ]
  },
  {
   "cell_type": "code",
   "execution_count": 6,
   "id": "5ede6208-e166-4e0a-9e04-2bdc8cbeb7e6",
   "metadata": {},
   "outputs": [
    {
     "name": "stdout",
     "output_type": "stream",
     "text": [
      "1\n",
      "2\n",
      "3\n",
      "4\n",
      "5\n",
      "6\n",
      "7\n",
      "8\n",
      "9\n",
      "10\n"
     ]
    }
   ],
   "source": [
    "for i in range(1,11):\n",
    "    print(i)"
   ]
  },
  {
   "cell_type": "code",
   "execution_count": 7,
   "id": "cd812b20-3327-40c5-ba33-8a8ad556c4ab",
   "metadata": {},
   "outputs": [
    {
     "name": "stdout",
     "output_type": "stream",
     "text": [
      "1\n",
      "2\n",
      "3\n",
      "4\n",
      "5\n",
      "6\n",
      "7\n",
      "8\n",
      "9\n",
      "10\n"
     ]
    }
   ],
   "source": [
    "value = 1\n",
    "while(value <=10):\n",
    "        print(value)\n",
    "        value = value + 1 # value += 1"
   ]
  },
  {
   "cell_type": "code",
   "execution_count": 8,
   "id": "0b0a21f6-b7b2-4624-abe4-f67d875c0822",
   "metadata": {},
   "outputs": [
    {
     "name": "stdout",
     "output_type": "stream",
     "text": [
      "0\n",
      "2\n",
      "4\n",
      "6\n",
      "8\n"
     ]
    }
   ],
   "source": [
    "for i in range(0,10,2):\n",
    "    print(i)"
   ]
  },
  {
   "cell_type": "markdown",
   "id": "20b0dd58-204b-4e64-98a6-0700eff35173",
   "metadata": {},
   "source": [
    "13. If you had a function named bacon() inside a module named spam, how would you call it after importing spam?\n",
    "Answer :\n",
    "```\n",
    "import spam\n",
    "\n",
    "spam.bacon()\n",
    "```"
   ]
  },
  {
   "cell_type": "code",
   "execution_count": null,
   "id": "aaacce30-d2fc-41c8-be9f-17dce0e242d5",
   "metadata": {},
   "outputs": [],
   "source": []
  }
 ],
 "metadata": {
  "kernelspec": {
   "display_name": "Python 3 (ipykernel)",
   "language": "python",
   "name": "python3"
  },
  "language_info": {
   "codemirror_mode": {
    "name": "ipython",
    "version": 3
   },
   "file_extension": ".py",
   "mimetype": "text/x-python",
   "name": "python",
   "nbconvert_exporter": "python",
   "pygments_lexer": "ipython3",
   "version": "3.10.6"
  }
 },
 "nbformat": 4,
 "nbformat_minor": 5
}
