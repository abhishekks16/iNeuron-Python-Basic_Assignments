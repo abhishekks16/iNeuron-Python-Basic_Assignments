{
 "cells": [
  {
   "cell_type": "markdown",
   "id": "be13f4d8-aba3-4f7a-a09b-27d47b7c466f",
   "metadata": {},
   "source": [
    "Assignemnet link : https://drive.google.com/file/d/1eeRUJ1JzCWBWWPi9u3-q8ICJRSQwHUK8/view"
   ]
  },
  {
   "cell_type": "markdown",
   "id": "a4ef7b23-5dc8-4a50-b9dd-a7918432f034",
   "metadata": {},
   "source": [
    "1.What are the two values of the Boolean data type? How do you write them?\n",
    "\n",
    "``` \n",
    "True\n",
    "False\n",
    "```"
   ]
  },
  {
   "cell_type": "markdown",
   "id": "81cece3a-318f-4b80-b290-b35907367077",
   "metadata": {},
   "source": [
    "2. What are the three different types of Boolean operators?\n",
    "``` and, or, not ```"
   ]
  },
  {
   "cell_type": "markdown",
   "id": "18a6f9a1-106a-4a61-828f-58013fd8f944",
   "metadata": {},
   "source": [
    "3. Make a list of each Boolean operator's truth tables (i.e. every possible combination of Boolean\n",
    "values for the operator and what it evaluate )."
   ]
  },
  {
   "cell_type": "markdown",
   "id": "13848f4c-276e-435a-be63-3c6a67850a70",
   "metadata": {},
   "source": [
    "* and\n",
    "```\n",
    "0 1 => 0\n",
    "1 0 => 0\n",
    "1 1 => 1\n",
    "0 0 => 0\n",
    "```\n",
    "* or\n",
    "```\n",
    "0 1 => 1\n",
    "1 0 => 1\n",
    "1 1 => 1\n",
    "0 0 => 0\n",
    "```\n",
    "* not\n",
    "```\n",
    "not 1 ==> 0\n",
    "not 0 ==> 1\n",
    "```\n"
   ]
  },
  {
   "cell_type": "markdown",
   "id": "e07d0402-1582-44fb-951b-e1671c2a1001",
   "metadata": {},
   "source": [
    "4. What are the values of the following expressions?"
   ]
  },
  {
   "cell_type": "markdown",
   "id": "3ccadd2e-be01-4d3a-aa57-efc61bdf0e8b",
   "metadata": {},
   "source": [
    "```\n",
    "(5 > 4) and (3 == 5)                ==> False\n",
    "not (5 > 4)                         ==> False\n",
    "(5 > 4) or (3 == 5)                 ==> True\n",
    "not ((5 > 4) or (3 == 5))           ==> False\n",
    "(True and True) and (True == False) ==> False\n",
    "(not False) or (not True)           ==> True\n",
    "```"
   ]
  },
  {
   "cell_type": "code",
   "execution_count": 1,
   "id": "b0d9d333-a176-4bf1-a1f0-f2acb1899f2d",
   "metadata": {},
   "outputs": [
    {
     "name": "stdout",
     "output_type": "stream",
     "text": [
      "False\n",
      "False\n",
      "True\n",
      "False\n",
      "False\n",
      "True\n"
     ]
    }
   ],
   "source": [
    "print((5 > 4) and (3 == 5))\n",
    "print(not (5 > 4))\n",
    "print((5 > 4) or (3 == 5))\n",
    "print(not ((5 > 4) or (3 == 5)))\n",
    "print((True and True) and (True == False))\n",
    "print((not False) or (not True))"
   ]
  },
  {
   "cell_type": "markdown",
   "id": "7e5ba2e7-7756-4dba-9301-23526ec295a0",
   "metadata": {},
   "source": [
    "5. What are the six comparison operators?\n",
    "\n",
    "``` ==, !=, >, <, >=, <= ```"
   ]
  },
  {
   "cell_type": "markdown",
   "id": "28f3acfe-954d-4f25-beb7-081d45f2c816",
   "metadata": {},
   "source": [
    "6. How do you tell the difference between the equal to and assignment operators? Describe a condition and when you would use one.\n",
    "```\n",
    "= : Equals (Used to assign data to variable) Ex : a = 10\n",
    "== : Double equals (used to compare the two values), returs either True or False Ex : a = 10 b = 5 , a == b ==> False\n",
    "```"
   ]
  },
  {
   "cell_type": "markdown",
   "id": "c8801dcb-2f24-430a-b849-f8ec9e8981e7",
   "metadata": {},
   "source": [
    "7. Identify the three blocks in this code:\n",
    "```\n",
    "spam = 0\n",
    "if spam == 10:\n",
    "print('eggs')\n",
    "if spam &gt; 5:\n",
    "print('bacon')\n",
    "else:\n",
    "print('ham')\n",
    "print('spam')\n",
    "print('spam')\n",
    "```"
   ]
  },
  {
   "cell_type": "code",
   "execution_count": 2,
   "id": "0b4f2788-a3d5-4f53-b1a4-95a729c1268b",
   "metadata": {},
   "outputs": [
    {
     "name": "stdout",
     "output_type": "stream",
     "text": [
      "ham\n",
      "spam\n",
      "spam\n"
     ]
    }
   ],
   "source": [
    "spam = 0\n",
    "if spam == 10:\n",
    "    print('eggs')\n",
    "if spam > 5:\n",
    "    print('bacon')\n",
    "else:\n",
    "    print('ham')\n",
    "print('spam')\n",
    "print('spam')"
   ]
  },
  {
   "cell_type": "markdown",
   "id": "6645f1f7-2cf0-47ca-8379-8fa4adf3ba50",
   "metadata": {},
   "source": [
    "8. Write code that prints Hello if 1 is stored in spam, prints Howdy if 2 is stored in spam, and prints Greetings! if anything else is stored in spam."
   ]
  },
  {
   "cell_type": "code",
   "execution_count": 3,
   "id": "981058be-ba51-4bd5-8334-79daba04c4a2",
   "metadata": {},
   "outputs": [
    {
     "name": "stdout",
     "output_type": "stream",
     "text": [
      "Hello\n"
     ]
    }
   ],
   "source": [
    "# prints Hello when 1 is stored in spam\n",
    "spam = 1\n",
    "if spam == 1:\n",
    "    print('Hello')\n",
    "elif spam == 2 :\n",
    "    print('Howdy')\n",
    "else:\n",
    "    print('Greetings')"
   ]
  },
  {
   "cell_type": "code",
   "execution_count": 4,
   "id": "24092a81-73bc-47bb-a57c-1fc9456d4da6",
   "metadata": {},
   "outputs": [
    {
     "name": "stdout",
     "output_type": "stream",
     "text": [
      "Howdy\n"
     ]
    }
   ],
   "source": [
    "# prints Howdy when 1 is stored in spam\n",
    "spam = 2\n",
    "if spam == 1:\n",
    "    print('Hello')\n",
    "elif spam == 2 :\n",
    "    print('Howdy')\n",
    "else:\n",
    "    print('Greetings')"
   ]
  },
  {
   "cell_type": "code",
   "execution_count": 5,
   "id": "e1940d66-71aa-4d63-9ef6-ce24f0198f64",
   "metadata": {},
   "outputs": [
    {
     "name": "stdout",
     "output_type": "stream",
     "text": [
      "Greetings\n"
     ]
    }
   ],
   "source": [
    "# prints Greetings when not 1 or 2 is stored in spam\n",
    "spam = 3\n",
    "if spam == 1:\n",
    "    print('Hello')\n",
    "elif spam == 2 :\n",
    "    print('Howdy')\n",
    "else:\n",
    "    print('Greetings')"
   ]
  },
  {
   "cell_type": "markdown",
   "id": "23a1c3a1-6a5c-4827-be49-b166f4104e32",
   "metadata": {},
   "source": [
    "9.If your programme is stuck in an endless loop, what keys you’ll press?\n",
    "\n",
    "``` Ctrl + C ```"
   ]
  },
  {
   "cell_type": "markdown",
   "id": "c4a32f5e-a38f-4ca3-9fd9-b11c0262288c",
   "metadata": {},
   "source": [
    "10. How can you tell the difference between break and continue?\n",
    "```\n",
    "break : Break the iteration and cursor comes out of the loop\n",
    "continue :  It just skips the statements under continue in that particular iteration\n",
    "```"
   ]
  },
  {
   "cell_type": "markdown",
   "id": "bc4d5029-9f48-478b-bfa9-dd59b2cc32d5",
   "metadata": {},
   "source": [
    "11. In a for loop, what is the difference between range(10), range(0, 10), and range(0, 10, 1)?\n",
    "```\n",
    "range(10) => It's an range from 0 to 9 i.e Start = 0 ,End = 9\n",
    "range(0,10) => It's an range from 0 to 9 i.e Start = 0 ,End = 9 \n",
    "range(2,10) => It's an range from 2 to 9 i.e Start = 2 ,End = 9 \n",
    "range(0, 10, 1) => It's an range from 0 to 9 but increment by 2 i.e Start = 0 ,End = 9 , increment= 2 ==> Prints 0,2,4,6,8\n",
    "```"
   ]
  },
  {
   "cell_type": "markdown",
   "id": "0dfe1929-b4d9-46c0-8dd5-f0316d1a4c52",
   "metadata": {},
   "source": [
    "12. Write a short program that prints the numbers 1 to 10 using a for loop. Then write an equivalent program that prints the numbers 1 to 10 using a while loop."
   ]
  },
  {
   "cell_type": "code",
   "execution_count": 6,
   "id": "d7868226-c1fd-454c-ab73-44eb7e337a69",
   "metadata": {},
   "outputs": [
    {
     "name": "stdout",
     "output_type": "stream",
     "text": [
      "1\n",
      "2\n",
      "3\n",
      "4\n",
      "5\n",
      "6\n",
      "7\n",
      "8\n",
      "9\n",
      "10\n"
     ]
    }
   ],
   "source": [
    "for i in range(1,11):\n",
    "    print(i)"
   ]
  },
  {
   "cell_type": "code",
   "execution_count": 7,
   "id": "451804df-ecda-4332-95f1-1c7fff1ccfd4",
   "metadata": {},
   "outputs": [
    {
     "name": "stdout",
     "output_type": "stream",
     "text": [
      "1\n",
      "2\n",
      "3\n",
      "4\n",
      "5\n",
      "6\n",
      "7\n",
      "8\n",
      "9\n",
      "10\n"
     ]
    }
   ],
   "source": [
    "value = 1\n",
    "while(value <=10):\n",
    "        print(value)\n",
    "        value = value + 1 # value += 1"
   ]
  },
  {
   "cell_type": "code",
   "execution_count": 8,
   "id": "1a4aee80-c3c7-45e6-a645-f2861497d28f",
   "metadata": {},
   "outputs": [
    {
     "name": "stdout",
     "output_type": "stream",
     "text": [
      "0\n",
      "2\n",
      "4\n",
      "6\n",
      "8\n"
     ]
    }
   ],
   "source": [
    "for i in range(0,10,2):\n",
    "    print(i)"
   ]
  },
  {
   "cell_type": "markdown",
   "id": "fc48a763-c465-494f-b891-f95fd4b56d00",
   "metadata": {},
   "source": [
    "13. If you had a function named bacon() inside a module named spam, how would you call it after importing spam?\n",
    "\n",
    "Answer :\n",
    "``` \n",
    "import spam\n",
    "\n",
    "spam.bacon()\n",
    "```"
   ]
  },
  {
   "cell_type": "code",
   "execution_count": null,
   "id": "1e5e2d23-d136-497d-8929-9da01b7293a4",
   "metadata": {},
   "outputs": [],
   "source": []
  },
  {
   "cell_type": "code",
   "execution_count": null,
   "id": "88678654-1b17-4c7f-b7c7-0ed59db956bb",
   "metadata": {},
   "outputs": [],
   "source": []
  }
 ],
 "metadata": {
  "kernelspec": {
   "display_name": "Python 3 (ipykernel)",
   "language": "python",
   "name": "python3"
  },
  "language_info": {
   "codemirror_mode": {
    "name": "ipython",
    "version": 3
   },
   "file_extension": ".py",
   "mimetype": "text/x-python",
   "name": "python",
   "nbconvert_exporter": "python",
   "pygments_lexer": "ipython3",
   "version": "3.10.6"
  }
 },
 "nbformat": 4,
 "nbformat_minor": 5
}
