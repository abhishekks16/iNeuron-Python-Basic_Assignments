{
 "cells": [
  {
   "cell_type": "markdown",
   "id": "3a13ae90-380b-4b63-9818-cbfd2dc4505d",
   "metadata": {},
   "source": [
    "```\n",
    "1. What is the role of try and exception block?\n",
    "```"
   ]
  },
  {
   "cell_type": "code",
   "execution_count": null,
   "id": "a69d5979-9be8-4966-9894-59ee19110821",
   "metadata": {},
   "outputs": [],
   "source": [
    "'''\n",
    "try: While doing any operations if any runtime error occurs in the code, instead of breaking the progrram which is running \n",
    "     it will stop the operation and pass the error to the exception block.\n",
    "\n",
    "exception : Whatever the error thrown from try block is handled in the exception block which logs/displays \n",
    "            the error message instead of breaking/stopping the program.\n",
    "'''\n",
    "print()"
   ]
  },
  {
   "cell_type": "markdown",
   "id": "e74e2b88-eb4b-4059-bd7e-fb124e5d57d9",
   "metadata": {},
   "source": [
    "```\n",
    "2. What is the syntax for a basic try-except block?\n",
    "```"
   ]
  },
  {
   "cell_type": "code",
   "execution_count": null,
   "id": "a0abbd8b-d1f0-4cb1-b931-c588a1d6b4b4",
   "metadata": {},
   "outputs": [],
   "source": [
    "# Syntax\n",
    "'''\n",
    "try:\n",
    "    # Any operation or logic\n",
    "except ZeroDivisionError:\n",
    "    # logs/prints the exception    \n",
    "'''\n",
    "\n",
    "# Example\n",
    "num1 = 10\n",
    "num2 = 0\n",
    "try:\n",
    "    # Any operation or logic\n",
    "    res = num1 / num2 \n",
    "except ZeroDivisionError:\n",
    "    # logs/prints the exception\n",
    "    print(\"Cannot divide number by zero\")"
   ]
  },
  {
   "cell_type": "markdown",
   "id": "89016eb6-2d1f-42ef-a3d2-cda50ec37610",
   "metadata": {},
   "source": [
    "```\n",
    "3. What happens if an exception occurs inside a try block and there is no matching except block?\n",
    "```"
   ]
  },
  {
   "cell_type": "code",
   "execution_count": null,
   "id": "ca7b9d81-d29b-4985-b749-4164b45fb934",
   "metadata": {},
   "outputs": [],
   "source": [
    "'''\n",
    "If there are no matching except block , the program will break/stop.\n",
    "To avoid this we can use the base Exception in the except which catches all kinds of errors if no matching block is found.\n",
    "Note : Order of except block matters.\n",
    "'''\n",
    "\n",
    "num1 = 10\n",
    "num2 = 0\n",
    "try:\n",
    "    # Any operation or logic\n",
    "    res = num1 / num2 \n",
    "except TypeError:\n",
    "    # logs/prints the exception\n",
    "    print(\"Mismatch of the datatype\")\n",
    "except ValueError:\n",
    "    print(\"The entered value is not Integer\")\n",
    "except Exception:\n",
    "    print(\"Exception occured during the operation\")\n",
    "# Though we have ZeroDivisionError, this won't get executed because this is below the base Exception\n",
    "except ZeroDivisionError:\n",
    "    print(\"Cannot divide number by zero\")"
   ]
  },
  {
   "cell_type": "markdown",
   "id": "6450d939-0b39-4920-b07f-35a9947f42a5",
   "metadata": {},
   "source": [
    "```\n",
    "4. What is the difference between using a bare except block and specifying a specific exception type?\n",
    "```"
   ]
  },
  {
   "cell_type": "code",
   "execution_count": null,
   "id": "311e51eb-35b4-472f-8322-986830fe99fa",
   "metadata": {},
   "outputs": [],
   "source": [
    "'''\n",
    "bare except block : Suppose if there is no matching except block, the bare except block will get execute.\n",
    "Note : This except should be kept at the last.\n",
    "\n",
    "matching except block : When error finds the matching except block it executes the logic inside it and skip the below except blocks if there are any.\n",
    "'''\n",
    "\n",
    "num1 = 10\n",
    "num2 = 0\n",
    "try:\n",
    "    # Any operation or logic\n",
    "    res = num1 / num2 \n",
    "except TypeError:\n",
    "    # logs/prints the exception\n",
    "    print(\"Mismatch of the datatype\")\n",
    "except ValueError:\n",
    "    print(\"The entered value is not Integer\")\n",
    "# Bare except block which gets executed if no matching except blocks are found. This should be at the last.\n",
    "except:\n",
    "    print(\"Exception occured during the operation\")"
   ]
  },
  {
   "cell_type": "markdown",
   "id": "273ee63a-10fa-4a9f-ab7c-f02d74c5d646",
   "metadata": {},
   "source": [
    "```\n",
    "5. Can you have nested try-except blocks in Python? If yes, then give an example.\n",
    "```"
   ]
  },
  {
   "cell_type": "code",
   "execution_count": null,
   "id": "c2a1b425-5c22-421f-8b1a-b4f9c3739b03",
   "metadata": {},
   "outputs": [],
   "source": [
    "num1 = 10\n",
    "num2 = 0\n",
    "try:\n",
    "    print(\"This is Outer try block\")\n",
    "    try:\n",
    "        print(\"Exception is occuring in the nested try block\")\n",
    "        # Any operation or logic\n",
    "        res = num1 / num2\n",
    "    except ZeroDivisionError:\n",
    "        print(\"Cannot divide number by zero, nested except block\")\n",
    "except:\n",
    "    print(\"Exception to catch for the top try block\")"
   ]
  },
  {
   "cell_type": "markdown",
   "id": "6400dc0c-7116-42bb-9246-2c17436bb50d",
   "metadata": {},
   "source": [
    "```\n",
    "6. Can we use multiple exception blocks, if yes then give an example.\n",
    "```"
   ]
  },
  {
   "cell_type": "code",
   "execution_count": null,
   "id": "e0c7e673-c613-4309-b238-4c1769dd5eaf",
   "metadata": {},
   "outputs": [],
   "source": [
    "'''\n",
    "Yes, we can have multiple exception blocks.\n",
    "'''\n",
    "\n",
    "num1 = 10\n",
    "num2 = 0\n",
    "try:\n",
    "    # Any operation or logic\n",
    "    res = num1 / num2 \n",
    "except TypeError:\n",
    "    # logs/prints the exception\n",
    "    print(\"Mismatch of the datatype\")\n",
    "except ValueError:\n",
    "    print(\"The entered value is not Integer\")\n",
    "except Exception:\n",
    "    print(\"Exception occured during the operation\")\n",
    "# Though we have ZeroDivisionError, this won't get executed because this is below the base Exception\n",
    "except ZeroDivisionError:\n",
    "    print(\"Cannot divide number by zero\")"
   ]
  },
  {
   "cell_type": "markdown",
   "id": "d718c4dd-a5f7-4535-9c22-42379d152f35",
   "metadata": {},
   "source": [
    "```\n",
    "7. Write the reason due to which following errors are raised:\n",
    "a. EOFError\n",
    "b. FloatingPointError\n",
    "c. IndexError\n",
    "d. MemoryError\n",
    "e. OverflowError\n",
    "f. TabError\n",
    "g. ValueError\n",
    "```"
   ]
  },
  {
   "cell_type": "code",
   "execution_count": null,
   "id": "c44f7fd6-cca6-46b2-a1af-c7ac904e1c9d",
   "metadata": {},
   "outputs": [],
   "source": [
    "'''\n",
    "* EOFError : This error is raised when the input() function hits the end-of-file condition\n",
    "* FloatingPointError : This error is raised when a floating-point operation fails to produce a valid result.\n",
    "* IndexError: This error is raised when an invalid index is used to access an element in a sequence, such as a list or a string.\n",
    "* MemoryError: This error is raised when the Python interpreter cannot allocate enough memory to perform an operation.\n",
    "* OverflowError: This error is raised when the result of an arithmetic operation exceeds the maximum representable value for a numeric type.\n",
    "* TabError/IndentationError: This error is raised when there are inconsistencies or incorrect usage of indentation in Python code.\n",
    "* ValueError: This error is raised when a function receives an argument of the correct type but an inappropriate value.\n",
    "'''\n",
    "print()"
   ]
  },
  {
   "cell_type": "markdown",
   "id": "3e55fc58-b7b8-4087-87ae-6cb02e997707",
   "metadata": {},
   "source": [
    "```\n",
    "8. Write code for the following given scenario and add try-exception block to it.\n",
    "a. Program to divide two numbers\n",
    "b. Program to convert a string to an integer\n",
    "c. Program to access an element in a list\n",
    "d. Program to handle a specific exception\n",
    "e. Program to handle any exception\n",
    "```"
   ]
  },
  {
   "cell_type": "code",
   "execution_count": null,
   "id": "b6a6e782-73ca-4f9e-8c56-7281a5631c15",
   "metadata": {},
   "outputs": [],
   "source": [
    "# Program to divide two numbers\n",
    "\n",
    "num1 = int(input(\"Enter number 1 :\"))\n",
    "num2 = int(input(\"Enter number 2 :\"))\n",
    "try:\n",
    "    res = num1/num2\n",
    "    print(f\"Result is {res}\")\n",
    "except ZeroDivisionError:\n",
    "    print(\"Cannot divide number by zero\")"
   ]
  },
  {
   "cell_type": "code",
   "execution_count": null,
   "id": "e1b8f80c-3401-404e-95f5-294f23cd5c78",
   "metadata": {},
   "outputs": [],
   "source": [
    "# Program to convert a string to an integer\n",
    "user_input = input(\"Enter the number\")\n",
    "try:\n",
    "    # convert the string to int\n",
    "    convert_user_input_to_int = int(user_input)\n",
    "    print(f\"Before string : {user_input} - type : {type(user_input)} ::::: After int : {convert_user_input_to_int} - type : {type(convert_user_input_to_int)}\")\n",
    "except ValueError:\n",
    "    print(\"The entered value is not number, so failed to convert from string to int\")"
   ]
  },
  {
   "cell_type": "code",
   "execution_count": null,
   "id": "5b451a4b-a42d-4edd-baf9-9be1f6950516",
   "metadata": {},
   "outputs": [],
   "source": [
    "# Program to access an element in a list\n",
    "num_list = [1,2,3,4]\n",
    "index = int(input(f\"Enter the index of list within 0 to {len(num_list) - 1} to access data\"))\n",
    "\n",
    "try:\n",
    "    value = num_list[index]\n",
    "    print(f\"The list contains data of {value} at index {index}\")\n",
    "except IndexError:\n",
    "    print(f\"The entered index : {index} is out-of-range\")"
   ]
  },
  {
   "cell_type": "code",
   "execution_count": null,
   "id": "5e62ba32-76d2-47ee-b807-0eb55c69c5e1",
   "metadata": {},
   "outputs": [],
   "source": [
    "#  Program to handle a specific exception\n",
    "number_1 = int(input(\"Enter number 1 : \"))\n",
    "number_2 = input(\"Enter number 2 : \")\n",
    "\n",
    "try:\n",
    "    # This will create TypeError, because here we are trying to add int + string datatype\n",
    "    number_1 + number_2\n",
    "except TypeError:\n",
    "    print(\"Mismatch in datatype\")"
   ]
  },
  {
   "cell_type": "code",
   "execution_count": null,
   "id": "e89a61c0-9f8f-4fc3-bd83-9e45a549fbec",
   "metadata": {},
   "outputs": [],
   "source": [
    "# Program to handle any exception\n",
    "dict_city = {\"Karnataka\":\"Bengaluru\",\"Kerala\":\"Kochin\"}\n",
    "state_name = input(\"Enter state name to know the capital of it :\")\n",
    "try:\n",
    "    capital_name = dict_city[state_name]\n",
    "    print(f\"{capital_name} is the capital of {state_name} state \")\n",
    "except:\n",
    "    print(f\"Something went wrong while finding the capital of state : {state_name}\")"
   ]
  },
  {
   "cell_type": "code",
   "execution_count": null,
   "id": "97ea9f24-8052-4c28-bd61-33cc724c4dbe",
   "metadata": {},
   "outputs": [],
   "source": []
  }
 ],
 "metadata": {
  "kernelspec": {
   "display_name": "Python 3 (ipykernel)",
   "language": "python",
   "name": "python3"
  },
  "language_info": {
   "codemirror_mode": {
    "name": "ipython",
    "version": 3
   },
   "file_extension": ".py",
   "mimetype": "text/x-python",
   "name": "python",
   "nbconvert_exporter": "python",
   "pygments_lexer": "ipython3",
   "version": "3.10.6"
  }
 },
 "nbformat": 4,
 "nbformat_minor": 5
}
